{
 "cells": [
  {
   "cell_type": "markdown",
   "metadata": {},
   "source": [
    "## LSTM과 CNN의 조합을 이용한 IMDB 영화 리뷰 감성 분류\n",
    "- 모든 단어가 아닌 빈도수 5000 까지\n",
    "- 모든 문장이 아니라 100 단어까지\n",
    "- Embedding 벡터는 120 차원"
   ]
  },
  {
   "cell_type": "code",
   "execution_count": 1,
   "metadata": {},
   "outputs": [
    {
     "name": "stderr",
     "output_type": "stream",
     "text": [
      "Using TensorFlow backend.\n"
     ]
    }
   ],
   "source": [
    "import numpy as np\n",
    "import matplotlib.pyplot as plt\n",
    "%matplotlib inline\n",
    "\n",
    "from tensorflow import keras\n",
    "from keras.datasets import imdb"
   ]
  },
  {
   "cell_type": "code",
   "execution_count": 2,
   "metadata": {},
   "outputs": [],
   "source": [
    "from keras.models import Sequential\n",
    "from keras.layers import Dense, Dropout, Conv1D\n",
    "from keras.layers import Embedding, LSTM, MaxPooling1D\n",
    "from keras.preprocessing.sequence import pad_sequences"
   ]
  },
  {
   "cell_type": "code",
   "execution_count": 3,
   "metadata": {},
   "outputs": [],
   "source": [
    "# 등장 빈도가 5,000번째까지의 단어들만 사용\n",
    "(X_train, y_train), (X_test, y_test) = imdb.load_data(num_words=5000)"
   ]
  },
  {
   "cell_type": "code",
   "execution_count": 4,
   "metadata": {},
   "outputs": [],
   "source": [
    "# 모델의 입력으로 사용하는 모든 리뷰의 길이를 동일하게 500으로 맞춤\n",
    "max_len=500\n",
    "X_train = pad_sequences(X_train, maxlen=max_len)\n",
    "X_test = pad_sequences(X_test, maxlen=max_len)"
   ]
  },
  {
   "cell_type": "code",
   "execution_count": 5,
   "metadata": {},
   "outputs": [
    {
     "name": "stdout",
     "output_type": "stream",
     "text": [
      "Model: \"sequential_1\"\n",
      "_________________________________________________________________\n",
      "Layer (type)                 Output Shape              Param #   \n",
      "=================================================================\n",
      "embedding_1 (Embedding)      (None, None, 120)         600000    \n",
      "_________________________________________________________________\n",
      "dropout_1 (Dropout)          (None, None, 120)         0         \n",
      "_________________________________________________________________\n",
      "conv1d_1 (Conv1D)            (None, None, 64)          38464     \n",
      "_________________________________________________________________\n",
      "max_pooling1d_1 (MaxPooling1 (None, None, 64)          0         \n",
      "_________________________________________________________________\n",
      "lstm_1 (LSTM)                (None, 55)                26400     \n",
      "_________________________________________________________________\n",
      "dense_1 (Dense)              (None, 1)                 56        \n",
      "=================================================================\n",
      "Total params: 664,920\n",
      "Trainable params: 664,920\n",
      "Non-trainable params: 0\n",
      "_________________________________________________________________\n"
     ]
    }
   ],
   "source": [
    "# LSTM, CNN 모델\n",
    "model = Sequential()\n",
    "model.add(Embedding(5000, 120))\n",
    "model.add(Dropout(0.5)) \n",
    "model.add(Conv1D(64, 5, padding='valid', activation='relu', strides=1))\n",
    "model.add(MaxPooling1D(pool_size=4))\n",
    "model.add(LSTM(55))\n",
    "model.add(Dense(1, activation='sigmoid'))\n",
    "model.summary()"
   ]
  },
  {
   "cell_type": "code",
   "execution_count": 6,
   "metadata": {},
   "outputs": [],
   "source": [
    "# 모델의 컴파일\n",
    "model.compile(loss='binary_crossentropy',\n",
    "              optimizer='adam',\n",
    "              metrics=['accuracy'])"
   ]
  },
  {
   "cell_type": "code",
   "execution_count": 7,
   "metadata": {},
   "outputs": [],
   "source": [
    "from keras.callbacks import ModelCheckpoint, EarlyStopping\n",
    "es = EarlyStopping(monitor='val_loss', mode='min', verbose=1, patience=4)\n",
    "mc = ModelCheckpoint('model/imdb_cnn_best_model.h5', monitor='val_accuracy', \n",
    "                     verbose=1, mode='max', save_best_only=True)"
   ]
  },
  {
   "cell_type": "code",
   "execution_count": 8,
   "metadata": {},
   "outputs": [
    {
     "name": "stderr",
     "output_type": "stream",
     "text": [
      "C:\\ProgramData\\Anaconda3\\envs\\tf2\\lib\\site-packages\\tensorflow_core\\python\\framework\\indexed_slices.py:433: UserWarning: Converting sparse IndexedSlices to a dense Tensor of unknown shape. This may consume a large amount of memory.\n",
      "  \"Converting sparse IndexedSlices to a dense Tensor of unknown shape. \"\n"
     ]
    },
    {
     "name": "stdout",
     "output_type": "stream",
     "text": [
      "Train on 25000 samples, validate on 25000 samples\n",
      "Epoch 1/5\n",
      "25000/25000 [==============================] - 62s 2ms/step - loss: 0.3943 - accuracy: 0.8076 - val_loss: 0.2691 - val_accuracy: 0.8884\n",
      "\n",
      "Epoch 00001: val_accuracy improved from -inf to 0.88840, saving model to model/imdb_cnn_best_model.h5\n",
      "Epoch 2/5\n",
      "25000/25000 [==============================] - 63s 3ms/step - loss: 0.2278 - accuracy: 0.9124 - val_loss: 0.2684 - val_accuracy: 0.8898\n",
      "\n",
      "Epoch 00002: val_accuracy improved from 0.88840 to 0.88984, saving model to model/imdb_cnn_best_model.h5\n",
      "Epoch 3/5\n",
      "25000/25000 [==============================] - 64s 3ms/step - loss: 0.1846 - accuracy: 0.9301 - val_loss: 0.2735 - val_accuracy: 0.8872\n",
      "\n",
      "Epoch 00003: val_accuracy did not improve from 0.88984\n",
      "Epoch 4/5\n",
      "25000/25000 [==============================] - 63s 3ms/step - loss: 0.1509 - accuracy: 0.9450 - val_loss: 0.3136 - val_accuracy: 0.8852\n",
      "\n",
      "Epoch 00004: val_accuracy did not improve from 0.88984\n",
      "Epoch 5/5\n",
      "25000/25000 [==============================] - 63s 3ms/step - loss: 0.1227 - accuracy: 0.9569 - val_loss: 0.3214 - val_accuracy: 0.8839\n",
      "\n",
      "Epoch 00005: val_accuracy did not improve from 0.88984\n"
     ]
    }
   ],
   "source": [
    "history = model.fit(X_train, y_train, validation_data=(X_test, y_test), epochs=5,\n",
    "                    batch_size=64, callbacks=[mc, es])"
   ]
  },
  {
   "cell_type": "code",
   "execution_count": 9,
   "metadata": {},
   "outputs": [
    {
     "name": "stderr",
     "output_type": "stream",
     "text": [
      "C:\\ProgramData\\Anaconda3\\envs\\tf2\\lib\\site-packages\\tensorflow_core\\python\\framework\\indexed_slices.py:433: UserWarning: Converting sparse IndexedSlices to a dense Tensor of unknown shape. This may consume a large amount of memory.\n",
      "  \"Converting sparse IndexedSlices to a dense Tensor of unknown shape. \"\n"
     ]
    }
   ],
   "source": [
    "# Best Model 선택\n",
    "from keras.models import load_model\n",
    "del model\n",
    "model = load_model('model/imdb_cnn_best_model.h5')"
   ]
  },
  {
   "cell_type": "code",
   "execution_count": 10,
   "metadata": {},
   "outputs": [
    {
     "name": "stdout",
     "output_type": "stream",
     "text": [
      "\n",
      " 테스트 정확도: 0.8898\n"
     ]
    }
   ],
   "source": [
    "print(\"\\n 테스트 정확도: %.4f\" % (model.evaluate(X_test, y_test, verbose=2)[1]))"
   ]
  },
  {
   "cell_type": "code",
   "execution_count": 11,
   "metadata": {},
   "outputs": [],
   "source": [
    "# 테스트셋\n",
    "y_vloss = history.history['val_loss']\n",
    "y_vacc = history.history['val_accuracy']\n",
    "# 학습셋\n",
    "y_loss = history.history['loss']\n",
    "y_acc = history.history['accuracy']"
   ]
  },
  {
   "cell_type": "code",
   "execution_count": 12,
   "metadata": {},
   "outputs": [
    {
     "data": {
      "image/png": "[encoded data removed]",
      "text/plain": [
       "<Figure size 720x576 with 2 Axes>"
      ]
     },
     "metadata": {
      "needs_background": "light"
     },
     "output_type": "display_data"
    }
   ],
   "source": [
    "x_len = np.arange(1, len(y_loss)+1)\n",
    "fig, ax0 = plt.subplots(figsize=(10,8))\n",
    "ax1 = ax0.twinx()\n",
    "ax0.plot(x_len, y_loss, c=\"blue\", label='Trainset_loss')\n",
    "ax0.plot(x_len, y_vloss, c=\"red\", label='Testset_loss')\n",
    "ax0.set_ylabel('loss')\n",
    "ax1.plot(x_len, y_acc, c=\"darkgreen\", label='Trainset_acc')\n",
    "ax1.plot(x_len, y_vacc, c=\"magenta\", label='Testset_acc')\n",
    "ax1.set_ylabel('accuracy')\n",
    "ax0.set_xlabel('epoch')\n",
    "ax0.legend(loc='lower center')\n",
    "ax1.legend(loc='upper center')\n",
    "plt.grid()\n",
    "plt.show()"
   ]
  },
  {
   "cell_type": "code",
   "execution_count": null,
   "metadata": {},
   "outputs": [],
   "source": []
  }
 ],
 "metadata": {
  "kernelspec": {
   "display_name": "Python 3",
   "language": "python",
   "name": "python3"
  },
  "language_info": {
   "codemirror_mode": {
    "name": "ipython",
    "version": 3
   },
   "file_extension": ".py",
   "mimetype": "text/x-python",
   "name": "python",
   "nbconvert_exporter": "python",
   "pygments_lexer": "ipython3",
   "version": "3.7.7"
  }
 },
 "nbformat": 4,
 "nbformat_minor": 2
}
