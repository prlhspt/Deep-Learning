{
 "cells": [
  {
   "cell_type": "markdown",
   "metadata": {},
   "source": [
    "# 순환 신경망 - 나비야\n",
    "#### 출처: [순환 신경망 모델 만들어보기](https://tykimos.github.io/2017/04/09/RNN_Layer_Talk/)"
   ]
  },
  {
   "cell_type": "markdown",
   "metadata": {},
   "source": [
    "## 상태유지 LSTM 모델\n",
    "- 상태유지 모드에서는 현재 샘플의 학습 상태가 다음 샘플의 초기 상태로 전달된다."
   ]
  },
  {
   "cell_type": "code",
   "execution_count": 2,
   "metadata": {},
   "outputs": [],
   "source": [
    "# 사용할 패키지 불러오기\n",
    "import numpy as np\n",
    "from tensorflow.keras.models import Sequential\n",
    "from tensorflow.keras.layers import Dense, LSTM\n",
    "from tensorflow.keras.utils import to_categorical\n",
    "from tensorflow.keras.callbacks import Callback"
   ]
  },
  {
   "cell_type": "code",
   "execution_count": 3,
   "metadata": {},
   "outputs": [],
   "source": [
    "# 랜덤시드 고정시키기\n",
    "np.random.seed(5)"
   ]
  },
  {
   "cell_type": "code",
   "execution_count": 4,
   "metadata": {},
   "outputs": [],
   "source": [
    "# 데이터셋 생성 함수        \n",
    "def seq2dataset(seq, window_size):\n",
    "    dataset = []\n",
    "    for i in range(len(seq)-window_size):\n",
    "        subset = seq[i:(i+window_size+1)]\n",
    "        dataset.append([code2idx[item] for item in subset])\n",
    "    return np.array(dataset)"
   ]
  },
  {
   "cell_type": "code",
   "execution_count": 5,
   "metadata": {},
   "outputs": [],
   "source": [
    "# 데이터 준비하기\n",
    "\n",
    "# 코드 사전 정의\n",
    "code2idx = {'c4':0, 'd4':1, 'e4':2, 'f4':3, 'g4':4, 'a4':5, 'b4':6,\n",
    "            'c8':7, 'd8':8, 'e8':9, 'f8':10, 'g8':11, 'a8':12, 'b8':13}\n",
    "idx2code = {0:'c4', 1:'d4', 2:'e4', 3:'f4', 4:'g4', 5:'a4', 6:'b4',\n",
    "            7:'c8', 8:'d8', 9:'e8', 10:'f8', 11:'g8', 12:'a8', 13:'b8'}"
   ]
  },
  {
   "cell_type": "code",
   "execution_count": 6,
   "metadata": {},
   "outputs": [],
   "source": [
    "# 시퀀스 데이터 정의\n",
    "seq = ['g8', 'e8', 'e4', 'f8', 'd8', 'd4', 'c8', 'd8', 'e8', 'f8', 'g8', 'g8', 'g4',\n",
    "       'g8', 'e8', 'e8', 'e8', 'f8', 'd8', 'd4', 'c8', 'e8', 'g8', 'g8', 'e8', 'e8', 'e4',\n",
    "       'd8', 'd8', 'd8', 'd8', 'd8', 'e8', 'f4', 'e8', 'e8', 'e8', 'e8', 'e8', 'f8', 'g4',\n",
    "       'g8', 'e8', 'e4', 'f8', 'd8', 'd4', 'c8', 'e8', 'g8', 'g8', 'e8', 'e8', 'e4']"
   ]
  },
  {
   "cell_type": "code",
   "execution_count": 7,
   "metadata": {},
   "outputs": [
    {
     "data": {
      "text/plain": [
       "(50, 5)"
      ]
     },
     "execution_count": 7,
     "metadata": {},
     "output_type": "execute_result"
    }
   ],
   "source": [
    "# 데이터셋 생성하기\n",
    "dataset = seq2dataset(seq, window_size = 4)\n",
    "dataset.shape"
   ]
  },
  {
   "cell_type": "code",
   "execution_count": 8,
   "metadata": {},
   "outputs": [],
   "source": [
    "# 입력(X)과 출력(Y) 변수로 분리하기\n",
    "x_train = dataset[:,0:4]\n",
    "y_train = dataset[:,4]\n",
    "\n",
    "MAX_IDX_VALUE = 13"
   ]
  },
  {
   "cell_type": "code",
   "execution_count": 9,
   "metadata": {},
   "outputs": [
    {
     "data": {
      "text/plain": [
       "(50, 4)"
      ]
     },
     "execution_count": 9,
     "metadata": {},
     "output_type": "execute_result"
    }
   ],
   "source": [
    "# 입력값 정규화 시키기\n",
    "x_train = x_train / float(MAX_IDX_VALUE)\n",
    "x_train.shape"
   ]
  },
  {
   "cell_type": "code",
   "execution_count": 10,
   "metadata": {},
   "outputs": [],
   "source": [
    "# 입력을 (샘플 수, 타입스텝, 특성 수)로 형태 변환\n",
    "x_train = np.reshape(x_train, (50, 4, 1))"
   ]
  },
  {
   "cell_type": "code",
   "execution_count": 11,
   "metadata": {},
   "outputs": [
    {
     "data": {
      "text/plain": [
       "12"
      ]
     },
     "execution_count": 11,
     "metadata": {},
     "output_type": "execute_result"
    }
   ],
   "source": [
    "# 라벨값에 대한 one-hot 인코딩 수행\n",
    "y_train = to_categorical(y_train)\n",
    "one_hot_vec_size = y_train.shape[1]\n",
    "one_hot_vec_size"
   ]
  },
  {
   "cell_type": "code",
   "execution_count": 12,
   "metadata": {},
   "outputs": [],
   "source": [
    "# 손실 이력 클래스 정의\n",
    "class LossHistory(Callback):\n",
    "    def init(self):\n",
    "        self.losses = []\n",
    "        \n",
    "    def on_epoch_end(self, batch, logs={}):\n",
    "        self.losses.append(logs.get('loss'))"
   ]
  },
  {
   "cell_type": "code",
   "execution_count": 13,
   "metadata": {},
   "outputs": [
    {
     "name": "stdout",
     "output_type": "stream",
     "text": [
      "WARNING:tensorflow:From C:\\Users\\ckkim\\.conda\\envs\\tf2\\lib\\site-packages\\tensorflow_core\\python\\ops\\resource_variable_ops.py:1630: calling BaseResourceVariable.__init__ (from tensorflow.python.ops.resource_variable_ops) with constraint is deprecated and will be removed in a future version.\n",
      "Instructions for updating:\n",
      "If using Keras pass *_constraint arguments to layers.\n",
      "Model: \"sequential\"\n",
      "_________________________________________________________________\n",
      "Layer (type)                 Output Shape              Param #   \n",
      "=================================================================\n",
      "lstm (LSTM)                  (1, 128)                  66560     \n",
      "_________________________________________________________________\n",
      "dense (Dense)                (1, 12)                   1548      \n",
      "=================================================================\n",
      "Total params: 68,108\n",
      "Trainable params: 68,108\n",
      "Non-trainable params: 0\n",
      "_________________________________________________________________\n"
     ]
    }
   ],
   "source": [
    "# 모델 구성하기\n",
    "model = Sequential()\n",
    "model.add(LSTM(128, batch_input_shape = (1, 4, 1), stateful=True))\n",
    "model.add(Dense(one_hot_vec_size, activation='softmax'))\n",
    "model.summary()"
   ]
  },
  {
   "cell_type": "code",
   "execution_count": 14,
   "metadata": {},
   "outputs": [],
   "source": [
    "# 모델 학습과정 설정하기\n",
    "model.compile(loss='categorical_crossentropy', optimizer='adam', metrics=['accuracy'])"
   ]
  },
  {
   "cell_type": "code",
   "execution_count": 15,
   "metadata": {},
   "outputs": [
    {
     "name": "stdout",
     "output_type": "stream",
     "text": [
      "======================= 0 =======================\n",
      "WARNING:tensorflow:From C:\\Users\\ckkim\\.conda\\envs\\tf2\\lib\\site-packages\\tensorflow_core\\python\\ops\\math_grad.py:1424: where (from tensorflow.python.ops.array_ops) is deprecated and will be removed in a future version.\n",
      "Instructions for updating:\n",
      "Use tf.where in 2.0, which has the same broadcast rule as np.where\n",
      "Train on 50 samples\n",
      "50/50 - 1s - loss: 2.3357 - acc: 0.2800\n",
      "Train on 50 samples\n",
      "50/50 - 0s - loss: 2.0125 - acc: 0.3400\n",
      "Train on 50 samples\n",
      "50/50 - 0s - loss: 1.9645 - acc: 0.3400\n",
      "Train on 50 samples\n",
      "50/50 - 0s - loss: 1.9471 - acc: 0.3400\n",
      "Train on 50 samples\n",
      "50/50 - 0s - loss: 1.9377 - acc: 0.3400\n",
      "Train on 50 samples\n",
      "50/50 - 0s - loss: 1.9309 - acc: 0.3400\n",
      "Train on 50 samples\n",
      "50/50 - 0s - loss: 1.9257 - acc: 0.3400\n",
      "Train on 50 samples\n",
      "50/50 - 0s - loss: 1.9214 - acc: 0.3400\n",
      "Train on 50 samples\n",
      "50/50 - 0s - loss: 1.9176 - acc: 0.3400\n",
      "Train on 50 samples\n",
      "50/50 - 0s - loss: 1.9141 - acc: 0.3400\n",
      "Train on 50 samples\n",
      "50/50 - 0s - loss: 1.9108 - acc: 0.3400\n",
      "Train on 50 samples\n",
      "50/50 - 0s - loss: 1.9075 - acc: 0.3600\n",
      "Train on 50 samples\n",
      "50/50 - 0s - loss: 1.9040 - acc: 0.3600\n",
      "Train on 50 samples\n",
      "50/50 - 0s - loss: 1.9001 - acc: 0.3600\n",
      "Train on 50 samples\n",
      "50/50 - 0s - loss: 1.8950 - acc: 0.3600\n",
      "Train on 50 samples\n",
      "50/50 - 0s - loss: 1.8926 - acc: 0.3600\n",
      "Train on 50 samples\n",
      "50/50 - 0s - loss: 1.8794 - acc: 0.3600\n",
      "Train on 50 samples\n",
      "50/50 - 0s - loss: 2.1830 - acc: 0.3200\n",
      "Train on 50 samples\n",
      "50/50 - 0s - loss: 1.9023 - acc: 0.3400\n",
      "Train on 50 samples\n",
      "50/50 - 0s - loss: 1.8988 - acc: 0.3600\n",
      "Train on 50 samples\n",
      "50/50 - 0s - loss: 1.8935 - acc: 0.3600\n",
      "Train on 50 samples\n",
      "50/50 - 0s - loss: 1.8828 - acc: 0.3600\n",
      "Train on 50 samples\n",
      "50/50 - 0s - loss: 1.8761 - acc: 0.3600\n",
      "Train on 50 samples\n",
      "50/50 - 0s - loss: 1.8727 - acc: 0.3600\n",
      "Train on 50 samples\n",
      "50/50 - 0s - loss: 1.8595 - acc: 0.3600\n",
      "Train on 50 samples\n",
      "50/50 - 0s - loss: 1.8463 - acc: 0.3600\n",
      "Train on 50 samples\n",
      "50/50 - 0s - loss: 1.8304 - acc: 0.3800\n",
      "Train on 50 samples\n",
      "50/50 - 0s - loss: 1.8128 - acc: 0.3800\n",
      "Train on 50 samples\n",
      "50/50 - 0s - loss: 1.8540 - acc: 0.3600\n",
      "Train on 50 samples\n",
      "50/50 - 0s - loss: 1.8486 - acc: 0.4000\n",
      "Train on 50 samples\n",
      "50/50 - 0s - loss: 1.7913 - acc: 0.4000\n",
      "Train on 50 samples\n",
      "50/50 - 0s - loss: 1.8288 - acc: 0.3400\n",
      "Train on 50 samples\n",
      "50/50 - 0s - loss: 1.7855 - acc: 0.3800\n",
      "Train on 50 samples\n",
      "50/50 - 0s - loss: 1.7884 - acc: 0.3400\n",
      "Train on 50 samples\n",
      "50/50 - 0s - loss: 1.7303 - acc: 0.4200\n",
      "Train on 50 samples\n",
      "50/50 - 0s - loss: 1.7953 - acc: 0.2600\n",
      "Train on 50 samples\n",
      "50/50 - 0s - loss: 1.7611 - acc: 0.3800\n",
      "Train on 50 samples\n",
      "50/50 - 0s - loss: 1.7569 - acc: 0.3800\n",
      "Train on 50 samples\n",
      "50/50 - 0s - loss: 2.0171 - acc: 0.3200\n",
      "Train on 50 samples\n",
      "50/50 - 0s - loss: 1.7773 - acc: 0.3800\n",
      "Train on 50 samples\n",
      "50/50 - 0s - loss: 1.7439 - acc: 0.3800\n",
      "Train on 50 samples\n",
      "50/50 - 0s - loss: 1.7694 - acc: 0.4000\n",
      "Train on 50 samples\n",
      "50/50 - 0s - loss: 1.6836 - acc: 0.4000\n",
      "Train on 50 samples\n",
      "50/50 - 0s - loss: 1.6946 - acc: 0.3600\n",
      "Train on 50 samples\n",
      "50/50 - 0s - loss: 1.7040 - acc: 0.4000\n",
      "Train on 50 samples\n",
      "50/50 - 0s - loss: 1.7285 - acc: 0.3800\n",
      "Train on 50 samples\n",
      "50/50 - 0s - loss: 1.9063 - acc: 0.3000\n",
      "Train on 50 samples\n",
      "50/50 - 0s - loss: 1.7490 - acc: 0.4000\n",
      "Train on 50 samples\n",
      "50/50 - 0s - loss: 1.6450 - acc: 0.4200\n",
      "Train on 50 samples\n",
      "50/50 - 0s - loss: 1.6251 - acc: 0.4200\n",
      "======================= 50 =======================\n",
      "Train on 50 samples\n",
      "50/50 - 0s - loss: 1.6011 - acc: 0.4400\n",
      "Train on 50 samples\n",
      "50/50 - 0s - loss: 1.6634 - acc: 0.4200\n",
      "Train on 50 samples\n",
      "50/50 - 0s - loss: 1.6742 - acc: 0.4000\n",
      "Train on 50 samples\n",
      "50/50 - 0s - loss: 1.6899 - acc: 0.3800\n",
      "Train on 50 samples\n",
      "50/50 - 0s - loss: 1.7767 - acc: 0.3400\n",
      "Train on 50 samples\n",
      "50/50 - 0s - loss: 1.6360 - acc: 0.4000\n",
      "Train on 50 samples\n",
      "50/50 - 0s - loss: 1.5898 - acc: 0.4000\n",
      "Train on 50 samples\n",
      "50/50 - 0s - loss: 1.5828 - acc: 0.4400\n",
      "Train on 50 samples\n",
      "50/50 - 0s - loss: 1.5805 - acc: 0.4000\n",
      "Train on 50 samples\n",
      "50/50 - 0s - loss: 1.5679 - acc: 0.4000\n",
      "Train on 50 samples\n",
      "50/50 - 0s - loss: 1.4926 - acc: 0.5000\n",
      "Train on 50 samples\n",
      "50/50 - 0s - loss: 1.6489 - acc: 0.5000\n",
      "Train on 50 samples\n",
      "50/50 - 0s - loss: 1.6213 - acc: 0.3800\n",
      "Train on 50 samples\n",
      "50/50 - 0s - loss: 1.5607 - acc: 0.4600\n",
      "Train on 50 samples\n",
      "50/50 - 0s - loss: 1.4954 - acc: 0.4800\n",
      "Train on 50 samples\n",
      "50/50 - 0s - loss: 1.4329 - acc: 0.4400\n",
      "Train on 50 samples\n",
      "50/50 - 0s - loss: 1.4141 - acc: 0.4800\n",
      "Train on 50 samples\n",
      "50/50 - 0s - loss: 1.4005 - acc: 0.4400\n",
      "Train on 50 samples\n",
      "50/50 - 0s - loss: 1.3729 - acc: 0.5200\n",
      "Train on 50 samples\n",
      "50/50 - 0s - loss: 1.3023 - acc: 0.5200\n",
      "Train on 50 samples\n",
      "50/50 - 0s - loss: 1.2504 - acc: 0.5800\n",
      "Train on 50 samples\n",
      "50/50 - 0s - loss: 1.2267 - acc: 0.5400\n",
      "Train on 50 samples\n",
      "50/50 - 0s - loss: 1.5645 - acc: 0.5000\n",
      "Train on 50 samples\n",
      "50/50 - 0s - loss: 1.4283 - acc: 0.4600\n",
      "Train on 50 samples\n",
      "50/50 - 0s - loss: 1.2439 - acc: 0.5600\n",
      "Train on 50 samples\n",
      "50/50 - 0s - loss: 1.2308 - acc: 0.5800\n",
      "Train on 50 samples\n",
      "50/50 - 0s - loss: 1.2315 - acc: 0.5800\n",
      "Train on 50 samples\n",
      "50/50 - 0s - loss: 1.2611 - acc: 0.5400\n",
      "Train on 50 samples\n",
      "50/50 - 0s - loss: 1.0988 - acc: 0.5600\n",
      "Train on 50 samples\n",
      "50/50 - 0s - loss: 1.1036 - acc: 0.5200\n",
      "Train on 50 samples\n",
      "50/50 - 0s - loss: 1.2196 - acc: 0.5600\n",
      "Train on 50 samples\n",
      "50/50 - 0s - loss: 1.4282 - acc: 0.4400\n",
      "Train on 50 samples\n",
      "50/50 - 0s - loss: 1.2688 - acc: 0.5400\n",
      "Train on 50 samples\n",
      "50/50 - 0s - loss: 1.2565 - acc: 0.5600\n",
      "Train on 50 samples\n",
      "50/50 - 0s - loss: 1.1487 - acc: 0.5800\n",
      "Train on 50 samples\n",
      "50/50 - 0s - loss: 1.2104 - acc: 0.5200\n",
      "Train on 50 samples\n",
      "50/50 - 0s - loss: 1.3693 - acc: 0.4800\n",
      "Train on 50 samples\n",
      "50/50 - 0s - loss: 1.1065 - acc: 0.5800\n",
      "Train on 50 samples\n",
      "50/50 - 0s - loss: 1.0852 - acc: 0.6000\n",
      "Train on 50 samples\n",
      "50/50 - 0s - loss: 1.0164 - acc: 0.5600\n",
      "Train on 50 samples\n",
      "50/50 - 0s - loss: 1.1207 - acc: 0.5200\n",
      "Train on 50 samples\n",
      "50/50 - 0s - loss: 0.9720 - acc: 0.6400\n",
      "Train on 50 samples\n",
      "50/50 - 0s - loss: 1.5608 - acc: 0.4800\n",
      "Train on 50 samples\n",
      "50/50 - 0s - loss: 1.3307 - acc: 0.4800\n",
      "Train on 50 samples\n",
      "50/50 - 0s - loss: 1.0752 - acc: 0.5600\n",
      "Train on 50 samples\n",
      "50/50 - 0s - loss: 1.1030 - acc: 0.6000\n",
      "Train on 50 samples\n",
      "50/50 - 0s - loss: 0.9927 - acc: 0.6000\n",
      "Train on 50 samples\n",
      "50/50 - 0s - loss: 1.0452 - acc: 0.6400\n",
      "Train on 50 samples\n",
      "50/50 - 0s - loss: 1.0836 - acc: 0.5800\n",
      "Train on 50 samples\n",
      "50/50 - 0s - loss: 1.0709 - acc: 0.5800\n",
      "======================= 100 =======================\n",
      "Train on 50 samples\n",
      "50/50 - 0s - loss: 1.0243 - acc: 0.6400\n",
      "Train on 50 samples\n",
      "50/50 - 0s - loss: 0.9399 - acc: 0.6200\n",
      "Train on 50 samples\n",
      "50/50 - 0s - loss: 0.8976 - acc: 0.5800\n",
      "Train on 50 samples\n",
      "50/50 - 0s - loss: 1.2389 - acc: 0.5000\n",
      "Train on 50 samples\n",
      "50/50 - 0s - loss: 0.8826 - acc: 0.6600\n",
      "Train on 50 samples\n",
      "50/50 - 0s - loss: 0.8393 - acc: 0.6200\n",
      "Train on 50 samples\n",
      "50/50 - 0s - loss: 1.0355 - acc: 0.5600\n",
      "Train on 50 samples\n",
      "50/50 - 0s - loss: 1.8310 - acc: 0.4000\n",
      "Train on 50 samples\n",
      "50/50 - 0s - loss: 1.3029 - acc: 0.5000\n",
      "Train on 50 samples\n",
      "50/50 - 0s - loss: 0.8986 - acc: 0.6800\n",
      "Train on 50 samples\n",
      "50/50 - 0s - loss: 1.0632 - acc: 0.5600\n",
      "Train on 50 samples\n",
      "50/50 - 0s - loss: 0.8415 - acc: 0.6600\n",
      "Train on 50 samples\n",
      "50/50 - 0s - loss: 0.6891 - acc: 0.7400\n",
      "Train on 50 samples\n",
      "50/50 - 0s - loss: 0.8062 - acc: 0.7000\n",
      "Train on 50 samples\n",
      "50/50 - 0s - loss: 1.1882 - acc: 0.5000\n",
      "Train on 50 samples\n",
      "50/50 - 0s - loss: 1.5992 - acc: 0.5000\n",
      "Train on 50 samples\n",
      "50/50 - 0s - loss: 1.2337 - acc: 0.5800\n",
      "Train on 50 samples\n",
      "50/50 - 0s - loss: 1.4671 - acc: 0.4800\n",
      "Train on 50 samples\n",
      "50/50 - 0s - loss: 1.1114 - acc: 0.6000\n",
      "Train on 50 samples\n",
      "50/50 - 0s - loss: 1.0743 - acc: 0.5600\n",
      "Train on 50 samples\n",
      "50/50 - 0s - loss: 0.8965 - acc: 0.5800\n",
      "Train on 50 samples\n",
      "50/50 - 0s - loss: 0.8684 - acc: 0.6600\n",
      "Train on 50 samples\n",
      "50/50 - 0s - loss: 0.8628 - acc: 0.6400\n",
      "Train on 50 samples\n",
      "50/50 - 0s - loss: 1.2033 - acc: 0.5600\n",
      "Train on 50 samples\n",
      "50/50 - 0s - loss: 1.1956 - acc: 0.5200\n",
      "Train on 50 samples\n",
      "50/50 - 0s - loss: 1.0831 - acc: 0.5400\n",
      "Train on 50 samples\n",
      "50/50 - 0s - loss: 0.8968 - acc: 0.6200\n",
      "Train on 50 samples\n",
      "50/50 - 0s - loss: 0.7912 - acc: 0.6600\n",
      "Train on 50 samples\n",
      "50/50 - 0s - loss: 0.9758 - acc: 0.6200\n"
     ]
    },
    {
     "name": "stdout",
     "output_type": "stream",
     "text": [
      "Train on 50 samples\n",
      "50/50 - 0s - loss: 0.8874 - acc: 0.7000\n",
      "Train on 50 samples\n",
      "50/50 - 0s - loss: 0.7010 - acc: 0.7000\n",
      "Train on 50 samples\n",
      "50/50 - 0s - loss: 0.6862 - acc: 0.7600\n",
      "Train on 50 samples\n",
      "50/50 - 0s - loss: 0.9585 - acc: 0.5400\n",
      "Train on 50 samples\n",
      "50/50 - 0s - loss: 1.2037 - acc: 0.4800\n",
      "Train on 50 samples\n",
      "50/50 - 0s - loss: 0.7904 - acc: 0.6400\n",
      "Train on 50 samples\n",
      "50/50 - 0s - loss: 0.7634 - acc: 0.7600\n",
      "Train on 50 samples\n",
      "50/50 - 0s - loss: 0.8321 - acc: 0.6600\n",
      "Train on 50 samples\n",
      "50/50 - 0s - loss: 0.7341 - acc: 0.7200\n",
      "Train on 50 samples\n",
      "50/50 - 0s - loss: 0.7656 - acc: 0.7200\n",
      "Train on 50 samples\n",
      "50/50 - 0s - loss: 0.7610 - acc: 0.7000\n",
      "Train on 50 samples\n",
      "50/50 - 0s - loss: 0.8305 - acc: 0.7000\n",
      "Train on 50 samples\n",
      "50/50 - 0s - loss: 1.1008 - acc: 0.5800\n",
      "Train on 50 samples\n",
      "50/50 - 0s - loss: 0.8474 - acc: 0.6600\n",
      "Train on 50 samples\n",
      "50/50 - 0s - loss: 0.9121 - acc: 0.5600\n",
      "Train on 50 samples\n",
      "50/50 - 0s - loss: 0.7219 - acc: 0.7400\n",
      "Train on 50 samples\n",
      "50/50 - 0s - loss: 0.6665 - acc: 0.7600\n",
      "Train on 50 samples\n",
      "50/50 - 0s - loss: 1.0594 - acc: 0.5800\n",
      "Train on 50 samples\n",
      "50/50 - 0s - loss: 0.7099 - acc: 0.7000\n",
      "Train on 50 samples\n",
      "50/50 - 0s - loss: 0.6975 - acc: 0.7400\n",
      "Train on 50 samples\n",
      "50/50 - 0s - loss: 0.5171 - acc: 0.8200\n",
      "======================= 150 =======================\n",
      "Train on 50 samples\n",
      "50/50 - 0s - loss: 0.4145 - acc: 0.9200\n",
      "Train on 50 samples\n",
      "50/50 - 0s - loss: 0.8182 - acc: 0.6600\n",
      "Train on 50 samples\n",
      "50/50 - 0s - loss: 1.0467 - acc: 0.6400\n",
      "Train on 50 samples\n",
      "50/50 - 0s - loss: 1.4710 - acc: 0.5400\n",
      "Train on 50 samples\n",
      "50/50 - 0s - loss: 1.3712 - acc: 0.5200\n",
      "Train on 50 samples\n",
      "50/50 - 0s - loss: 1.2561 - acc: 0.6200\n",
      "Train on 50 samples\n",
      "50/50 - 0s - loss: 1.2618 - acc: 0.5200\n",
      "Train on 50 samples\n",
      "50/50 - 0s - loss: 1.1176 - acc: 0.6000\n",
      "Train on 50 samples\n",
      "50/50 - 0s - loss: 0.6542 - acc: 0.7800\n",
      "Train on 50 samples\n",
      "50/50 - 0s - loss: 0.5724 - acc: 0.8400\n",
      "Train on 50 samples\n",
      "50/50 - 0s - loss: 0.5464 - acc: 0.8800\n",
      "Train on 50 samples\n",
      "50/50 - 0s - loss: 1.0485 - acc: 0.7200\n",
      "Train on 50 samples\n",
      "50/50 - 0s - loss: 0.8487 - acc: 0.7400\n",
      "Train on 50 samples\n",
      "50/50 - 0s - loss: 0.6240 - acc: 0.7600\n",
      "Train on 50 samples\n",
      "50/50 - 0s - loss: 0.6307 - acc: 0.8200\n",
      "Train on 50 samples\n",
      "50/50 - 0s - loss: 0.5675 - acc: 0.8000\n",
      "Train on 50 samples\n",
      "50/50 - 0s - loss: 0.6426 - acc: 0.7800\n",
      "Train on 50 samples\n",
      "50/50 - 0s - loss: 0.4260 - acc: 0.8800\n",
      "Train on 50 samples\n",
      "50/50 - 0s - loss: 0.4086 - acc: 0.9000\n",
      "Train on 50 samples\n",
      "50/50 - 0s - loss: 1.3627 - acc: 0.5400\n",
      "Train on 50 samples\n",
      "50/50 - 0s - loss: 0.7500 - acc: 0.7600\n",
      "Train on 50 samples\n",
      "50/50 - 0s - loss: 1.2987 - acc: 0.5800\n",
      "Train on 50 samples\n",
      "50/50 - 0s - loss: 0.6191 - acc: 0.7200\n",
      "Train on 50 samples\n",
      "50/50 - 0s - loss: 0.5247 - acc: 0.8200\n",
      "Train on 50 samples\n",
      "50/50 - 0s - loss: 0.4348 - acc: 0.8800\n",
      "Train on 50 samples\n",
      "50/50 - 0s - loss: 0.5061 - acc: 0.8200\n",
      "Train on 50 samples\n",
      "50/50 - 0s - loss: 0.5876 - acc: 0.7400\n",
      "Train on 50 samples\n",
      "50/50 - 0s - loss: 0.7894 - acc: 0.7000\n",
      "Train on 50 samples\n",
      "50/50 - 0s - loss: 0.7964 - acc: 0.7000\n",
      "Train on 50 samples\n",
      "50/50 - 0s - loss: 0.6466 - acc: 0.7600\n",
      "Train on 50 samples\n",
      "50/50 - 0s - loss: 0.7619 - acc: 0.7000\n",
      "Train on 50 samples\n",
      "50/50 - 0s - loss: 0.6500 - acc: 0.8200\n",
      "Train on 50 samples\n",
      "50/50 - 0s - loss: 0.6813 - acc: 0.7800\n",
      "Train on 50 samples\n",
      "50/50 - 0s - loss: 0.5496 - acc: 0.8600\n",
      "Train on 50 samples\n",
      "50/50 - 0s - loss: 0.7638 - acc: 0.7600\n",
      "Train on 50 samples\n",
      "50/50 - 0s - loss: 0.4168 - acc: 0.8800\n",
      "Train on 50 samples\n",
      "50/50 - 0s - loss: 0.6265 - acc: 0.7800\n",
      "Train on 50 samples\n",
      "50/50 - 0s - loss: 0.5160 - acc: 0.8400\n",
      "Train on 50 samples\n",
      "50/50 - 0s - loss: 0.3906 - acc: 0.8600\n",
      "Train on 50 samples\n",
      "50/50 - 0s - loss: 0.3678 - acc: 0.8800\n",
      "Train on 50 samples\n",
      "50/50 - 0s - loss: 0.4948 - acc: 0.8400\n",
      "Train on 50 samples\n",
      "50/50 - 0s - loss: 0.4277 - acc: 0.8000\n",
      "Train on 50 samples\n",
      "50/50 - 0s - loss: 0.3355 - acc: 0.8800\n",
      "Train on 50 samples\n",
      "50/50 - 0s - loss: 0.2168 - acc: 0.9200\n",
      "Train on 50 samples\n",
      "50/50 - 0s - loss: 0.1899 - acc: 0.9600\n",
      "Train on 50 samples\n",
      "50/50 - 0s - loss: 0.5400 - acc: 0.8000\n",
      "Train on 50 samples\n",
      "50/50 - 0s - loss: 0.4552 - acc: 0.8400\n",
      "Train on 50 samples\n",
      "50/50 - 0s - loss: 0.2614 - acc: 0.9200\n",
      "Train on 50 samples\n",
      "50/50 - 0s - loss: 0.2254 - acc: 0.9200\n",
      "Train on 50 samples\n",
      "50/50 - 0s - loss: 0.1203 - acc: 1.0000\n",
      "======================= 200 =======================\n",
      "Train on 50 samples\n",
      "50/50 - 0s - loss: 0.0757 - acc: 1.0000\n"
     ]
    }
   ],
   "source": [
    "# 모델 학습시키기\n",
    "num_epochs = 201\n",
    "history = LossHistory()\n",
    "history.init()\n",
    "\n",
    "for epoch_idx in range(num_epochs):\n",
    "    if epoch_idx % 50 == 0:\n",
    "        print(\"======================= \" + str(epoch_idx) + \" =======================\")\n",
    "    model.fit(x_train, y_train, epochs=1, batch_size=1, verbose=2, shuffle=False,\n",
    "              callbacks=[history]) # 50 is X.shape[0]\n",
    "    model.reset_states()\n"
   ]
  },
  {
   "cell_type": "code",
   "execution_count": 16,
   "metadata": {},
   "outputs": [
    {
     "data": {
      "image/png": "[encoded data removed]",
      "text/plain": [
       "<Figure size 432x288 with 1 Axes>"
      ]
     },
     "metadata": {
      "needs_background": "light"
     },
     "output_type": "display_data"
    }
   ],
   "source": [
    "# 학습과정 살펴보기\n",
    "%matplotlib inline\n",
    "import matplotlib.pyplot as plt\n",
    "\n",
    "plt.plot(history.losses)\n",
    "plt.ylabel('loss')\n",
    "plt.xlabel('epoch')\n",
    "plt.legend(['train'], loc='upper left')\n",
    "plt.show()"
   ]
  },
  {
   "cell_type": "code",
   "execution_count": 17,
   "metadata": {},
   "outputs": [
    {
     "name": "stdout",
     "output_type": "stream",
     "text": [
      "50/50 [==============================] - 0s 6ms/sample - loss: 0.0703 - acc: 1.0000\n",
      "acc: 100.00%\n"
     ]
    }
   ],
   "source": [
    "# 모델 평가하기\n",
    "scores = model.evaluate(x_train, y_train, batch_size=1)\n",
    "print(\"%s: %.2f%%\" %(model.metrics_names[1], scores[1]*100))\n",
    "model.reset_states()"
   ]
  },
  {
   "cell_type": "code",
   "execution_count": 18,
   "metadata": {},
   "outputs": [],
   "source": [
    "# 모델 사용하기\n",
    "pred_count = 50   # 최대 예측 개수 정의"
   ]
  },
  {
   "cell_type": "code",
   "execution_count": 19,
   "metadata": {},
   "outputs": [
    {
     "name": "stdout",
     "output_type": "stream",
     "text": [
      "one step prediction :  ['g8', 'e8', 'e4', 'f8', 'd8', 'd4', 'c8', 'd8', 'e8', 'f8', 'g8', 'g8', 'g4', 'g8', 'e8', 'e8', 'e8', 'f8', 'd8', 'd4', 'c8', 'e8', 'g8', 'g8', 'e8', 'e8', 'e4', 'd8', 'd8', 'd8', 'd8', 'd8', 'e8', 'f4', 'e8', 'e8', 'e8', 'e8', 'e8', 'f8', 'g4', 'g8', 'e8', 'e4', 'f8', 'd8', 'd4', 'c8', 'e8', 'g8', 'g8', 'e8', 'e8', 'e4']\n"
     ]
    }
   ],
   "source": [
    "# 한 스텝 예측\n",
    "seq_out = ['g8', 'e8', 'e4', 'f8']\n",
    "pred_out = model.predict(x_train, batch_size=1)\n",
    "\n",
    "for i in range(pred_count):\n",
    "    idx = np.argmax(pred_out[i]) # one-hot 인코딩을 인덱스 값으로 변환\n",
    "    seq_out.append(idx2code[idx]) # seq_out는 최종 악보이므로 인덱스 값을 코드로 변환하여 저장\n",
    "model.reset_states()\n",
    "\n",
    "print(\"one step prediction : \", seq_out)"
   ]
  },
  {
   "cell_type": "markdown",
   "metadata": {},
   "source": [
    "#### [노래 듣기](http://tykimos.github.io/warehouse/2017-4-9-Stateful_LSTM_f1_one_step_prediction.mp3)"
   ]
  },
  {
   "cell_type": "code",
   "execution_count": 20,
   "metadata": {},
   "outputs": [
    {
     "name": "stdout",
     "output_type": "stream",
     "text": [
      "full song prediction :  ['g8', 'e8', 'e4', 'f8', 'd8', 'd4', 'c8', 'd8', 'e8', 'f8', 'g8', 'g8', 'g4', 'g8', 'e8', 'e8', 'e8', 'f8', 'd8', 'd4', 'c8', 'e8', 'g8', 'g8', 'e8', 'e8', 'e4', 'd8', 'd8', 'd8', 'd8', 'd8', 'e8', 'f4', 'e8', 'e8', 'e8', 'e8', 'e8', 'f8', 'g4', 'g8', 'e8', 'e4', 'f8', 'd8', 'd4', 'c8', 'e8', 'g8', 'g8', 'e8', 'e8', 'e4']\n"
     ]
    }
   ],
   "source": [
    "# 곡 전체 예측\n",
    "seq_in = ['g8', 'e8', 'e4', 'f8']\n",
    "seq_out = seq_in\n",
    "seq_in = [code2idx[it] / float(MAX_IDX_VALUE) for it in seq_in] # 코드를 인덱스값으로 변환\n",
    "\n",
    "for i in range(pred_count):\n",
    "    sample_in = np.array(seq_in)\n",
    "    sample_in = np.reshape(sample_in, (1, 4, 1)) # 샘플 수, 타입스텝 수, 속성 수\n",
    "    pred_out = model.predict(sample_in)\n",
    "    idx = np.argmax(pred_out)\n",
    "    seq_out.append(idx2code[idx])\n",
    "    seq_in.append(idx / float(MAX_IDX_VALUE))\n",
    "    seq_in.pop(0)\n",
    "model.reset_states()\n",
    "    \n",
    "print(\"full song prediction : \", seq_out)"
   ]
  },
  {
   "cell_type": "markdown",
   "metadata": {},
   "source": [
    "#### [노래듣기](http://tykimos.github.io/warehouse/2017-4-9-Stateful_LSTM_f1_full_song_prediction.mp3)"
   ]
  },
  {
   "cell_type": "code",
   "execution_count": null,
   "metadata": {},
   "outputs": [],
   "source": []
  }
 ],
 "metadata": {
  "kernelspec": {
   "display_name": "Python 3",
   "language": "python",
   "name": "python3"
  },
  "language_info": {
   "codemirror_mode": {
    "name": "ipython",
    "version": 3
   },
   "file_extension": ".py",
   "mimetype": "text/x-python",
   "name": "python",
   "nbconvert_exporter": "python",
   "pygments_lexer": "ipython3",
   "version": "3.7.7"
  }
 },
 "nbformat": 4,
 "nbformat_minor": 2
}
