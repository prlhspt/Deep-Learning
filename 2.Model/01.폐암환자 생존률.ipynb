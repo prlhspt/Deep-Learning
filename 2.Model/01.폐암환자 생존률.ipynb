{
 "cells": [
  {
   "cell_type": "markdown",
   "metadata": {},
   "source": [
    "## 폐암 수술 환자의 생존율 데이터 분석"
   ]
  },
  {
   "cell_type": "code",
   "execution_count": 1,
   "metadata": {},
   "outputs": [
    {
     "data": {
      "text/plain": [
       "'2.1.0'"
      ]
     },
     "execution_count": 1,
     "metadata": {},
     "output_type": "execute_result"
    }
   ],
   "source": [
    "# 필요한 라이브러리\n",
    "import numpy as np\n",
    "import tensorflow as tf\n",
    "tf.__version__"
   ]
  },
  {
   "cell_type": "code",
   "execution_count": 2,
   "metadata": {},
   "outputs": [],
   "source": [
    "# 실행할 때마다 같은 결과를 출력하기 위한 seed 값 설정\n",
    "seed = 2020\n",
    "np.random.seed(seed)\n",
    "tf.random.set_seed(seed)"
   ]
  },
  {
   "cell_type": "code",
   "execution_count": 3,
   "metadata": {},
   "outputs": [
    {
     "data": {
      "text/plain": [
       "array([[293.  ,   1.  ,   3.8 ,   2.8 ,   0.  ,   0.  ,   0.  ,   0.  ,\n",
       "          0.  ,   0.  ,  12.  ,   0.  ,   0.  ,   0.  ,   1.  ,   0.  ,\n",
       "         62.  ,   0.  ],\n",
       "       [  1.  ,   2.  ,   2.88,   2.16,   1.  ,   0.  ,   0.  ,   0.  ,\n",
       "          1.  ,   1.  ,  14.  ,   0.  ,   0.  ,   0.  ,   1.  ,   0.  ,\n",
       "         60.  ,   0.  ],\n",
       "       [  8.  ,   2.  ,   3.19,   2.5 ,   1.  ,   0.  ,   0.  ,   0.  ,\n",
       "          1.  ,   0.  ,  11.  ,   0.  ,   0.  ,   1.  ,   1.  ,   0.  ,\n",
       "         66.  ,   1.  ]])"
      ]
     },
     "execution_count": 3,
     "metadata": {},
     "output_type": "execute_result"
    }
   ],
   "source": [
    "# 준비된 수술 환자 데이터를 불러들임\n",
    "Data_set = np.loadtxt(\"../dataset/ThoraricSurgery.csv\", delimiter=\",\")\n",
    "Data_set[:3, :]"
   ]
  },
  {
   "cell_type": "code",
   "execution_count": 4,
   "metadata": {},
   "outputs": [
    {
     "data": {
      "text/plain": [
       "((470, 17), (470,))"
      ]
     },
     "execution_count": 4,
     "metadata": {},
     "output_type": "execute_result"
    }
   ],
   "source": [
    "# 환자의 기록과 수술 결과를 X와 Y로 구분하여 저장\n",
    "X = Data_set[:, 0:17]\n",
    "Y = Data_set[:, 17]\n",
    "X.shape, Y.shape"
   ]
  },
  {
   "cell_type": "code",
   "execution_count": 5,
   "metadata": {},
   "outputs": [],
   "source": [
    "# 80% Train set, 20% Test set으로 분리\n",
    "from sklearn.model_selection import train_test_split\n",
    "x_train, x_test, y_train, y_test = \\\n",
    "    train_test_split(X, Y, test_size=0.2, stratify=Y, random_state=seed)"
   ]
  },
  {
   "cell_type": "code",
   "execution_count": 6,
   "metadata": {},
   "outputs": [],
   "source": [
    "from tensorflow.keras.models import Sequential\n",
    "from tensorflow.keras.layers import Dense"
   ]
  },
  {
   "cell_type": "code",
   "execution_count": 7,
   "metadata": {},
   "outputs": [
    {
     "name": "stdout",
     "output_type": "stream",
     "text": [
      "Model: \"sequential\"\n",
      "_________________________________________________________________\n",
      "Layer (type)                 Output Shape              Param #   \n",
      "=================================================================\n",
      "dense (Dense)                (None, 30)                540       \n",
      "_________________________________________________________________\n",
      "dense_1 (Dense)              (None, 1)                 31        \n",
      "=================================================================\n",
      "Total params: 571\n",
      "Trainable params: 571\n",
      "Non-trainable params: 0\n",
      "_________________________________________________________________\n"
     ]
    }
   ],
   "source": [
    "# 딥러닝 모델 설정\n",
    "model = Sequential([\n",
    "    Dense(30, input_shape=(17,), activation='relu'),\n",
    "    Dense(1, activation='sigmoid')\n",
    "])\n",
    "model.summary()"
   ]
  },
  {
   "cell_type": "code",
   "execution_count": 8,
   "metadata": {},
   "outputs": [],
   "source": [
    "# 딥러닝 환경 설정 (오차함수, 최적화함수)\n",
    "model.compile(loss='binary_crossentropy', \n",
    "              optimizer='adam', metrics=['accuracy'])"
   ]
  },
  {
   "cell_type": "code",
   "execution_count": 18,
   "metadata": {},
   "outputs": [
    {
     "name": "stdout",
     "output_type": "stream",
     "text": [
      "Train on 300 samples, validate on 76 samples\n",
      "Epoch 1/30\n",
      "300/300 [==============================] - 0s 111us/sample - loss: 0.4050 - accuracy: 0.8567 - val_loss: 0.6426 - val_accuracy: 0.8289\n",
      "Epoch 2/30\n",
      "300/300 [==============================] - 0s 100us/sample - loss: 0.3944 - accuracy: 0.8600 - val_loss: 0.6895 - val_accuracy: 0.8289\n",
      "Epoch 3/30\n",
      "300/300 [==============================] - 0s 99us/sample - loss: 0.3992 - accuracy: 0.8533 - val_loss: 0.6797 - val_accuracy: 0.8289\n",
      "Epoch 4/30\n",
      "300/300 [==============================] - 0s 102us/sample - loss: 0.4098 - accuracy: 0.8533 - val_loss: 0.6518 - val_accuracy: 0.8289\n",
      "Epoch 5/30\n",
      "300/300 [==============================] - 0s 98us/sample - loss: 0.3872 - accuracy: 0.8533 - val_loss: 0.6768 - val_accuracy: 0.8289\n",
      "Epoch 6/30\n",
      "300/300 [==============================] - 0s 102us/sample - loss: 0.4095 - accuracy: 0.8500 - val_loss: 0.6556 - val_accuracy: 0.8158\n",
      "Epoch 7/30\n",
      "300/300 [==============================] - 0s 102us/sample - loss: 0.4323 - accuracy: 0.8333 - val_loss: 0.7658 - val_accuracy: 0.8289\n",
      "Epoch 8/30\n",
      "300/300 [==============================] - 0s 95us/sample - loss: 0.3973 - accuracy: 0.8533 - val_loss: 0.6740 - val_accuracy: 0.8289\n",
      "Epoch 9/30\n",
      "300/300 [==============================] - 0s 100us/sample - loss: 0.4402 - accuracy: 0.8533 - val_loss: 0.6511 - val_accuracy: 0.8026\n",
      "Epoch 10/30\n",
      "300/300 [==============================] - 0s 98us/sample - loss: 0.4002 - accuracy: 0.8667 - val_loss: 0.6543 - val_accuracy: 0.8289\n",
      "Epoch 11/30\n",
      "300/300 [==============================] - 0s 100us/sample - loss: 0.4041 - accuracy: 0.8533 - val_loss: 0.6583 - val_accuracy: 0.8289\n",
      "Epoch 12/30\n",
      "300/300 [==============================] - 0s 100us/sample - loss: 0.3919 - accuracy: 0.8533 - val_loss: 0.6835 - val_accuracy: 0.8026\n",
      "Epoch 13/30\n",
      "300/300 [==============================] - 0s 100us/sample - loss: 0.4028 - accuracy: 0.8333 - val_loss: 0.8042 - val_accuracy: 0.8289\n",
      "Epoch 14/30\n",
      "300/300 [==============================] - 0s 102us/sample - loss: 0.4925 - accuracy: 0.8267 - val_loss: 0.8223 - val_accuracy: 0.8289\n",
      "Epoch 15/30\n",
      "300/300 [==============================] - 0s 99us/sample - loss: 0.5336 - accuracy: 0.8333 - val_loss: 0.7705 - val_accuracy: 0.8289\n",
      "Epoch 16/30\n",
      "300/300 [==============================] - 0s 95us/sample - loss: 0.3838 - accuracy: 0.8600 - val_loss: 0.6973 - val_accuracy: 0.8026\n",
      "Epoch 17/30\n",
      "300/300 [==============================] - 0s 100us/sample - loss: 0.3918 - accuracy: 0.8600 - val_loss: 0.8471 - val_accuracy: 0.8289\n",
      "Epoch 18/30\n",
      "300/300 [==============================] - 0s 104us/sample - loss: 0.4908 - accuracy: 0.8200 - val_loss: 0.6768 - val_accuracy: 0.8026\n",
      "Epoch 19/30\n",
      "300/300 [==============================] - 0s 99us/sample - loss: 0.3993 - accuracy: 0.8500 - val_loss: 0.6896 - val_accuracy: 0.8026\n",
      "Epoch 20/30\n",
      "300/300 [==============================] - 0s 103us/sample - loss: 0.3930 - accuracy: 0.8600 - val_loss: 0.6815 - val_accuracy: 0.8026\n",
      "Epoch 21/30\n",
      "300/300 [==============================] - 0s 98us/sample - loss: 0.3762 - accuracy: 0.8500 - val_loss: 0.7132 - val_accuracy: 0.8289\n",
      "Epoch 22/30\n",
      "300/300 [==============================] - 0s 100us/sample - loss: 0.3892 - accuracy: 0.8533 - val_loss: 0.7363 - val_accuracy: 0.8289\n",
      "Epoch 23/30\n",
      "300/300 [==============================] - 0s 102us/sample - loss: 0.4013 - accuracy: 0.8600 - val_loss: 0.6894 - val_accuracy: 0.8289\n",
      "Epoch 24/30\n",
      "300/300 [==============================] - 0s 95us/sample - loss: 0.3793 - accuracy: 0.8533 - val_loss: 0.7177 - val_accuracy: 0.8026\n",
      "Epoch 25/30\n",
      "300/300 [==============================] - 0s 93us/sample - loss: 0.4018 - accuracy: 0.8533 - val_loss: 0.7621 - val_accuracy: 0.7632\n",
      "Epoch 26/30\n",
      "300/300 [==============================] - 0s 100us/sample - loss: 0.4466 - accuracy: 0.8333 - val_loss: 0.7210 - val_accuracy: 0.8289\n",
      "Epoch 27/30\n",
      "300/300 [==============================] - 0s 97us/sample - loss: 0.3692 - accuracy: 0.8600 - val_loss: 0.7257 - val_accuracy: 0.8289\n",
      "Epoch 28/30\n",
      "300/300 [==============================] - 0s 100us/sample - loss: 0.4106 - accuracy: 0.8600 - val_loss: 0.7113 - val_accuracy: 0.8289\n",
      "Epoch 29/30\n",
      "300/300 [==============================] - 0s 92us/sample - loss: 0.3935 - accuracy: 0.8433 - val_loss: 0.7193 - val_accuracy: 0.8289\n",
      "Epoch 30/30\n",
      "300/300 [==============================] - 0s 100us/sample - loss: 0.4115 - accuracy: 0.8600 - val_loss: 0.7251 - val_accuracy: 0.8026\n"
     ]
    }
   ],
   "source": [
    "# 딥러닝 학습\n",
    "# Validation set의 비율을 20%\n",
    "history = model.fit(x_train, y_train, validation_split=0.2, \n",
    "                    epochs=30, batch_size=10)"
   ]
  },
  {
   "cell_type": "code",
   "execution_count": 19,
   "metadata": {},
   "outputs": [
    {
     "name": "stdout",
     "output_type": "stream",
     "text": [
      "94/94 - 0s - loss: 0.4728 - accuracy: 0.8298\n",
      "\n",
      " Accuracy: 0.8298\n"
     ]
    }
   ],
   "source": [
    "# 결과 출력\n",
    "# evaluate() returns the loss value & metrics values for the model \n",
    "print(\"\\n Accuracy: %.4f\" % (model.evaluate(x_test, y_test, verbose=2))[1])"
   ]
  },
  {
   "cell_type": "code",
   "execution_count": 12,
   "metadata": {},
   "outputs": [
    {
     "data": {
      "text/plain": [
       "<tensorflow.python.keras.callbacks.History at 0x24593a29248>"
      ]
     },
     "execution_count": 12,
     "metadata": {},
     "output_type": "execute_result"
    }
   ],
   "source": [
    "history"
   ]
  },
  {
   "cell_type": "code",
   "execution_count": 17,
   "metadata": {},
   "outputs": [
    {
     "data": {
      "text/html": [
       "<div>\n",
       "<style scoped>\n",
       "    .dataframe tbody tr th:only-of-type {\n",
       "        vertical-align: middle;\n",
       "    }\n",
       "\n",
       "    .dataframe tbody tr th {\n",
       "        vertical-align: top;\n",
       "    }\n",
       "\n",
       "    .dataframe thead th {\n",
       "        text-align: right;\n",
       "    }\n",
       "</style>\n",
       "<table border=\"1\" class=\"dataframe\">\n",
       "  <thead>\n",
       "    <tr style=\"text-align: right;\">\n",
       "      <th></th>\n",
       "      <th>loss</th>\n",
       "      <th>accuracy</th>\n",
       "      <th>val_loss</th>\n",
       "      <th>val_accuracy</th>\n",
       "    </tr>\n",
       "  </thead>\n",
       "  <tbody>\n",
       "    <tr>\n",
       "      <th>0</th>\n",
       "      <td>0.429375</td>\n",
       "      <td>0.853333</td>\n",
       "      <td>0.629789</td>\n",
       "      <td>0.828947</td>\n",
       "    </tr>\n",
       "    <tr>\n",
       "      <th>1</th>\n",
       "      <td>0.417160</td>\n",
       "      <td>0.860000</td>\n",
       "      <td>0.673954</td>\n",
       "      <td>0.828947</td>\n",
       "    </tr>\n",
       "    <tr>\n",
       "      <th>2</th>\n",
       "      <td>0.426251</td>\n",
       "      <td>0.850000</td>\n",
       "      <td>0.651206</td>\n",
       "      <td>0.828947</td>\n",
       "    </tr>\n",
       "    <tr>\n",
       "      <th>3</th>\n",
       "      <td>0.431647</td>\n",
       "      <td>0.846667</td>\n",
       "      <td>0.635239</td>\n",
       "      <td>0.828947</td>\n",
       "    </tr>\n",
       "    <tr>\n",
       "      <th>4</th>\n",
       "      <td>0.407400</td>\n",
       "      <td>0.853333</td>\n",
       "      <td>0.663875</td>\n",
       "      <td>0.828947</td>\n",
       "    </tr>\n",
       "  </tbody>\n",
       "</table>\n",
       "</div>"
      ],
      "text/plain": [
       "       loss  accuracy  val_loss  val_accuracy\n",
       "0  0.429375  0.853333  0.629789      0.828947\n",
       "1  0.417160  0.860000  0.673954      0.828947\n",
       "2  0.426251  0.850000  0.651206      0.828947\n",
       "3  0.431647  0.846667  0.635239      0.828947\n",
       "4  0.407400  0.853333  0.663875      0.828947"
      ]
     },
     "execution_count": 17,
     "metadata": {},
     "output_type": "execute_result"
    }
   ],
   "source": [
    "import pandas as pd\n",
    "df = pd.DataFrame(data=history.history)\n",
    "df.head()"
   ]
  },
  {
   "cell_type": "markdown",
   "metadata": {},
   "source": [
    "### 향후에 아래 항목으로 이용 가능\n",
    "- history.history['accuracy']\n",
    "- history.history['val_accuracy']\n",
    "- history.history['loss']\n",
    "- history.history['val_loss']"
   ]
  },
  {
   "cell_type": "code",
   "execution_count": null,
   "metadata": {},
   "outputs": [],
   "source": []
  }
 ],
 "metadata": {
  "kernelspec": {
   "display_name": "Python 3",
   "language": "python",
   "name": "python3"
  },
  "language_info": {
   "codemirror_mode": {
    "name": "ipython",
    "version": 3
   },
   "file_extension": ".py",
   "mimetype": "text/x-python",
   "name": "python",
   "nbconvert_exporter": "python",
   "pygments_lexer": "ipython3",
   "version": "3.7.7"
  }
 },
 "nbformat": 4,
 "nbformat_minor": 4
}
