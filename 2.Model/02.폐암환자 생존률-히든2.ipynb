{
 "cells": [
  {
   "cell_type": "markdown",
   "metadata": {},
   "source": [
    "## 폐암 수술 환자의 생존율 데이터 분석"
   ]
  },
  {
   "cell_type": "code",
   "execution_count": 1,
   "metadata": {},
   "outputs": [
    {
     "data": {
      "text/plain": [
       "'2.1.0'"
      ]
     },
     "execution_count": 1,
     "metadata": {},
     "output_type": "execute_result"
    }
   ],
   "source": [
    "# 필요한 라이브러리\n",
    "import numpy as np\n",
    "import tensorflow as tf\n",
    "tf.__version__"
   ]
  },
  {
   "cell_type": "code",
   "execution_count": 2,
   "metadata": {},
   "outputs": [],
   "source": [
    "# 실행할 때마다 같은 결과를 출력하기 위한 seed 값 설정\n",
    "seed = 2020\n",
    "np.random.seed(seed)\n",
    "tf.random.set_seed(seed)"
   ]
  },
  {
   "cell_type": "code",
   "execution_count": 3,
   "metadata": {},
   "outputs": [
    {
     "data": {
      "text/plain": [
       "array([[293.  ,   1.  ,   3.8 ,   2.8 ,   0.  ,   0.  ,   0.  ,   0.  ,\n",
       "          0.  ,   0.  ,  12.  ,   0.  ,   0.  ,   0.  ,   1.  ,   0.  ,\n",
       "         62.  ,   0.  ],\n",
       "       [  1.  ,   2.  ,   2.88,   2.16,   1.  ,   0.  ,   0.  ,   0.  ,\n",
       "          1.  ,   1.  ,  14.  ,   0.  ,   0.  ,   0.  ,   1.  ,   0.  ,\n",
       "         60.  ,   0.  ],\n",
       "       [  8.  ,   2.  ,   3.19,   2.5 ,   1.  ,   0.  ,   0.  ,   0.  ,\n",
       "          1.  ,   0.  ,  11.  ,   0.  ,   0.  ,   1.  ,   1.  ,   0.  ,\n",
       "         66.  ,   1.  ]])"
      ]
     },
     "execution_count": 3,
     "metadata": {},
     "output_type": "execute_result"
    }
   ],
   "source": [
    "# 준비된 수술 환자 데이터를 불러들임\n",
    "Data_set = np.loadtxt(\"../dataset/ThoraricSurgery.csv\", delimiter=\",\")\n",
    "Data_set[:3, :]"
   ]
  },
  {
   "cell_type": "code",
   "execution_count": 4,
   "metadata": {},
   "outputs": [
    {
     "data": {
      "text/plain": [
       "((470, 17), (470,))"
      ]
     },
     "execution_count": 4,
     "metadata": {},
     "output_type": "execute_result"
    }
   ],
   "source": [
    "# 환자의 기록과 수술 결과를 X와 Y로 구분하여 저장\n",
    "X = Data_set[:, 0:17]\n",
    "Y = Data_set[:, 17]\n",
    "X.shape, Y.shape"
   ]
  },
  {
   "cell_type": "code",
   "execution_count": 5,
   "metadata": {},
   "outputs": [],
   "source": [
    "# 80% Train set, 20% Test set으로 분리\n",
    "from sklearn.model_selection import train_test_split\n",
    "x_train, x_test, y_train, y_test = \\\n",
    "    train_test_split(X, Y, test_size=0.2, stratify=Y, random_state=seed)"
   ]
  },
  {
   "cell_type": "code",
   "execution_count": 6,
   "metadata": {},
   "outputs": [],
   "source": [
    "from tensorflow.keras.models import Sequential\n",
    "from tensorflow.keras.layers import Dense"
   ]
  },
  {
   "cell_type": "code",
   "execution_count": 7,
   "metadata": {},
   "outputs": [
    {
     "name": "stdout",
     "output_type": "stream",
     "text": [
      "Model: \"sequential\"\n",
      "_________________________________________________________________\n",
      "Layer (type)                 Output Shape              Param #   \n",
      "=================================================================\n",
      "dense (Dense)                (None, 24)                432       \n",
      "_________________________________________________________________\n",
      "dense_1 (Dense)              (None, 8)                 200       \n",
      "_________________________________________________________________\n",
      "dense_2 (Dense)              (None, 1)                 9         \n",
      "=================================================================\n",
      "Total params: 641\n",
      "Trainable params: 641\n",
      "Non-trainable params: 0\n",
      "_________________________________________________________________\n"
     ]
    }
   ],
   "source": [
    "# 딥러닝 모델 설정\n",
    "model = Sequential([\n",
    "    Dense(24, input_shape=(17,), activation='relu'),\n",
    "    Dense(8, activation='relu'),\n",
    "    Dense(1, activation='sigmoid')\n",
    "])\n",
    "model.summary()"
   ]
  },
  {
   "cell_type": "code",
   "execution_count": 8,
   "metadata": {},
   "outputs": [],
   "source": [
    "# 딥러닝 환경 설정 (오차함수, 최적화함수)\n",
    "model.compile(loss='binary_crossentropy', \n",
    "              optimizer='adam', metrics=['accuracy'])"
   ]
  },
  {
   "cell_type": "code",
   "execution_count": 9,
   "metadata": {},
   "outputs": [
    {
     "name": "stdout",
     "output_type": "stream",
     "text": [
      "Train on 300 samples, validate on 76 samples\n",
      "Epoch 1/30\n",
      "300/300 [==============================] - 0s 1ms/sample - loss: 51.2430 - accuracy: 0.2033 - val_loss: 18.7283 - val_accuracy: 0.1842\n",
      "Epoch 2/30\n",
      "300/300 [==============================] - 0s 96us/sample - loss: 4.9336 - accuracy: 0.5733 - val_loss: 1.7841 - val_accuracy: 0.8289\n",
      "Epoch 3/30\n",
      "300/300 [==============================] - 0s 93us/sample - loss: 1.3142 - accuracy: 0.8567 - val_loss: 1.1468 - val_accuracy: 0.8289\n",
      "Epoch 4/30\n",
      "300/300 [==============================] - 0s 93us/sample - loss: 0.6015 - accuracy: 0.8067 - val_loss: 0.9503 - val_accuracy: 0.8289\n",
      "Epoch 5/30\n",
      "300/300 [==============================] - 0s 90us/sample - loss: 0.5635 - accuracy: 0.8267 - val_loss: 0.9771 - val_accuracy: 0.7368\n",
      "Epoch 6/30\n",
      "300/300 [==============================] - 0s 93us/sample - loss: 0.5161 - accuracy: 0.8433 - val_loss: 0.9497 - val_accuracy: 0.8289\n",
      "Epoch 7/30\n",
      "300/300 [==============================] - 0s 96us/sample - loss: 0.5225 - accuracy: 0.8267 - val_loss: 0.9616 - val_accuracy: 0.8289\n",
      "Epoch 8/30\n",
      "300/300 [==============================] - 0s 93us/sample - loss: 0.4958 - accuracy: 0.8433 - val_loss: 0.9657 - val_accuracy: 0.8289\n",
      "Epoch 9/30\n",
      "300/300 [==============================] - 0s 96us/sample - loss: 0.4865 - accuracy: 0.8567 - val_loss: 0.9540 - val_accuracy: 0.8289\n",
      "Epoch 10/30\n",
      "300/300 [==============================] - 0s 93us/sample - loss: 0.4711 - accuracy: 0.8500 - val_loss: 0.9542 - val_accuracy: 0.8289\n",
      "Epoch 11/30\n",
      "300/300 [==============================] - 0s 93us/sample - loss: 0.4626 - accuracy: 0.8533 - val_loss: 0.9215 - val_accuracy: 0.8289\n",
      "Epoch 12/30\n",
      "300/300 [==============================] - 0s 100us/sample - loss: 0.4647 - accuracy: 0.8533 - val_loss: 0.9052 - val_accuracy: 0.8289\n",
      "Epoch 13/30\n",
      "300/300 [==============================] - 0s 93us/sample - loss: 0.4665 - accuracy: 0.8400 - val_loss: 0.9274 - val_accuracy: 0.8289\n",
      "Epoch 14/30\n",
      "300/300 [==============================] - 0s 96us/sample - loss: 0.4733 - accuracy: 0.8567 - val_loss: 0.8956 - val_accuracy: 0.8289\n",
      "Epoch 15/30\n",
      "300/300 [==============================] - 0s 93us/sample - loss: 0.4972 - accuracy: 0.8500 - val_loss: 0.9020 - val_accuracy: 0.8289\n",
      "Epoch 16/30\n",
      "300/300 [==============================] - 0s 96us/sample - loss: 0.4541 - accuracy: 0.8500 - val_loss: 0.8671 - val_accuracy: 0.8289\n",
      "Epoch 17/30\n",
      "300/300 [==============================] - 0s 96us/sample - loss: 0.4482 - accuracy: 0.8533 - val_loss: 0.8789 - val_accuracy: 0.8289\n",
      "Epoch 18/30\n",
      "300/300 [==============================] - 0s 100us/sample - loss: 0.4746 - accuracy: 0.8500 - val_loss: 0.8343 - val_accuracy: 0.8289\n",
      "Epoch 19/30\n",
      "300/300 [==============================] - 0s 97us/sample - loss: 0.4483 - accuracy: 0.8567 - val_loss: 0.8298 - val_accuracy: 0.8289\n",
      "Epoch 20/30\n",
      "300/300 [==============================] - 0s 103us/sample - loss: 0.4346 - accuracy: 0.8567 - val_loss: 0.8153 - val_accuracy: 0.8289\n",
      "Epoch 21/30\n",
      "300/300 [==============================] - 0s 96us/sample - loss: 0.4347 - accuracy: 0.8567 - val_loss: 0.8204 - val_accuracy: 0.8289\n",
      "Epoch 22/30\n",
      "300/300 [==============================] - 0s 100us/sample - loss: 0.4405 - accuracy: 0.8567 - val_loss: 0.8186 - val_accuracy: 0.8289\n",
      "Epoch 23/30\n",
      "300/300 [==============================] - 0s 103us/sample - loss: 0.4290 - accuracy: 0.8567 - val_loss: 0.7822 - val_accuracy: 0.8289\n",
      "Epoch 24/30\n",
      "300/300 [==============================] - 0s 96us/sample - loss: 0.4278 - accuracy: 0.8467 - val_loss: 0.8652 - val_accuracy: 0.7237\n",
      "Epoch 25/30\n",
      "300/300 [==============================] - 0s 100us/sample - loss: 0.4544 - accuracy: 0.8567 - val_loss: 0.7822 - val_accuracy: 0.8289\n",
      "Epoch 26/30\n",
      "300/300 [==============================] - 0s 96us/sample - loss: 0.4448 - accuracy: 0.8600 - val_loss: 0.7603 - val_accuracy: 0.8289\n",
      "Epoch 27/30\n",
      "300/300 [==============================] - 0s 96us/sample - loss: 0.4135 - accuracy: 0.8567 - val_loss: 0.7615 - val_accuracy: 0.8289\n",
      "Epoch 28/30\n",
      "300/300 [==============================] - 0s 96us/sample - loss: 0.4488 - accuracy: 0.8500 - val_loss: 0.7856 - val_accuracy: 0.8289\n",
      "Epoch 29/30\n",
      "300/300 [==============================] - 0s 96us/sample - loss: 0.4392 - accuracy: 0.8500 - val_loss: 0.7661 - val_accuracy: 0.8289\n",
      "Epoch 30/30\n",
      "300/300 [==============================] - 0s 96us/sample - loss: 0.4274 - accuracy: 0.8533 - val_loss: 0.7654 - val_accuracy: 0.8289\n"
     ]
    }
   ],
   "source": [
    "# 딥러닝 학습\n",
    "# Validation set의 비율을 20%\n",
    "history = model.fit(x_train, y_train, validation_split=0.2, \n",
    "                    epochs=30, batch_size=10)"
   ]
  },
  {
   "cell_type": "code",
   "execution_count": 10,
   "metadata": {},
   "outputs": [
    {
     "name": "stdout",
     "output_type": "stream",
     "text": [
      "94/94 - 0s - loss: 0.5626 - accuracy: 0.8298\n",
      "\n",
      " Accuracy: 0.8298\n"
     ]
    }
   ],
   "source": [
    "# 결과 출력\n",
    "# evaluate() returns the loss value & metrics values for the model \n",
    "print(\"\\n Accuracy: %.4f\" % (model.evaluate(x_test, y_test, verbose=2))[1])"
   ]
  },
  {
   "cell_type": "code",
   "execution_count": 11,
   "metadata": {},
   "outputs": [
    {
     "data": {
      "text/html": [
       "<div>\n",
       "<style scoped>\n",
       "    .dataframe tbody tr th:only-of-type {\n",
       "        vertical-align: middle;\n",
       "    }\n",
       "\n",
       "    .dataframe tbody tr th {\n",
       "        vertical-align: top;\n",
       "    }\n",
       "\n",
       "    .dataframe thead th {\n",
       "        text-align: right;\n",
       "    }\n",
       "</style>\n",
       "<table border=\"1\" class=\"dataframe\">\n",
       "  <thead>\n",
       "    <tr style=\"text-align: right;\">\n",
       "      <th></th>\n",
       "      <th>loss</th>\n",
       "      <th>accuracy</th>\n",
       "      <th>val_loss</th>\n",
       "      <th>val_accuracy</th>\n",
       "    </tr>\n",
       "  </thead>\n",
       "  <tbody>\n",
       "    <tr>\n",
       "      <th>0</th>\n",
       "      <td>51.243049</td>\n",
       "      <td>0.203333</td>\n",
       "      <td>18.728320</td>\n",
       "      <td>0.184211</td>\n",
       "    </tr>\n",
       "    <tr>\n",
       "      <th>1</th>\n",
       "      <td>4.933604</td>\n",
       "      <td>0.573333</td>\n",
       "      <td>1.784149</td>\n",
       "      <td>0.828947</td>\n",
       "    </tr>\n",
       "    <tr>\n",
       "      <th>2</th>\n",
       "      <td>1.314164</td>\n",
       "      <td>0.856667</td>\n",
       "      <td>1.146815</td>\n",
       "      <td>0.828947</td>\n",
       "    </tr>\n",
       "    <tr>\n",
       "      <th>3</th>\n",
       "      <td>0.601487</td>\n",
       "      <td>0.806667</td>\n",
       "      <td>0.950317</td>\n",
       "      <td>0.828947</td>\n",
       "    </tr>\n",
       "    <tr>\n",
       "      <th>4</th>\n",
       "      <td>0.563484</td>\n",
       "      <td>0.826667</td>\n",
       "      <td>0.977134</td>\n",
       "      <td>0.736842</td>\n",
       "    </tr>\n",
       "  </tbody>\n",
       "</table>\n",
       "</div>"
      ],
      "text/plain": [
       "        loss  accuracy   val_loss  val_accuracy\n",
       "0  51.243049  0.203333  18.728320      0.184211\n",
       "1   4.933604  0.573333   1.784149      0.828947\n",
       "2   1.314164  0.856667   1.146815      0.828947\n",
       "3   0.601487  0.806667   0.950317      0.828947\n",
       "4   0.563484  0.826667   0.977134      0.736842"
      ]
     },
     "execution_count": 11,
     "metadata": {},
     "output_type": "execute_result"
    }
   ],
   "source": [
    "import pandas as pd\n",
    "df = pd.DataFrame(data=history.history)\n",
    "df.head()"
   ]
  },
  {
   "cell_type": "markdown",
   "metadata": {},
   "source": [
    "### 향후에 아래 항목으로 이용 가능\n",
    "- history.history['accuracy']\n",
    "- history.history['val_accuracy']\n",
    "- history.history['loss']\n",
    "- history.history['val_loss']"
   ]
  },
  {
   "cell_type": "code",
   "execution_count": null,
   "metadata": {},
   "outputs": [],
   "source": []
  }
 ],
 "metadata": {
  "kernelspec": {
   "display_name": "Python 3",
   "language": "python",
   "name": "python3"
  },
  "language_info": {
   "codemirror_mode": {
    "name": "ipython",
    "version": 3
   },
   "file_extension": ".py",
   "mimetype": "text/x-python",
   "name": "python",
   "nbconvert_exporter": "python",
   "pygments_lexer": "ipython3",
   "version": "3.7.7"
  }
 },
 "nbformat": 4,
 "nbformat_minor": 4
}
