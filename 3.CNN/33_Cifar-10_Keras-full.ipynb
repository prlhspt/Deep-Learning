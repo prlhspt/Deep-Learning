{
 "cells": [
  {
   "cell_type": "markdown",
   "metadata": {},
   "source": [
    "# Cifar-10 이미지 분류\n",
    "### 전체 데이터 사용\n",
    "### Data Augmentation 적용\n",
    "### 출처: [Achieving 90% accuracy in Object Recognition ](https://appliedmachinelearning.blog/2018/03/24/achieving-90-accuracy-in-object-recognition-task-on-cifar-10-dataset-with-keras-convolutional-neural-networks/)"
   ]
  },
  {
   "cell_type": "code",
   "execution_count": 1,
   "metadata": {},
   "outputs": [],
   "source": [
    "import tensorflow as tf\n",
    "from tensorflow.keras.datasets import cifar10\n",
    "from tensorflow.keras.models import Sequential\n",
    "from tensorflow.keras.layers import Conv2D, MaxPooling2D, Flatten, Dense, Dropout\n",
    "from tensorflow.keras.layers import Activation, BatchNormalization\n",
    "from tensorflow.keras.regularizers import l2\n",
    "import numpy as np"
   ]
  },
  {
   "cell_type": "markdown",
   "metadata": {},
   "source": [
    "#### 자료형 변환 및 스케일링\n",
    "- X: 실수형으로 정규화\n",
    "- Y: 1-hot encoding\n",
    "    * airplane, automobile, bird, cat, deer, dog, frog, horse, ship, truck"
   ]
  },
  {
   "cell_type": "code",
   "execution_count": 2,
   "metadata": {},
   "outputs": [
    {
     "name": "stdout",
     "output_type": "stream",
     "text": [
      "(50000, 32, 32, 3) uint8\n",
      "(50000, 1) uint8\n",
      "(10000, 32, 32, 3) uint8\n",
      "(10000, 1) uint8\n"
     ]
    }
   ],
   "source": [
    "(X_train, y_train0), (X_test, y_test0) = cifar10.load_data()\n",
    "print(X_train.shape, X_train.dtype)\n",
    "print(y_train0.shape, y_train0.dtype)\n",
    "print(X_test.shape, X_test.dtype)\n",
    "print(y_test0.shape, y_test0.dtype)"
   ]
  },
  {
   "cell_type": "code",
   "execution_count": 3,
   "metadata": {},
   "outputs": [
    {
     "name": "stdout",
     "output_type": "stream",
     "text": [
      "(50000, 32, 32, 3) float32\n"
     ]
    }
   ],
   "source": [
    "X_train = X_train.astype('float32')/255.0\n",
    "X_test = X_test.astype('float32')/255.0\n",
    "\n",
    "print(X_train.shape, X_train.dtype)"
   ]
  },
  {
   "cell_type": "code",
   "execution_count": 4,
   "metadata": {},
   "outputs": [
    {
     "data": {
      "text/plain": [
       "array([[0., 0., 0., 0., 0., 0., 1., 0., 0., 0.],\n",
       "       [0., 0., 0., 0., 0., 0., 0., 0., 0., 1.],\n",
       "       [0., 0., 0., 0., 0., 0., 0., 0., 0., 1.],\n",
       "       [0., 0., 0., 0., 1., 0., 0., 0., 0., 0.]], dtype=float32)"
      ]
     },
     "execution_count": 4,
     "metadata": {},
     "output_type": "execute_result"
    }
   ],
   "source": [
    "Y_train = tf.keras.utils.to_categorical(y_train0, 10)\n",
    "Y_test = tf.keras.utils.to_categorical(y_test0, 10)\n",
    "Y_train[:4]"
   ]
  },
  {
   "cell_type": "markdown",
   "metadata": {},
   "source": [
    "#### 모형 구현"
   ]
  },
  {
   "cell_type": "code",
   "execution_count": 5,
   "metadata": {},
   "outputs": [],
   "source": [
    "np.random.seed(0)\n",
    "weight_decay = 1e-4"
   ]
  },
  {
   "cell_type": "code",
   "execution_count": 6,
   "metadata": {},
   "outputs": [
    {
     "name": "stdout",
     "output_type": "stream",
     "text": [
      "WARNING:tensorflow:From C:\\Users\\ckkim\\.conda\\envs\\tf2\\lib\\site-packages\\tensorflow_core\\python\\ops\\resource_variable_ops.py:1630: calling BaseResourceVariable.__init__ (from tensorflow.python.ops.resource_variable_ops) with constraint is deprecated and will be removed in a future version.\n",
      "Instructions for updating:\n",
      "If using Keras pass *_constraint arguments to layers.\n",
      "Model: \"sequential\"\n",
      "_________________________________________________________________\n",
      "Layer (type)                 Output Shape              Param #   \n",
      "=================================================================\n",
      "conv2d (Conv2D)              (None, 32, 32, 32)        896       \n",
      "_________________________________________________________________\n",
      "activation (Activation)      (None, 32, 32, 32)        0         \n",
      "_________________________________________________________________\n",
      "batch_normalization (BatchNo (None, 32, 32, 32)        128       \n",
      "_________________________________________________________________\n",
      "conv2d_1 (Conv2D)            (None, 32, 32, 32)        9248      \n",
      "_________________________________________________________________\n",
      "activation_1 (Activation)    (None, 32, 32, 32)        0         \n",
      "_________________________________________________________________\n",
      "batch_normalization_1 (Batch (None, 32, 32, 32)        128       \n",
      "_________________________________________________________________\n",
      "max_pooling2d (MaxPooling2D) (None, 16, 16, 32)        0         \n",
      "_________________________________________________________________\n",
      "dropout (Dropout)            (None, 16, 16, 32)        0         \n",
      "_________________________________________________________________\n",
      "conv2d_2 (Conv2D)            (None, 16, 16, 64)        18496     \n",
      "_________________________________________________________________\n",
      "activation_2 (Activation)    (None, 16, 16, 64)        0         \n",
      "_________________________________________________________________\n",
      "batch_normalization_2 (Batch (None, 16, 16, 64)        256       \n",
      "_________________________________________________________________\n",
      "conv2d_3 (Conv2D)            (None, 16, 16, 64)        36928     \n",
      "_________________________________________________________________\n",
      "activation_3 (Activation)    (None, 16, 16, 64)        0         \n",
      "_________________________________________________________________\n",
      "batch_normalization_3 (Batch (None, 16, 16, 64)        256       \n",
      "_________________________________________________________________\n",
      "max_pooling2d_1 (MaxPooling2 (None, 8, 8, 64)          0         \n",
      "_________________________________________________________________\n",
      "dropout_1 (Dropout)          (None, 8, 8, 64)          0         \n",
      "_________________________________________________________________\n",
      "conv2d_4 (Conv2D)            (None, 8, 8, 128)         73856     \n",
      "_________________________________________________________________\n",
      "activation_4 (Activation)    (None, 8, 8, 128)         0         \n",
      "_________________________________________________________________\n",
      "batch_normalization_4 (Batch (None, 8, 8, 128)         512       \n",
      "_________________________________________________________________\n",
      "conv2d_5 (Conv2D)            (None, 8, 8, 128)         147584    \n",
      "_________________________________________________________________\n",
      "activation_5 (Activation)    (None, 8, 8, 128)         0         \n",
      "_________________________________________________________________\n",
      "batch_normalization_5 (Batch (None, 8, 8, 128)         512       \n",
      "_________________________________________________________________\n",
      "max_pooling2d_2 (MaxPooling2 (None, 4, 4, 128)         0         \n",
      "_________________________________________________________________\n",
      "dropout_2 (Dropout)          (None, 4, 4, 128)         0         \n",
      "_________________________________________________________________\n",
      "flatten (Flatten)            (None, 2048)              0         \n",
      "_________________________________________________________________\n",
      "dense (Dense)                (None, 10)                20490     \n",
      "=================================================================\n",
      "Total params: 309,290\n",
      "Trainable params: 308,394\n",
      "Non-trainable params: 896\n",
      "_________________________________________________________________\n"
     ]
    }
   ],
   "source": [
    "model = Sequential()\n",
    "\n",
    "model.add(Conv2D(32, (3,3), padding='same', kernel_regularizer=l2(weight_decay), \n",
    "                 input_shape=X_train.shape[1:]))\n",
    "model.add(Activation('elu'))\n",
    "model.add(BatchNormalization())\n",
    "model.add(Conv2D(32, (3,3), padding='same', kernel_regularizer=l2(weight_decay)))\n",
    "model.add(Activation('elu'))\n",
    "model.add(BatchNormalization())\n",
    "model.add(MaxPooling2D(pool_size=(2,2)))\n",
    "model.add(Dropout(0.2))\n",
    " \n",
    "model.add(Conv2D(64, (3,3), padding='same', kernel_regularizer=l2(weight_decay)))\n",
    "model.add(Activation('elu'))\n",
    "model.add(BatchNormalization())\n",
    "model.add(Conv2D(64, (3,3), padding='same', kernel_regularizer=l2(weight_decay)))\n",
    "model.add(Activation('elu'))\n",
    "model.add(BatchNormalization())\n",
    "model.add(MaxPooling2D(pool_size=(2,2)))\n",
    "model.add(Dropout(0.3))\n",
    " \n",
    "model.add(Conv2D(128, (3,3), padding='same', kernel_regularizer=l2(weight_decay)))\n",
    "model.add(Activation('elu'))\n",
    "model.add(BatchNormalization())\n",
    "model.add(Conv2D(128, (3,3), padding='same', kernel_regularizer=l2(weight_decay)))\n",
    "model.add(Activation('elu'))\n",
    "model.add(BatchNormalization())\n",
    "model.add(MaxPooling2D(pool_size=(2,2)))\n",
    "model.add(Dropout(0.4))\n",
    " \n",
    "model.add(Flatten())\n",
    "model.add(Dense(10, activation='softmax'))\n",
    "\n",
    "model.summary()"
   ]
  },
  {
   "cell_type": "code",
   "execution_count": 7,
   "metadata": {},
   "outputs": [],
   "source": [
    "from tensorflow.keras.optimizers import RMSprop\n",
    "\n",
    "model.compile(loss='categorical_crossentropy', \n",
    "              optimizer=RMSprop(lr=0.001, decay=weight_decay), \n",
    "              metrics=['accuracy'])"
   ]
  },
  {
   "cell_type": "code",
   "execution_count": 8,
   "metadata": {},
   "outputs": [],
   "source": [
    "def lr_schedule(epoch):\n",
    "    lrate = 0.001\n",
    "    if epoch > 30:\n",
    "        lrate = 0.0005\n",
    "    if epoch > 40:\n",
    "        lrate = 0.0003\n",
    "    return lrate"
   ]
  },
  {
   "cell_type": "code",
   "execution_count": 9,
   "metadata": {},
   "outputs": [],
   "source": [
    "#data augmentation\n",
    "from tensorflow.keras.preprocessing.image import ImageDataGenerator\n",
    "\n",
    "datagen = ImageDataGenerator(\n",
    "    rotation_range=15,\n",
    "    width_shift_range=0.1,\n",
    "    height_shift_range=0.1,\n",
    "    horizontal_flip=True,\n",
    ")\n",
    "datagen.fit(X_train)"
   ]
  },
  {
   "cell_type": "code",
   "execution_count": 10,
   "metadata": {
    "scrolled": false
   },
   "outputs": [
    {
     "name": "stdout",
     "output_type": "stream",
     "text": [
      "Epoch 1/50\n",
      "Epoch 1/50\n",
      "10000/781 - 2s - loss: 1.7624 - acc: 0.5098\n",
      "781/781 - 42s - loss: 1.9192 - acc: 0.4161 - val_loss: 1.6100 - val_acc: 0.5098\n",
      "Epoch 2/50\n",
      "Epoch 1/50\n",
      "10000/781 - 2s - loss: 1.2650 - acc: 0.6263\n",
      "781/781 - 41s - loss: 1.2665 - acc: 0.5863 - val_loss: 1.2575 - val_acc: 0.6263\n",
      "Epoch 3/50\n",
      "Epoch 1/50\n",
      "10000/781 - 2s - loss: 1.0418 - acc: 0.6959\n",
      "781/781 - 44s - loss: 1.0647 - acc: 0.6560 - val_loss: 0.9903 - val_acc: 0.6959\n",
      "Epoch 4/50\n",
      "Epoch 1/50\n",
      "10000/781 - 2s - loss: 0.8120 - acc: 0.7368\n",
      "781/781 - 42s - loss: 0.9633 - acc: 0.6918 - val_loss: 0.8491 - val_acc: 0.7368\n",
      "Epoch 5/50\n",
      "Epoch 1/50\n",
      "10000/781 - 2s - loss: 0.9366 - acc: 0.7190\n",
      "781/781 - 42s - loss: 0.8955 - acc: 0.7133 - val_loss: 0.9765 - val_acc: 0.7190\n",
      "Epoch 6/50\n",
      "Epoch 1/50\n",
      "10000/781 - 2s - loss: 0.9433 - acc: 0.7264\n",
      "781/781 - 44s - loss: 0.8411 - acc: 0.7361 - val_loss: 0.9372 - val_acc: 0.7264\n",
      "Epoch 7/50\n",
      "Epoch 1/50\n",
      "10000/781 - 2s - loss: 0.8998 - acc: 0.7572\n",
      "781/781 - 45s - loss: 0.8076 - acc: 0.7472 - val_loss: 0.8020 - val_acc: 0.7572\n",
      "Epoch 8/50\n",
      "Epoch 1/50\n",
      "10000/781 - 2s - loss: 0.6355 - acc: 0.7857\n",
      "781/781 - 47s - loss: 0.7646 - acc: 0.7657 - val_loss: 0.7217 - val_acc: 0.7857\n",
      "Epoch 9/50\n",
      "Epoch 1/50\n",
      "10000/781 - 3s - loss: 0.6719 - acc: 0.7833\n",
      "781/781 - 48s - loss: 0.7460 - acc: 0.7738 - val_loss: 0.7408 - val_acc: 0.7833\n",
      "Epoch 10/50\n",
      "Epoch 1/50\n",
      "10000/781 - 4s - loss: 0.6968 - acc: 0.8000\n",
      "781/781 - 51s - loss: 0.7210 - acc: 0.7811 - val_loss: 0.6639 - val_acc: 0.8000\n",
      "Epoch 11/50\n",
      "Epoch 1/50\n",
      "10000/781 - 3s - loss: 0.6391 - acc: 0.8031\n",
      "781/781 - 48s - loss: 0.7002 - acc: 0.7885 - val_loss: 0.6703 - val_acc: 0.8031\n",
      "Epoch 12/50\n",
      "Epoch 1/50\n",
      "10000/781 - 4s - loss: 0.7353 - acc: 0.7887\n",
      "781/781 - 50s - loss: 0.6843 - acc: 0.7916 - val_loss: 0.7330 - val_acc: 0.7887\n",
      "Epoch 13/50\n",
      "Epoch 1/50\n",
      "10000/781 - 3s - loss: 0.6672 - acc: 0.7848\n",
      "781/781 - 48s - loss: 0.6608 - acc: 0.8022 - val_loss: 0.7278 - val_acc: 0.7848\n",
      "Epoch 14/50\n",
      "Epoch 1/50\n",
      "10000/781 - 3s - loss: 0.7065 - acc: 0.8154\n",
      "781/781 - 49s - loss: 0.6556 - acc: 0.8050 - val_loss: 0.6475 - val_acc: 0.8154\n",
      "Epoch 15/50\n",
      "Epoch 1/50\n",
      "10000/781 - 3s - loss: 0.7730 - acc: 0.8170\n",
      "781/781 - 51s - loss: 0.6383 - acc: 0.8112 - val_loss: 0.6425 - val_acc: 0.8170\n",
      "Epoch 16/50\n",
      "Epoch 1/50\n",
      "10000/781 - 3s - loss: 0.8416 - acc: 0.8013\n",
      "781/781 - 49s - loss: 0.6285 - acc: 0.8147 - val_loss: 0.6995 - val_acc: 0.8013\n",
      "Epoch 17/50\n",
      "Epoch 1/50\n",
      "10000/781 - 3s - loss: 0.7506 - acc: 0.8170\n",
      "781/781 - 49s - loss: 0.6191 - acc: 0.8179 - val_loss: 0.6505 - val_acc: 0.8170\n",
      "Epoch 18/50\n",
      "Epoch 1/50\n",
      "10000/781 - 3s - loss: 0.6993 - acc: 0.8262\n",
      "781/781 - 49s - loss: 0.6085 - acc: 0.8227 - val_loss: 0.6220 - val_acc: 0.8262\n",
      "Epoch 19/50\n",
      "Epoch 1/50\n",
      "10000/781 - 3s - loss: 0.7846 - acc: 0.8188\n",
      "781/781 - 49s - loss: 0.6041 - acc: 0.8225 - val_loss: 0.6446 - val_acc: 0.8188\n",
      "Epoch 20/50\n",
      "Epoch 1/50\n",
      "10000/781 - 3s - loss: 0.7134 - acc: 0.8273\n",
      "781/781 - 49s - loss: 0.5905 - acc: 0.8278 - val_loss: 0.6115 - val_acc: 0.8273\n",
      "Epoch 21/50\n",
      "Epoch 1/50\n",
      "10000/781 - 3s - loss: 0.6898 - acc: 0.8314\n",
      "781/781 - 49s - loss: 0.5832 - acc: 0.8291 - val_loss: 0.6141 - val_acc: 0.8314\n",
      "Epoch 22/50\n",
      "Epoch 1/50\n",
      "10000/781 - 3s - loss: 0.6919 - acc: 0.8319\n",
      "781/781 - 49s - loss: 0.5770 - acc: 0.8324 - val_loss: 0.6053 - val_acc: 0.8319\n",
      "Epoch 23/50\n",
      "Epoch 1/50\n",
      "10000/781 - 3s - loss: 0.6177 - acc: 0.8383\n",
      "781/781 - 49s - loss: 0.5698 - acc: 0.8338 - val_loss: 0.5912 - val_acc: 0.8383\n",
      "Epoch 24/50\n",
      "Epoch 1/50\n",
      "10000/781 - 3s - loss: 0.5912 - acc: 0.8536\n",
      "781/781 - 49s - loss: 0.5614 - acc: 0.8373 - val_loss: 0.5376 - val_acc: 0.8536\n",
      "Epoch 25/50\n",
      "Epoch 1/50\n",
      "10000/781 - 3s - loss: 0.6515 - acc: 0.8221\n",
      "781/781 - 49s - loss: 0.5520 - acc: 0.8393 - val_loss: 0.6328 - val_acc: 0.8221\n",
      "Epoch 26/50\n",
      "Epoch 1/50\n",
      "10000/781 - 3s - loss: 0.5496 - acc: 0.8516\n",
      "781/781 - 49s - loss: 0.5486 - acc: 0.8395 - val_loss: 0.5347 - val_acc: 0.8516\n",
      "Epoch 27/50\n",
      "Epoch 1/50\n",
      "10000/781 - 3s - loss: 0.5285 - acc: 0.8429\n",
      "781/781 - 49s - loss: 0.5457 - acc: 0.8418 - val_loss: 0.5551 - val_acc: 0.8429\n",
      "Epoch 28/50\n",
      "Epoch 1/50\n",
      "10000/781 - 3s - loss: 0.6564 - acc: 0.8349\n",
      "781/781 - 49s - loss: 0.5378 - acc: 0.8454 - val_loss: 0.5843 - val_acc: 0.8349\n",
      "Epoch 29/50\n",
      "Epoch 1/50\n",
      "10000/781 - 3s - loss: 0.5878 - acc: 0.8438\n",
      "781/781 - 49s - loss: 0.5347 - acc: 0.8446 - val_loss: 0.5653 - val_acc: 0.8438\n",
      "Epoch 30/50\n",
      "Epoch 1/50\n",
      "10000/781 - 3s - loss: 0.5793 - acc: 0.8488\n",
      "781/781 - 51s - loss: 0.5309 - acc: 0.8472 - val_loss: 0.5479 - val_acc: 0.8488\n",
      "Epoch 31/50\n",
      "Epoch 1/50\n",
      "10000/781 - 3s - loss: 0.6986 - acc: 0.8443\n",
      "781/781 - 51s - loss: 0.5236 - acc: 0.8495 - val_loss: 0.5601 - val_acc: 0.8443\n",
      "Epoch 32/50\n",
      "Epoch 1/50\n",
      "10000/781 - 3s - loss: 0.5644 - acc: 0.8581\n",
      "781/781 - 50s - loss: 0.4958 - acc: 0.8600 - val_loss: 0.5058 - val_acc: 0.8581\n",
      "Epoch 33/50\n",
      "Epoch 1/50\n",
      "10000/781 - 3s - loss: 0.5214 - acc: 0.8701\n",
      "781/781 - 50s - loss: 0.4906 - acc: 0.8602 - val_loss: 0.4782 - val_acc: 0.8701\n",
      "Epoch 34/50\n",
      "Epoch 1/50\n",
      "10000/781 - 3s - loss: 0.5857 - acc: 0.8641\n",
      "781/781 - 50s - loss: 0.4823 - acc: 0.8630 - val_loss: 0.4943 - val_acc: 0.8641\n",
      "Epoch 35/50\n",
      "Epoch 1/50\n",
      "10000/781 - 3s - loss: 0.5255 - acc: 0.8690\n",
      "781/781 - 50s - loss: 0.4846 - acc: 0.8622 - val_loss: 0.4846 - val_acc: 0.8690\n",
      "Epoch 36/50\n",
      "Epoch 1/50\n",
      "10000/781 - 3s - loss: 0.6052 - acc: 0.8651\n",
      "781/781 - 53s - loss: 0.4741 - acc: 0.8642 - val_loss: 0.4927 - val_acc: 0.8651\n",
      "Epoch 37/50\n",
      "Epoch 1/50\n",
      "10000/781 - 4s - loss: 0.6404 - acc: 0.8583\n",
      "781/781 - 59s - loss: 0.4812 - acc: 0.8629 - val_loss: 0.5248 - val_acc: 0.8583\n",
      "Epoch 38/50\n",
      "Epoch 1/50\n",
      "10000/781 - 4s - loss: 0.5779 - acc: 0.8666\n",
      "781/781 - 53s - loss: 0.4690 - acc: 0.8676 - val_loss: 0.4810 - val_acc: 0.8666\n",
      "Epoch 39/50\n",
      "Epoch 1/50\n",
      "10000/781 - 3s - loss: 0.5650 - acc: 0.8708\n",
      "781/781 - 51s - loss: 0.4747 - acc: 0.8638 - val_loss: 0.4742 - val_acc: 0.8708\n",
      "Epoch 40/50\n",
      "Epoch 1/50\n",
      "10000/781 - 3s - loss: 0.6005 - acc: 0.8653\n",
      "781/781 - 50s - loss: 0.4654 - acc: 0.8691 - val_loss: 0.4890 - val_acc: 0.8653\n",
      "Epoch 41/50\n",
      "Epoch 1/50\n",
      "10000/781 - 3s - loss: 0.5672 - acc: 0.8657\n",
      "781/781 - 57s - loss: 0.4700 - acc: 0.8653 - val_loss: 0.4936 - val_acc: 0.8657\n",
      "Epoch 42/50\n",
      "Epoch 1/50\n",
      "10000/781 - 2s - loss: 0.5763 - acc: 0.8700\n",
      "781/781 - 59s - loss: 0.4594 - acc: 0.8712 - val_loss: 0.4807 - val_acc: 0.8700\n",
      "Epoch 43/50\n",
      "Epoch 1/50\n",
      "10000/781 - 2s - loss: 0.5615 - acc: 0.8716\n",
      "781/781 - 55s - loss: 0.4478 - acc: 0.8727 - val_loss: 0.4759 - val_acc: 0.8716\n",
      "Epoch 44/50\n",
      "Epoch 1/50\n",
      "10000/781 - 3s - loss: 0.5788 - acc: 0.8688\n",
      "781/781 - 61s - loss: 0.4462 - acc: 0.8742 - val_loss: 0.4782 - val_acc: 0.8688\n",
      "Epoch 45/50\n",
      "Epoch 1/50\n",
      "10000/781 - 2s - loss: 0.5829 - acc: 0.8713\n",
      "781/781 - 57s - loss: 0.4522 - acc: 0.8713 - val_loss: 0.4718 - val_acc: 0.8713\n",
      "Epoch 46/50\n",
      "Epoch 1/50\n",
      "10000/781 - 2s - loss: 0.5972 - acc: 0.8718\n",
      "781/781 - 57s - loss: 0.4383 - acc: 0.8755 - val_loss: 0.4775 - val_acc: 0.8718\n",
      "Epoch 47/50\n",
      "Epoch 1/50\n",
      "10000/781 - 2s - loss: 0.5917 - acc: 0.8732\n",
      "781/781 - 53s - loss: 0.4472 - acc: 0.8725 - val_loss: 0.4693 - val_acc: 0.8732\n",
      "Epoch 48/50\n",
      "Epoch 1/50\n",
      "10000/781 - 3s - loss: 0.5860 - acc: 0.8736\n",
      "781/781 - 55s - loss: 0.4454 - acc: 0.8728 - val_loss: 0.4641 - val_acc: 0.8736\n",
      "Epoch 49/50\n",
      "Epoch 1/50\n",
      "10000/781 - 3s - loss: 0.5600 - acc: 0.8747\n",
      "781/781 - 52s - loss: 0.4435 - acc: 0.8739 - val_loss: 0.4688 - val_acc: 0.8747\n",
      "Epoch 50/50\n",
      "Epoch 1/50\n",
      "10000/781 - 3s - loss: 0.6292 - acc: 0.8714\n",
      "781/781 - 52s - loss: 0.4369 - acc: 0.8746 - val_loss: 0.4785 - val_acc: 0.8714\n"
     ]
    }
   ],
   "source": [
    "from tensorflow.keras.callbacks import LearningRateScheduler\n",
    "\n",
    "history = model.fit_generator(datagen.flow(X_train, Y_train, batch_size=64),\n",
    "                    steps_per_epoch=X_train.shape[0] // 64, epochs=50,\n",
    "                    verbose=2, validation_data=(X_test, Y_test),\n",
    "                    callbacks=[LearningRateScheduler(lr_schedule)])"
   ]
  },
  {
   "cell_type": "markdown",
   "metadata": {},
   "source": [
    "#### 모델 평가하기"
   ]
  },
  {
   "cell_type": "code",
   "execution_count": 11,
   "metadata": {},
   "outputs": [
    {
     "name": "stdout",
     "output_type": "stream",
     "text": [
      "10000/10000 - 3s - loss: 0.4770 - acc: 0.8714\n",
      "\n",
      "Accuracy: 0.87140\n"
     ]
    }
   ],
   "source": [
    "scores = model.evaluate(X_test, Y_test, batch_size=128, verbose=2)\n",
    "print('\\nAccuracy: %.4f' % scores[1])"
   ]
  },
  {
   "cell_type": "markdown",
   "metadata": {},
   "source": [
    "#### 모델 저장하기"
   ]
  },
  {
   "cell_type": "code",
   "execution_count": 12,
   "metadata": {},
   "outputs": [],
   "source": [
    "model.save_weights('model/cifar10-full-v3.h5') "
   ]
  },
  {
   "cell_type": "code",
   "execution_count": null,
   "metadata": {},
   "outputs": [],
   "source": []
  }
 ],
 "metadata": {
  "kernelspec": {
   "display_name": "Python 3",
   "language": "python",
   "name": "python3"
  },
  "language_info": {
   "codemirror_mode": {
    "name": "ipython",
    "version": 3
   },
   "file_extension": ".py",
   "mimetype": "text/x-python",
   "name": "python",
   "nbconvert_exporter": "python",
   "pygments_lexer": "ipython3",
   "version": "3.7.3"
  }
 },
 "nbformat": 4,
 "nbformat_minor": 2
}
