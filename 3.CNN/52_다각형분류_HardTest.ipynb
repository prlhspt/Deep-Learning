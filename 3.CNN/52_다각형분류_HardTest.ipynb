{
 "cells": [
  {
   "cell_type": "markdown",
   "metadata": {
    "colab_type": "text",
    "id": "3rG34xrNgE7I"
   },
   "source": [
    "# 원, 삼각형, 사각형 구분하기\n",
    "## 2. 어려운 테스트 문제를 기존 CNN 모델로 푸는 경우"
   ]
  },
  {
   "cell_type": "code",
   "execution_count": 1,
   "metadata": {
    "colab": {},
    "colab_type": "code",
    "id": "bwA2Lk7gilA1"
   },
   "outputs": [
    {
     "name": "stderr",
     "output_type": "stream",
     "text": [
      "Using TensorFlow backend.\n"
     ]
    }
   ],
   "source": [
    "import numpy as np\n",
    "import tensorflow as tf\n",
    "from tensorflow import keras\n",
    "from keras.models import Sequential\n",
    "from keras.layers import Dense, Flatten, Conv2D, MaxPooling2D\n",
    "from keras.preprocessing.image import ImageDataGenerator"
   ]
  },
  {
   "cell_type": "code",
   "execution_count": 2,
   "metadata": {},
   "outputs": [],
   "source": [
    "# seed 값 설정\n",
    "seed = 2020\n",
    "np.random.seed(seed)\n",
    "tf.random.set_seed(seed)"
   ]
  },
  {
   "cell_type": "markdown",
   "metadata": {
    "colab_type": "text",
    "id": "SjsMBcR0pnzv"
   },
   "source": [
    "### 데이터셋 생성하기"
   ]
  },
  {
   "cell_type": "code",
   "execution_count": 3,
   "metadata": {
    "colab": {
     "base_uri": "https://localhost:8080/",
     "height": 53
    },
    "colab_type": "code",
    "id": "9Ffv4Qcfkxd0",
    "outputId": "caa7aa1e-8c4b-482d-ce65-d7f48e8e5920"
   },
   "outputs": [
    {
     "name": "stdout",
     "output_type": "stream",
     "text": [
      "Found 45 images belonging to 3 classes.\n",
      "Found 15 images belonging to 3 classes.\n"
     ]
    }
   ],
   "source": [
    "train_datagen = ImageDataGenerator(rescale=1./255)\n",
    "\n",
    "train_generator = train_datagen.flow_from_directory(\n",
    "        'hard_handwriting_shape/train',\n",
    "        target_size=(24, 24),\n",
    "        batch_size=3,\n",
    "        class_mode='categorical')\n",
    "\n",
    "test_datagen = ImageDataGenerator(rescale=1./255)\n",
    "\n",
    "test_generator = test_datagen.flow_from_directory(\n",
    "        'hard_handwriting_shape/test',\n",
    "        target_size=(24, 24),    \n",
    "        batch_size=3,\n",
    "        class_mode='categorical')"
   ]
  },
  {
   "cell_type": "markdown",
   "metadata": {
    "colab_type": "text",
    "id": "K88bSm6wpwsK"
   },
   "source": [
    "### 모델 구성하기"
   ]
  },
  {
   "cell_type": "code",
   "execution_count": 4,
   "metadata": {
    "colab": {
     "base_uri": "https://localhost:8080/",
     "height": 377
    },
    "colab_type": "code",
    "id": "G5TOCJzIpVfR",
    "outputId": "35def669-2606-46e4-efee-98f549cce104"
   },
   "outputs": [
    {
     "name": "stdout",
     "output_type": "stream",
     "text": [
      "Model: \"sequential_1\"\n",
      "_________________________________________________________________\n",
      "Layer (type)                 Output Shape              Param #   \n",
      "=================================================================\n",
      "conv2d_1 (Conv2D)            (None, 22, 22, 32)        896       \n",
      "_________________________________________________________________\n",
      "conv2d_2 (Conv2D)            (None, 20, 20, 64)        18496     \n",
      "_________________________________________________________________\n",
      "max_pooling2d_1 (MaxPooling2 (None, 10, 10, 64)        0         \n",
      "_________________________________________________________________\n",
      "flatten_1 (Flatten)          (None, 6400)              0         \n",
      "_________________________________________________________________\n",
      "dense_1 (Dense)              (None, 128)               819328    \n",
      "_________________________________________________________________\n",
      "dense_2 (Dense)              (None, 3)                 387       \n",
      "=================================================================\n",
      "Total params: 839,107\n",
      "Trainable params: 839,107\n",
      "Non-trainable params: 0\n",
      "_________________________________________________________________\n"
     ]
    }
   ],
   "source": [
    "model = Sequential()\n",
    "model.add(Conv2D(32, kernel_size=(3, 3),\n",
    "                 activation='relu', input_shape=(24,24,3)))\n",
    "model.add(Conv2D(64, (3, 3), activation='relu'))\n",
    "model.add(MaxPooling2D(pool_size=(2, 2)))\n",
    "model.add(Flatten())\n",
    "model.add(Dense(128, activation='relu'))\n",
    "model.add(Dense(3, activation='softmax'))\n",
    "model.summary()"
   ]
  },
  {
   "cell_type": "markdown",
   "metadata": {
    "colab_type": "text",
    "id": "wrjhuhJ2tEeA"
   },
   "source": [
    "### 모델 학습과정 설정하기"
   ]
  },
  {
   "cell_type": "code",
   "execution_count": 5,
   "metadata": {
    "colab": {},
    "colab_type": "code",
    "id": "hBUFfHV6sSRW"
   },
   "outputs": [],
   "source": [
    "model.compile(loss='categorical_crossentropy', \n",
    "              optimizer='adam', metrics=['accuracy'])"
   ]
  },
  {
   "cell_type": "markdown",
   "metadata": {
    "colab_type": "text",
    "id": "sZ_WQ05itPr9"
   },
   "source": [
    "## 모델 학습시키기\n",
    "- 첫번째 인자 : 훈련데이터셋을 제공할 제네레이터를 지정. 본 예제에서는 앞서 생성한 train_generator으로 지정.\n",
    "- steps_per_epoch : 한 epoch에 사용한 스텝 수를 지정. 총 45개의 훈련 샘플이 있고 배치사이즈가 3이므로 15 스텝으로 지정.\n",
    "- epochs : 전체 훈련 데이터셋에 대해 학습 반복 횟수를 지정. 200번을 반복적으로 학습.\n",
    "- validation_data : 검증데이터셋을 제공할 제네레이터를 지정. 본 예제에서는 앞서 생성한 validation_generator으로 지정.\n",
    "- validation_steps : 한 epoch 종료 시 마다 검증할 때 사용되는 검증 스텝 수를 지정. 홍 15개의 검증 샘플이 있고 배치사이즈가 3이므로 5 스텝으로 지정."
   ]
  },
  {
   "cell_type": "code",
   "execution_count": 6,
   "metadata": {
    "colab": {
     "base_uri": "https://localhost:8080/",
     "height": 1000
    },
    "colab_type": "code",
    "id": "oMzc0kFdtLMY",
    "outputId": "93273fea-58c8-474a-8308-9a3fdeae55d4"
   },
   "outputs": [
    {
     "name": "stdout",
     "output_type": "stream",
     "text": [
      "Epoch 1/200\n",
      "15/15 [==============================] - 0s 21ms/step - loss: 1.0698 - accuracy: 0.5333 - val_loss: 0.9139 - val_accuracy: 0.3333\n",
      "Epoch 2/200\n",
      "15/15 [==============================] - 0s 18ms/step - loss: 0.1706 - accuracy: 0.9778 - val_loss: 1.2713 - val_accuracy: 0.4000\n",
      "Epoch 3/200\n",
      "15/15 [==============================] - 0s 17ms/step - loss: 0.0272 - accuracy: 1.0000 - val_loss: 4.8036 - val_accuracy: 0.3333\n",
      "Epoch 4/200\n",
      "15/15 [==============================] - 0s 19ms/step - loss: 0.0019 - accuracy: 1.0000 - val_loss: 7.0077 - val_accuracy: 0.3333\n",
      "Epoch 5/200\n",
      "15/15 [==============================] - 0s 20ms/step - loss: 0.0012 - accuracy: 1.0000 - val_loss: 2.0347 - val_accuracy: 0.3333\n",
      "Epoch 6/200\n",
      "15/15 [==============================] - 0s 20ms/step - loss: 1.5024e-04 - accuracy: 1.0000 - val_loss: 2.6490 - val_accuracy: 0.3333\n",
      "Epoch 7/200\n",
      "15/15 [==============================] - 0s 20ms/step - loss: 1.0497e-04 - accuracy: 1.0000 - val_loss: 6.2416 - val_accuracy: 0.3333\n",
      "Epoch 8/200\n",
      "15/15 [==============================] - 0s 19ms/step - loss: 8.5114e-05 - accuracy: 1.0000 - val_loss: 8.7693 - val_accuracy: 0.3333\n",
      "Epoch 9/200\n",
      "15/15 [==============================] - 0s 22ms/step - loss: 7.0364e-05 - accuracy: 1.0000 - val_loss: 8.5050 - val_accuracy: 0.3333\n",
      "Epoch 10/200\n",
      "15/15 [==============================] - 0s 18ms/step - loss: 5.9859e-05 - accuracy: 1.0000 - val_loss: 7.4700 - val_accuracy: 0.3333\n",
      "Epoch 11/200\n",
      "15/15 [==============================] - 0s 21ms/step - loss: 5.2030e-05 - accuracy: 1.0000 - val_loss: 4.7729 - val_accuracy: 0.3333\n",
      "Epoch 12/200\n",
      "15/15 [==============================] - 0s 19ms/step - loss: 4.5840e-05 - accuracy: 1.0000 - val_loss: 2.1308 - val_accuracy: 0.3333\n",
      "Epoch 13/200\n",
      "15/15 [==============================] - 0s 18ms/step - loss: 4.0530e-05 - accuracy: 1.0000 - val_loss: 3.6445 - val_accuracy: 0.3333\n",
      "Epoch 14/200\n",
      "15/15 [==============================] - 0s 22ms/step - loss: 3.3289e-05 - accuracy: 1.0000 - val_loss: 5.5098 - val_accuracy: 0.3333\n",
      "Epoch 15/200\n",
      "15/15 [==============================] - 0s 16ms/step - loss: 2.6958e-05 - accuracy: 1.0000 - val_loss: 2.6271 - val_accuracy: 0.3333\n",
      "Epoch 16/200\n",
      "15/15 [==============================] - 0s 17ms/step - loss: 2.0341e-05 - accuracy: 1.0000 - val_loss: 7.3806 - val_accuracy: 0.3333\n",
      "Epoch 17/200\n",
      "15/15 [==============================] - 0s 19ms/step - loss: 1.6064e-05 - accuracy: 1.0000 - val_loss: 8.7924 - val_accuracy: 0.3333\n",
      "Epoch 18/200\n",
      "15/15 [==============================] - 0s 21ms/step - loss: 1.1552e-05 - accuracy: 1.0000 - val_loss: 9.2567 - val_accuracy: 0.3333\n",
      "Epoch 19/200\n",
      "15/15 [==============================] - 0s 19ms/step - loss: 8.6306e-06 - accuracy: 1.0000 - val_loss: 6.7544 - val_accuracy: 0.3333\n",
      "Epoch 20/200\n",
      "15/15 [==============================] - 0s 19ms/step - loss: 6.9141e-06 - accuracy: 1.0000 - val_loss: 5.4704 - val_accuracy: 0.3333\n",
      "Epoch 21/200\n",
      "15/15 [==============================] - 0s 20ms/step - loss: 5.2981e-06 - accuracy: 1.0000 - val_loss: 7.8310 - val_accuracy: 0.3333\n",
      "Epoch 22/200\n",
      "15/15 [==============================] - 0s 20ms/step - loss: 4.4319e-06 - accuracy: 1.0000 - val_loss: 9.7525 - val_accuracy: 0.3333\n",
      "Epoch 23/200\n",
      "15/15 [==============================] - 0s 16ms/step - loss: 3.6504e-06 - accuracy: 1.0000 - val_loss: 2.3898 - val_accuracy: 0.3333\n",
      "Epoch 24/200\n",
      "15/15 [==============================] - 0s 17ms/step - loss: 3.2849e-06 - accuracy: 1.0000 - val_loss: 5.7734 - val_accuracy: 0.3333\n",
      "Epoch 25/200\n",
      "15/15 [==============================] - 0s 17ms/step - loss: 2.7868e-06 - accuracy: 1.0000 - val_loss: 10.7052 - val_accuracy: 0.3333\n",
      "Epoch 26/200\n",
      "15/15 [==============================] - 0s 17ms/step - loss: 2.4186e-06 - accuracy: 1.0000 - val_loss: 6.3209 - val_accuracy: 0.3333\n",
      "Epoch 27/200\n",
      "15/15 [==============================] - 0s 17ms/step - loss: 2.1881e-06 - accuracy: 1.0000 - val_loss: 7.0739 - val_accuracy: 0.3333\n",
      "Epoch 28/200\n",
      "15/15 [==============================] - 0s 19ms/step - loss: 1.9365e-06 - accuracy: 1.0000 - val_loss: 3.0198 - val_accuracy: 0.3333\n",
      "Epoch 29/200\n",
      "15/15 [==============================] - 0s 19ms/step - loss: 1.8014e-06 - accuracy: 1.0000 - val_loss: 11.1727 - val_accuracy: 0.3333\n",
      "Epoch 30/200\n",
      "15/15 [==============================] - 0s 20ms/step - loss: 1.5974e-06 - accuracy: 1.0000 - val_loss: 4.8706 - val_accuracy: 0.3333\n",
      "Epoch 31/200\n",
      "15/15 [==============================] - 0s 18ms/step - loss: 1.5259e-06 - accuracy: 1.0000 - val_loss: 4.4355 - val_accuracy: 0.3333\n",
      "Epoch 32/200\n",
      "15/15 [==============================] - 0s 20ms/step - loss: 1.3802e-06 - accuracy: 1.0000 - val_loss: 4.0700 - val_accuracy: 0.3333\n",
      "Epoch 33/200\n",
      "15/15 [==============================] - 0s 18ms/step - loss: 1.2901e-06 - accuracy: 1.0000 - val_loss: 5.4585 - val_accuracy: 0.3333\n",
      "Epoch 34/200\n",
      "15/15 [==============================] - 0s 18ms/step - loss: 1.1762e-06 - accuracy: 1.0000 - val_loss: 7.0498 - val_accuracy: 0.3333\n",
      "Epoch 35/200\n",
      "15/15 [==============================] - 0s 18ms/step - loss: 1.0623e-06 - accuracy: 1.0000 - val_loss: 3.5562 - val_accuracy: 0.3333\n",
      "Epoch 36/200\n",
      "15/15 [==============================] - 0s 19ms/step - loss: 1.0067e-06 - accuracy: 1.0000 - val_loss: 9.1636 - val_accuracy: 0.3333\n",
      "Epoch 37/200\n",
      "15/15 [==============================] - 0s 19ms/step - loss: 9.2453e-07 - accuracy: 1.0000 - val_loss: 5.7635 - val_accuracy: 0.3333\n",
      "Epoch 38/200\n",
      "15/15 [==============================] - 0s 20ms/step - loss: 8.6360e-07 - accuracy: 1.0000 - val_loss: 5.8216 - val_accuracy: 0.3333\n",
      "Epoch 39/200\n",
      "15/15 [==============================] - 0s 21ms/step - loss: 8.1327e-07 - accuracy: 1.0000 - val_loss: 3.9784 - val_accuracy: 0.3333\n",
      "Epoch 40/200\n",
      "15/15 [==============================] - 0s 19ms/step - loss: 7.6559e-07 - accuracy: 1.0000 - val_loss: 9.2411 - val_accuracy: 0.3333\n",
      "Epoch 41/200\n",
      "15/15 [==============================] - 0s 17ms/step - loss: 7.3645e-07 - accuracy: 1.0000 - val_loss: 7.4506 - val_accuracy: 0.3333\n",
      "Epoch 42/200\n",
      "15/15 [==============================] - 0s 17ms/step - loss: 6.7287e-07 - accuracy: 1.0000 - val_loss: 5.5560 - val_accuracy: 0.3333\n",
      "Epoch 43/200\n",
      "15/15 [==============================] - 0s 18ms/step - loss: 6.3843e-07 - accuracy: 1.0000 - val_loss: 0.5493 - val_accuracy: 0.3333\n",
      "Epoch 44/200\n",
      "15/15 [==============================] - 0s 21ms/step - loss: 6.1194e-07 - accuracy: 1.0000 - val_loss: 5.8372 - val_accuracy: 0.3333\n",
      "Epoch 45/200\n",
      "15/15 [==============================] - 0s 18ms/step - loss: 5.6955e-07 - accuracy: 1.0000 - val_loss: 7.0391 - val_accuracy: 0.3333\n",
      "Epoch 46/200\n",
      "15/15 [==============================] - 0s 20ms/step - loss: 5.4836e-07 - accuracy: 1.0000 - val_loss: 2.2585 - val_accuracy: 0.3333\n",
      "Epoch 47/200\n",
      "15/15 [==============================] - 0s 16ms/step - loss: 5.2187e-07 - accuracy: 1.0000 - val_loss: 4.8847 - val_accuracy: 0.3333\n",
      "Epoch 48/200\n",
      "15/15 [==============================] - 0s 18ms/step - loss: 4.9273e-07 - accuracy: 1.0000 - val_loss: 0.3477 - val_accuracy: 0.3333\n",
      "Epoch 49/200\n",
      "15/15 [==============================] - 0s 20ms/step - loss: 4.5829e-07 - accuracy: 1.0000 - val_loss: 6.4496 - val_accuracy: 0.3333\n",
      "Epoch 50/200\n",
      "15/15 [==============================] - 0s 17ms/step - loss: 4.5564e-07 - accuracy: 1.0000 - val_loss: 6.0231 - val_accuracy: 0.3333\n",
      "Epoch 51/200\n",
      "15/15 [==============================] - 0s 19ms/step - loss: 4.2385e-07 - accuracy: 1.0000 - val_loss: 9.5221 - val_accuracy: 0.3333\n",
      "Epoch 52/200\n",
      "15/15 [==============================] - 0s 17ms/step - loss: 4.0266e-07 - accuracy: 1.0000 - val_loss: 0.5130 - val_accuracy: 0.3333\n",
      "Epoch 53/200\n",
      "15/15 [==============================] - 0s 17ms/step - loss: 3.9207e-07 - accuracy: 1.0000 - val_loss: 7.4068 - val_accuracy: 0.3333\n",
      "Epoch 54/200\n",
      "15/15 [==============================] - 0s 20ms/step - loss: 3.8677e-07 - accuracy: 1.0000 - val_loss: 12.6131 - val_accuracy: 0.3333\n",
      "Epoch 55/200\n",
      "15/15 [==============================] - 0s 20ms/step - loss: 3.5233e-07 - accuracy: 1.0000 - val_loss: 7.6523 - val_accuracy: 0.3333\n",
      "Epoch 56/200\n",
      "15/15 [==============================] - 0s 19ms/step - loss: 3.4438e-07 - accuracy: 1.0000 - val_loss: 3.4051 - val_accuracy: 0.3333\n"
     ]
    },
    {
     "name": "stdout",
     "output_type": "stream",
     "text": [
      "Epoch 57/200\n",
      "15/15 [==============================] - 0s 17ms/step - loss: 3.2584e-07 - accuracy: 1.0000 - val_loss: 1.9042 - val_accuracy: 0.3333\n",
      "Epoch 58/200\n",
      "15/15 [==============================] - 0s 17ms/step - loss: 3.0994e-07 - accuracy: 1.0000 - val_loss: 8.1181 - val_accuracy: 0.3333\n",
      "Epoch 59/200\n",
      "15/15 [==============================] - 0s 20ms/step - loss: 2.9670e-07 - accuracy: 1.0000 - val_loss: 6.7200 - val_accuracy: 0.3333\n",
      "Epoch 60/200\n",
      "15/15 [==============================] - 0s 20ms/step - loss: 2.8345e-07 - accuracy: 1.0000 - val_loss: 6.4097 - val_accuracy: 0.3333\n",
      "Epoch 61/200\n",
      "15/15 [==============================] - 0s 17ms/step - loss: 2.7286e-07 - accuracy: 1.0000 - val_loss: 13.6046 - val_accuracy: 0.3333\n",
      "Epoch 62/200\n",
      "15/15 [==============================] - 0s 20ms/step - loss: 2.6756e-07 - accuracy: 1.0000 - val_loss: 7.7893 - val_accuracy: 0.3333\n",
      "Epoch 63/200\n",
      "15/15 [==============================] - 0s 20ms/step - loss: 2.5431e-07 - accuracy: 1.0000 - val_loss: 10.5323 - val_accuracy: 0.3333\n",
      "Epoch 64/200\n",
      "15/15 [==============================] - 0s 19ms/step - loss: 2.4372e-07 - accuracy: 1.0000 - val_loss: 10.5767 - val_accuracy: 0.3333\n",
      "Epoch 65/200\n",
      "15/15 [==============================] - 0s 21ms/step - loss: 2.4107e-07 - accuracy: 1.0000 - val_loss: 6.0159 - val_accuracy: 0.3333\n",
      "Epoch 66/200\n",
      "15/15 [==============================] - 0s 21ms/step - loss: 2.2782e-07 - accuracy: 1.0000 - val_loss: 8.8161 - val_accuracy: 0.3333\n",
      "Epoch 67/200\n",
      "15/15 [==============================] - 0s 19ms/step - loss: 2.1193e-07 - accuracy: 1.0000 - val_loss: 8.7043 - val_accuracy: 0.3333\n",
      "Epoch 68/200\n",
      "15/15 [==============================] - 0s 20ms/step - loss: 1.9868e-07 - accuracy: 1.0000 - val_loss: 6.6084 - val_accuracy: 0.3333\n",
      "Epoch 69/200\n",
      "15/15 [==============================] - 0s 20ms/step - loss: 2.0398e-07 - accuracy: 1.0000 - val_loss: 5.3951 - val_accuracy: 0.3333\n",
      "Epoch 70/200\n",
      "15/15 [==============================] - 0s 20ms/step - loss: 1.9603e-07 - accuracy: 1.0000 - val_loss: 10.1013 - val_accuracy: 0.3333\n",
      "Epoch 71/200\n",
      "15/15 [==============================] - 0s 20ms/step - loss: 1.8809e-07 - accuracy: 1.0000 - val_loss: 0.5119 - val_accuracy: 0.3333\n",
      "Epoch 72/200\n",
      "15/15 [==============================] - 0s 21ms/step - loss: 1.8279e-07 - accuracy: 1.0000 - val_loss: 5.2277 - val_accuracy: 0.3333\n",
      "Epoch 73/200\n",
      "15/15 [==============================] - 0s 20ms/step - loss: 1.7484e-07 - accuracy: 1.0000 - val_loss: 7.2259 - val_accuracy: 0.3333\n",
      "Epoch 74/200\n",
      "15/15 [==============================] - 0s 20ms/step - loss: 1.6424e-07 - accuracy: 1.0000 - val_loss: 7.7738 - val_accuracy: 0.3333\n",
      "Epoch 75/200\n",
      "15/15 [==============================] - 0s 20ms/step - loss: 1.6159e-07 - accuracy: 1.0000 - val_loss: 4.1950 - val_accuracy: 0.3333\n",
      "Epoch 76/200\n",
      "15/15 [==============================] - 0s 18ms/step - loss: 1.5895e-07 - accuracy: 1.0000 - val_loss: 3.0556 - val_accuracy: 0.3333\n",
      "Epoch 77/200\n",
      "15/15 [==============================] - 0s 20ms/step - loss: 1.4570e-07 - accuracy: 1.0000 - val_loss: 6.4555 - val_accuracy: 0.3333\n",
      "Epoch 78/200\n",
      "15/15 [==============================] - 0s 20ms/step - loss: 1.4040e-07 - accuracy: 1.0000 - val_loss: 5.9751 - val_accuracy: 0.3333\n",
      "Epoch 79/200\n",
      "15/15 [==============================] - 0s 21ms/step - loss: 1.4040e-07 - accuracy: 1.0000 - val_loss: 4.7633 - val_accuracy: 0.3333\n",
      "Epoch 80/200\n",
      "15/15 [==============================] - 0s 18ms/step - loss: 1.4040e-07 - accuracy: 1.0000 - val_loss: 7.0972 - val_accuracy: 0.3333\n",
      "Epoch 81/200\n",
      "15/15 [==============================] - 0s 20ms/step - loss: 1.4040e-07 - accuracy: 1.0000 - val_loss: 12.5805 - val_accuracy: 0.3333\n",
      "Epoch 82/200\n",
      "15/15 [==============================] - 0s 19ms/step - loss: 1.3510e-07 - accuracy: 1.0000 - val_loss: 8.0279 - val_accuracy: 0.3333\n",
      "Epoch 83/200\n",
      "15/15 [==============================] - 0s 20ms/step - loss: 1.2981e-07 - accuracy: 1.0000 - val_loss: 0.3524 - val_accuracy: 0.3333\n",
      "Epoch 84/200\n",
      "15/15 [==============================] - 0s 18ms/step - loss: 1.2981e-07 - accuracy: 1.0000 - val_loss: 0.0031 - val_accuracy: 0.3333\n",
      "Epoch 85/200\n",
      "15/15 [==============================] - 0s 18ms/step - loss: 1.2716e-07 - accuracy: 1.0000 - val_loss: 5.3107 - val_accuracy: 0.3333\n",
      "Epoch 86/200\n",
      "15/15 [==============================] - 0s 18ms/step - loss: 1.2716e-07 - accuracy: 1.0000 - val_loss: 5.5079 - val_accuracy: 0.3333\n",
      "Epoch 87/200\n",
      "15/15 [==============================] - 0s 21ms/step - loss: 1.2451e-07 - accuracy: 1.0000 - val_loss: 5.5026 - val_accuracy: 0.3333\n",
      "Epoch 88/200\n",
      "15/15 [==============================] - 0s 20ms/step - loss: 1.1656e-07 - accuracy: 1.0000 - val_loss: 6.1979 - val_accuracy: 0.3333\n",
      "Epoch 89/200\n",
      "15/15 [==============================] - 0s 20ms/step - loss: 1.1921e-07 - accuracy: 1.0000 - val_loss: 3.8453 - val_accuracy: 0.3333\n",
      "Epoch 90/200\n",
      "15/15 [==============================] - 0s 17ms/step - loss: 1.1656e-07 - accuracy: 1.0000 - val_loss: 4.2195 - val_accuracy: 0.3333\n",
      "Epoch 91/200\n",
      "15/15 [==============================] - 0s 21ms/step - loss: 1.1126e-07 - accuracy: 1.0000 - val_loss: 5.5257 - val_accuracy: 0.3333\n",
      "Epoch 92/200\n",
      "15/15 [==============================] - 0s 19ms/step - loss: 1.1391e-07 - accuracy: 1.0000 - val_loss: 3.8485 - val_accuracy: 0.3333\n",
      "Epoch 93/200\n",
      "15/15 [==============================] - 0s 17ms/step - loss: 1.0861e-07 - accuracy: 1.0000 - val_loss: 7.4011 - val_accuracy: 0.3333\n",
      "Epoch 94/200\n",
      "15/15 [==============================] - 0s 18ms/step - loss: 1.0331e-07 - accuracy: 1.0000 - val_loss: 4.5490 - val_accuracy: 0.3333\n",
      "Epoch 95/200\n",
      "15/15 [==============================] - 0s 20ms/step - loss: 1.0067e-07 - accuracy: 1.0000 - val_loss: 2.3579 - val_accuracy: 0.3333\n",
      "Epoch 96/200\n",
      "15/15 [==============================] - 0s 17ms/step - loss: 9.8017e-08 - accuracy: 1.0000 - val_loss: 7.0679 - val_accuracy: 0.3333\n",
      "Epoch 97/200\n",
      "15/15 [==============================] - 0s 19ms/step - loss: 9.0069e-08 - accuracy: 1.0000 - val_loss: 9.5232 - val_accuracy: 0.3333\n",
      "Epoch 98/200\n",
      "15/15 [==============================] - 0s 17ms/step - loss: 9.0069e-08 - accuracy: 1.0000 - val_loss: 2.6822e-05 - val_accuracy: 0.3333\n",
      "Epoch 99/200\n",
      "15/15 [==============================] - 0s 17ms/step - loss: 8.4771e-08 - accuracy: 1.0000 - val_loss: 5.5832 - val_accuracy: 0.3333\n",
      "Epoch 100/200\n",
      "15/15 [==============================] - 0s 17ms/step - loss: 8.2122e-08 - accuracy: 1.0000 - val_loss: 3.6978 - val_accuracy: 0.3333\n",
      "Epoch 101/200\n",
      "15/15 [==============================] - 0s 20ms/step - loss: 7.9473e-08 - accuracy: 1.0000 - val_loss: 4.8818 - val_accuracy: 0.3333\n",
      "Epoch 102/200\n",
      "15/15 [==============================] - 0s 19ms/step - loss: 7.9473e-08 - accuracy: 1.0000 - val_loss: 16.1815 - val_accuracy: 0.3333\n",
      "Epoch 103/200\n",
      "15/15 [==============================] - 0s 17ms/step - loss: 7.9473e-08 - accuracy: 1.0000 - val_loss: 3.8882 - val_accuracy: 0.3333\n",
      "Epoch 104/200\n",
      "15/15 [==============================] - 0s 19ms/step - loss: 7.9473e-08 - accuracy: 1.0000 - val_loss: 12.6312 - val_accuracy: 0.3333\n",
      "Epoch 105/200\n",
      "15/15 [==============================] - 0s 21ms/step - loss: 7.9473e-08 - accuracy: 1.0000 - val_loss: 6.7773 - val_accuracy: 0.3333\n",
      "Epoch 106/200\n",
      "15/15 [==============================] - 0s 20ms/step - loss: 7.4175e-08 - accuracy: 1.0000 - val_loss: 10.7097 - val_accuracy: 0.3333\n",
      "Epoch 107/200\n",
      "15/15 [==============================] - 0s 20ms/step - loss: 7.1526e-08 - accuracy: 1.0000 - val_loss: 4.2934 - val_accuracy: 0.3333\n",
      "Epoch 108/200\n",
      "15/15 [==============================] - 0s 20ms/step - loss: 6.8876e-08 - accuracy: 1.0000 - val_loss: 6.8530 - val_accuracy: 0.3333\n",
      "Epoch 109/200\n",
      "15/15 [==============================] - 0s 20ms/step - loss: 6.3578e-08 - accuracy: 1.0000 - val_loss: 5.2846 - val_accuracy: 0.3333\n",
      "Epoch 110/200\n",
      "15/15 [==============================] - 0s 19ms/step - loss: 6.8876e-08 - accuracy: 1.0000 - val_loss: 5.6574 - val_accuracy: 0.3333\n",
      "Epoch 111/200\n",
      "15/15 [==============================] - 0s 19ms/step - loss: 6.3578e-08 - accuracy: 1.0000 - val_loss: 0.3549 - val_accuracy: 0.3333\n",
      "Epoch 112/200\n"
     ]
    },
    {
     "name": "stdout",
     "output_type": "stream",
     "text": [
      "15/15 [==============================] - 0s 20ms/step - loss: 6.0929e-08 - accuracy: 1.0000 - val_loss: 4.9294 - val_accuracy: 0.3333\n",
      "Epoch 113/200\n",
      "15/15 [==============================] - 0s 20ms/step - loss: 6.0929e-08 - accuracy: 1.0000 - val_loss: 8.1682 - val_accuracy: 0.3333\n",
      "Epoch 114/200\n",
      "15/15 [==============================] - 0s 21ms/step - loss: 6.0929e-08 - accuracy: 1.0000 - val_loss: 8.2363 - val_accuracy: 0.3333\n",
      "Epoch 115/200\n",
      "15/15 [==============================] - 0s 19ms/step - loss: 5.5631e-08 - accuracy: 1.0000 - val_loss: 2.8676 - val_accuracy: 0.3333\n",
      "Epoch 116/200\n",
      "15/15 [==============================] - 0s 21ms/step - loss: 5.8280e-08 - accuracy: 1.0000 - val_loss: 0.8173 - val_accuracy: 0.3333\n",
      "Epoch 117/200\n",
      "15/15 [==============================] - 0s 19ms/step - loss: 5.5631e-08 - accuracy: 1.0000 - val_loss: 8.4618 - val_accuracy: 0.3333\n",
      "Epoch 118/200\n",
      "15/15 [==============================] - 0s 16ms/step - loss: 5.2982e-08 - accuracy: 1.0000 - val_loss: 4.3472 - val_accuracy: 0.3333\n",
      "Epoch 119/200\n",
      "15/15 [==============================] - 0s 19ms/step - loss: 5.0333e-08 - accuracy: 1.0000 - val_loss: 8.7748 - val_accuracy: 0.3333\n",
      "Epoch 120/200\n",
      "15/15 [==============================] - 0s 20ms/step - loss: 5.2982e-08 - accuracy: 1.0000 - val_loss: 6.9293 - val_accuracy: 0.3333\n",
      "Epoch 121/200\n",
      "15/15 [==============================] - 0s 20ms/step - loss: 5.0333e-08 - accuracy: 1.0000 - val_loss: 5.7162 - val_accuracy: 0.3333\n",
      "Epoch 122/200\n",
      "15/15 [==============================] - 0s 17ms/step - loss: 5.0333e-08 - accuracy: 1.0000 - val_loss: 7.2910 - val_accuracy: 0.3333\n",
      "Epoch 123/200\n",
      "15/15 [==============================] - 0s 19ms/step - loss: 5.0333e-08 - accuracy: 1.0000 - val_loss: 8.9165 - val_accuracy: 0.3333\n",
      "Epoch 124/200\n",
      "15/15 [==============================] - 0s 17ms/step - loss: 5.0333e-08 - accuracy: 1.0000 - val_loss: 8.5304 - val_accuracy: 0.3333\n",
      "Epoch 125/200\n",
      "15/15 [==============================] - 0s 17ms/step - loss: 4.5035e-08 - accuracy: 1.0000 - val_loss: 3.3852 - val_accuracy: 0.3333\n",
      "Epoch 126/200\n",
      "15/15 [==============================] - 0s 19ms/step - loss: 4.7684e-08 - accuracy: 1.0000 - val_loss: 4.4083 - val_accuracy: 0.3333\n",
      "Epoch 127/200\n",
      "15/15 [==============================] - 0s 20ms/step - loss: 4.5035e-08 - accuracy: 1.0000 - val_loss: 2.1841 - val_accuracy: 0.3333\n",
      "Epoch 128/200\n",
      "15/15 [==============================] - 0s 19ms/step - loss: 4.2386e-08 - accuracy: 1.0000 - val_loss: 3.9388 - val_accuracy: 0.3333\n",
      "Epoch 129/200\n",
      "15/15 [==============================] - 0s 20ms/step - loss: 4.5035e-08 - accuracy: 1.0000 - val_loss: 6.2304 - val_accuracy: 0.3333\n",
      "Epoch 130/200\n",
      "15/15 [==============================] - 0s 19ms/step - loss: 4.2386e-08 - accuracy: 1.0000 - val_loss: 6.2277 - val_accuracy: 0.3333\n",
      "Epoch 131/200\n",
      "15/15 [==============================] - 0s 17ms/step - loss: 4.2386e-08 - accuracy: 1.0000 - val_loss: 10.9651 - val_accuracy: 0.3333\n",
      "Epoch 132/200\n",
      "15/15 [==============================] - 0s 17ms/step - loss: 4.2386e-08 - accuracy: 1.0000 - val_loss: 4.7862 - val_accuracy: 0.3333\n",
      "Epoch 133/200\n",
      "15/15 [==============================] - 0s 19ms/step - loss: 4.2386e-08 - accuracy: 1.0000 - val_loss: 12.3323 - val_accuracy: 0.3333\n",
      "Epoch 134/200\n",
      "15/15 [==============================] - 0s 16ms/step - loss: 4.2386e-08 - accuracy: 1.0000 - val_loss: 13.6193 - val_accuracy: 0.3333\n",
      "Epoch 135/200\n",
      "15/15 [==============================] - 0s 19ms/step - loss: 4.2386e-08 - accuracy: 1.0000 - val_loss: 6.5442 - val_accuracy: 0.3333\n",
      "Epoch 136/200\n",
      "15/15 [==============================] - 0s 18ms/step - loss: 4.2386e-08 - accuracy: 1.0000 - val_loss: 10.2318 - val_accuracy: 0.3333\n",
      "Epoch 137/200\n",
      "15/15 [==============================] - 0s 20ms/step - loss: 4.2386e-08 - accuracy: 1.0000 - val_loss: 13.4336 - val_accuracy: 0.3333\n",
      "Epoch 138/200\n",
      "15/15 [==============================] - 0s 17ms/step - loss: 4.2386e-08 - accuracy: 1.0000 - val_loss: 8.4004 - val_accuracy: 0.3333\n",
      "Epoch 139/200\n",
      "15/15 [==============================] - 0s 18ms/step - loss: 4.2386e-08 - accuracy: 1.0000 - val_loss: 4.4465 - val_accuracy: 0.3333\n",
      "Epoch 140/200\n",
      "15/15 [==============================] - 0s 20ms/step - loss: 4.2386e-08 - accuracy: 1.0000 - val_loss: 7.9146 - val_accuracy: 0.3333\n",
      "Epoch 141/200\n",
      "15/15 [==============================] - 0s 20ms/step - loss: 4.2386e-08 - accuracy: 1.0000 - val_loss: 4.4549 - val_accuracy: 0.3333\n",
      "Epoch 142/200\n",
      "15/15 [==============================] - 0s 18ms/step - loss: 4.2386e-08 - accuracy: 1.0000 - val_loss: 6.5913 - val_accuracy: 0.3333\n",
      "Epoch 143/200\n",
      "15/15 [==============================] - 0s 19ms/step - loss: 4.2386e-08 - accuracy: 1.0000 - val_loss: 6.2924 - val_accuracy: 0.3333\n",
      "Epoch 144/200\n",
      "15/15 [==============================] - 0s 20ms/step - loss: 3.4438e-08 - accuracy: 1.0000 - val_loss: 6.4845 - val_accuracy: 0.3333\n",
      "Epoch 145/200\n",
      "15/15 [==============================] - 0s 20ms/step - loss: 3.7087e-08 - accuracy: 1.0000 - val_loss: 0.3635 - val_accuracy: 0.3333\n",
      "Epoch 146/200\n",
      "15/15 [==============================] - 0s 19ms/step - loss: 3.7087e-08 - accuracy: 1.0000 - val_loss: 12.9386 - val_accuracy: 0.3333\n",
      "Epoch 147/200\n",
      "15/15 [==============================] - 0s 20ms/step - loss: 3.4438e-08 - accuracy: 1.0000 - val_loss: 7.4868 - val_accuracy: 0.3333\n",
      "Epoch 148/200\n",
      "15/15 [==============================] - 0s 19ms/step - loss: 3.4438e-08 - accuracy: 1.0000 - val_loss: 9.1302 - val_accuracy: 0.3333\n",
      "Epoch 149/200\n",
      "15/15 [==============================] - 0s 20ms/step - loss: 3.4438e-08 - accuracy: 1.0000 - val_loss: 10.9666 - val_accuracy: 0.3333\n",
      "Epoch 150/200\n",
      "15/15 [==============================] - 0s 19ms/step - loss: 3.4438e-08 - accuracy: 1.0000 - val_loss: 7.6280 - val_accuracy: 0.3333\n",
      "Epoch 151/200\n",
      "15/15 [==============================] - 0s 17ms/step - loss: 3.4438e-08 - accuracy: 1.0000 - val_loss: 4.0172 - val_accuracy: 0.3333\n",
      "Epoch 152/200\n",
      "15/15 [==============================] - 0s 18ms/step - loss: 3.4438e-08 - accuracy: 1.0000 - val_loss: 0.3725 - val_accuracy: 0.3333\n",
      "Epoch 153/200\n",
      "15/15 [==============================] - 0s 20ms/step - loss: 3.4438e-08 - accuracy: 1.0000 - val_loss: 16.3312 - val_accuracy: 0.3333\n",
      "Epoch 154/200\n",
      "15/15 [==============================] - 0s 20ms/step - loss: 2.9140e-08 - accuracy: 1.0000 - val_loss: 10.1811 - val_accuracy: 0.3333\n",
      "Epoch 155/200\n",
      "15/15 [==============================] - 0s 16ms/step - loss: 2.9140e-08 - accuracy: 1.0000 - val_loss: 7.7437 - val_accuracy: 0.3333\n",
      "Epoch 156/200\n",
      "15/15 [==============================] - 0s 19ms/step - loss: 3.1789e-08 - accuracy: 1.0000 - val_loss: 12.3097 - val_accuracy: 0.3333\n",
      "Epoch 157/200\n",
      "15/15 [==============================] - 0s 20ms/step - loss: 2.9140e-08 - accuracy: 1.0000 - val_loss: 5.5004 - val_accuracy: 0.3333\n",
      "Epoch 158/200\n",
      "15/15 [==============================] - 0s 19ms/step - loss: 2.9140e-08 - accuracy: 1.0000 - val_loss: 11.2006 - val_accuracy: 0.3333\n",
      "Epoch 159/200\n",
      "15/15 [==============================] - 0s 17ms/step - loss: 2.9140e-08 - accuracy: 1.0000 - val_loss: 9.7334 - val_accuracy: 0.3333\n",
      "Epoch 160/200\n",
      "15/15 [==============================] - 0s 18ms/step - loss: 2.9140e-08 - accuracy: 1.0000 - val_loss: 4.0623 - val_accuracy: 0.3333\n",
      "Epoch 161/200\n",
      "15/15 [==============================] - 0s 20ms/step - loss: 2.9140e-08 - accuracy: 1.0000 - val_loss: 13.3077 - val_accuracy: 0.3333\n",
      "Epoch 162/200\n",
      "15/15 [==============================] - 0s 19ms/step - loss: 2.6491e-08 - accuracy: 1.0000 - val_loss: 8.0630 - val_accuracy: 0.3333\n",
      "Epoch 163/200\n",
      "15/15 [==============================] - 0s 20ms/step - loss: 2.6491e-08 - accuracy: 1.0000 - val_loss: 11.0374 - val_accuracy: 0.3333\n",
      "Epoch 164/200\n",
      "15/15 [==============================] - 0s 20ms/step - loss: 2.6491e-08 - accuracy: 1.0000 - val_loss: 5.3896 - val_accuracy: 0.3333\n",
      "Epoch 165/200\n",
      "15/15 [==============================] - 0s 20ms/step - loss: 2.6491e-08 - accuracy: 1.0000 - val_loss: 13.8066 - val_accuracy: 0.3333\n",
      "Epoch 166/200\n",
      "15/15 [==============================] - 0s 16ms/step - loss: 2.3842e-08 - accuracy: 1.0000 - val_loss: 5.9037 - val_accuracy: 0.3333\n",
      "Epoch 167/200\n"
     ]
    },
    {
     "name": "stdout",
     "output_type": "stream",
     "text": [
      "15/15 [==============================] - 0s 19ms/step - loss: 2.3842e-08 - accuracy: 1.0000 - val_loss: 11.2537 - val_accuracy: 0.3333\n",
      "Epoch 168/200\n",
      "15/15 [==============================] - 0s 18ms/step - loss: 2.3842e-08 - accuracy: 1.0000 - val_loss: 15.6089 - val_accuracy: 0.3333\n",
      "Epoch 169/200\n",
      "15/15 [==============================] - 0s 20ms/step - loss: 2.3842e-08 - accuracy: 1.0000 - val_loss: 7.7245 - val_accuracy: 0.3333\n",
      "Epoch 170/200\n",
      "15/15 [==============================] - 0s 21ms/step - loss: 1.8544e-08 - accuracy: 1.0000 - val_loss: 4.0837 - val_accuracy: 0.3333\n",
      "Epoch 171/200\n",
      "15/15 [==============================] - 0s 18ms/step - loss: 2.1193e-08 - accuracy: 1.0000 - val_loss: 4.5741 - val_accuracy: 0.3333\n",
      "Epoch 172/200\n",
      "15/15 [==============================] - 0s 21ms/step - loss: 2.1193e-08 - accuracy: 1.0000 - val_loss: 5.1703 - val_accuracy: 0.3333\n",
      "Epoch 173/200\n",
      "15/15 [==============================] - 0s 19ms/step - loss: 1.8544e-08 - accuracy: 1.0000 - val_loss: 13.3087 - val_accuracy: 0.3333\n",
      "Epoch 174/200\n",
      "15/15 [==============================] - 0s 19ms/step - loss: 1.8544e-08 - accuracy: 1.0000 - val_loss: 4.7841e-05 - val_accuracy: 0.3333\n",
      "Epoch 175/200\n",
      "15/15 [==============================] - 0s 20ms/step - loss: 2.1193e-08 - accuracy: 1.0000 - val_loss: 0.8469 - val_accuracy: 0.3333\n",
      "Epoch 176/200\n",
      "15/15 [==============================] - 0s 20ms/step - loss: 1.5895e-08 - accuracy: 1.0000 - val_loss: 1.8414 - val_accuracy: 0.3333\n",
      "Epoch 177/200\n",
      "15/15 [==============================] - 0s 19ms/step - loss: 1.5895e-08 - accuracy: 1.0000 - val_loss: 0.3508 - val_accuracy: 0.3333\n",
      "Epoch 178/200\n",
      "15/15 [==============================] - 0s 18ms/step - loss: 1.8544e-08 - accuracy: 1.0000 - val_loss: 13.6119 - val_accuracy: 0.3333\n",
      "Epoch 179/200\n",
      "15/15 [==============================] - 0s 20ms/step - loss: 1.8544e-08 - accuracy: 1.0000 - val_loss: 4.9517 - val_accuracy: 0.3333\n",
      "Epoch 180/200\n",
      "15/15 [==============================] - 0s 20ms/step - loss: 1.5895e-08 - accuracy: 1.0000 - val_loss: 6.7650 - val_accuracy: 0.3333\n",
      "Epoch 181/200\n",
      "15/15 [==============================] - 0s 19ms/step - loss: 1.5895e-08 - accuracy: 1.0000 - val_loss: 4.0785 - val_accuracy: 0.3333\n",
      "Epoch 182/200\n",
      "15/15 [==============================] - 0s 21ms/step - loss: 2.1193e-08 - accuracy: 1.0000 - val_loss: 3.0118 - val_accuracy: 0.3333\n",
      "Epoch 183/200\n",
      "15/15 [==============================] - 0s 18ms/step - loss: 1.5895e-08 - accuracy: 1.0000 - val_loss: 3.0173 - val_accuracy: 0.3333\n",
      "Epoch 184/200\n",
      "15/15 [==============================] - 0s 20ms/step - loss: 1.5895e-08 - accuracy: 1.0000 - val_loss: 12.3192 - val_accuracy: 0.3333\n",
      "Epoch 185/200\n",
      "15/15 [==============================] - 0s 20ms/step - loss: 1.5895e-08 - accuracy: 1.0000 - val_loss: 15.7416 - val_accuracy: 0.3333\n",
      "Epoch 186/200\n",
      "15/15 [==============================] - 0s 19ms/step - loss: 1.3245e-08 - accuracy: 1.0000 - val_loss: 5.0835 - val_accuracy: 0.3333\n",
      "Epoch 187/200\n",
      "15/15 [==============================] - 0s 18ms/step - loss: 1.5895e-08 - accuracy: 1.0000 - val_loss: 7.1543 - val_accuracy: 0.3333\n",
      "Epoch 188/200\n",
      "15/15 [==============================] - 0s 20ms/step - loss: 1.0596e-08 - accuracy: 1.0000 - val_loss: 4.5181 - val_accuracy: 0.3333\n",
      "Epoch 189/200\n",
      "15/15 [==============================] - 0s 20ms/step - loss: 1.3245e-08 - accuracy: 1.0000 - val_loss: 4.0659 - val_accuracy: 0.3333\n",
      "Epoch 190/200\n",
      "15/15 [==============================] - 0s 20ms/step - loss: 1.0596e-08 - accuracy: 1.0000 - val_loss: 6.9534 - val_accuracy: 0.3333\n",
      "Epoch 191/200\n",
      "15/15 [==============================] - 0s 17ms/step - loss: 1.0596e-08 - accuracy: 1.0000 - val_loss: 16.5942 - val_accuracy: 0.3333\n",
      "Epoch 192/200\n",
      "15/15 [==============================] - 0s 20ms/step - loss: 1.0596e-08 - accuracy: 1.0000 - val_loss: 0.4519 - val_accuracy: 0.3333\n",
      "Epoch 193/200\n",
      "15/15 [==============================] - 0s 20ms/step - loss: 1.0596e-08 - accuracy: 1.0000 - val_loss: 0.8077 - val_accuracy: 0.3333\n",
      "Epoch 194/200\n",
      "15/15 [==============================] - 0s 20ms/step - loss: 1.0596e-08 - accuracy: 1.0000 - val_loss: 3.6567 - val_accuracy: 0.3333\n",
      "Epoch 195/200\n",
      "15/15 [==============================] - 0s 20ms/step - loss: 1.0596e-08 - accuracy: 1.0000 - val_loss: 6.1930 - val_accuracy: 0.3333\n",
      "Epoch 196/200\n",
      "15/15 [==============================] - 0s 18ms/step - loss: 1.0596e-08 - accuracy: 1.0000 - val_loss: 7.5502 - val_accuracy: 0.3333\n",
      "Epoch 197/200\n",
      "15/15 [==============================] - 0s 20ms/step - loss: 1.0596e-08 - accuracy: 1.0000 - val_loss: 7.3678 - val_accuracy: 0.3333\n",
      "Epoch 198/200\n",
      "15/15 [==============================] - 0s 20ms/step - loss: 1.0596e-08 - accuracy: 1.0000 - val_loss: 0.0021 - val_accuracy: 0.3333\n",
      "Epoch 199/200\n",
      "15/15 [==============================] - 0s 17ms/step - loss: 1.0596e-08 - accuracy: 1.0000 - val_loss: 15.1778 - val_accuracy: 0.3333\n",
      "Epoch 200/200\n",
      "15/15 [==============================] - 0s 20ms/step - loss: 1.0596e-08 - accuracy: 1.0000 - val_loss: 4.9391e-05 - val_accuracy: 0.3333\n"
     ]
    },
    {
     "data": {
      "text/plain": [
       "<keras.callbacks.callbacks.History at 0x1faef91b2c8>"
      ]
     },
     "execution_count": 6,
     "metadata": {},
     "output_type": "execute_result"
    }
   ],
   "source": [
    "model.fit_generator(\n",
    "        train_generator,\n",
    "        steps_per_epoch=15,\n",
    "        epochs=200,\n",
    "        validation_data=test_generator,\n",
    "        validation_steps=5)"
   ]
  },
  {
   "cell_type": "markdown",
   "metadata": {
    "colab_type": "text",
    "id": "uT9NEiI-uy52"
   },
   "source": [
    "### 모델 평가하기"
   ]
  },
  {
   "cell_type": "code",
   "execution_count": 7,
   "metadata": {
    "colab": {
     "base_uri": "https://localhost:8080/",
     "height": 53
    },
    "colab_type": "code",
    "id": "XZ8jXxlIu1SE",
    "outputId": "d27cd618-d626-4874-d6fe-03cd36b7d393"
   },
   "outputs": [
    {
     "name": "stdout",
     "output_type": "stream",
     "text": [
      "-- Evaluate --\n",
      "accuracy: 33.33%\n"
     ]
    }
   ],
   "source": [
    "print(\"-- Evaluate --\")\n",
    "scores = model.evaluate_generator(test_generator, steps=5)\n",
    "print(\"%s: %.2f%%\" %(model.metrics_names[1], scores[1]*100))"
   ]
  },
  {
   "cell_type": "code",
   "execution_count": null,
   "metadata": {},
   "outputs": [],
   "source": []
  },
  {
   "cell_type": "markdown",
   "metadata": {
    "colab_type": "text",
    "id": "QTlRD9Mqu9K6"
   },
   "source": [
    "### 모델 사용하기"
   ]
  },
  {
   "cell_type": "code",
   "execution_count": 8,
   "metadata": {
    "colab": {
     "base_uri": "https://localhost:8080/",
     "height": 323
    },
    "colab_type": "code",
    "id": "Wabhqvy-u48Q",
    "outputId": "abb1e734-766a-45dc-b25b-c9b2c8d38a8d"
   },
   "outputs": [
    {
     "name": "stdout",
     "output_type": "stream",
     "text": [
      "-- Predict --\n",
      "{'circle': 0, 'rectangle': 1, 'triangle': 2}\n",
      "[[0.000 0.000 1.000]\n",
      " [0.000 0.000 1.000]\n",
      " [0.000 0.005 0.995]\n",
      " [0.000 0.266 0.734]\n",
      " [0.000 0.000 1.000]\n",
      " [0.000 0.007 0.993]\n",
      " [0.000 0.000 1.000]\n",
      " [0.000 0.000 1.000]\n",
      " [0.559 0.001 0.441]\n",
      " [0.000 0.000 1.000]\n",
      " [0.004 0.002 0.994]\n",
      " [0.336 0.000 0.664]\n",
      " [0.000 0.000 1.000]\n",
      " [0.000 0.000 1.000]\n",
      " [0.000 0.063 0.937]]\n"
     ]
    }
   ],
   "source": [
    "print(\"-- Predict --\")\n",
    "output = model.predict_generator(test_generator, steps=5)\n",
    "np.set_printoptions(formatter={'float': lambda x: \"{0:0.3f}\".format(x)})\n",
    "print(test_generator.class_indices)\n",
    "print(output)"
   ]
  },
  {
   "cell_type": "code",
   "execution_count": 9,
   "metadata": {
    "colab": {},
    "colab_type": "code",
    "id": "jVItItOmvZOJ"
   },
   "outputs": [
    {
     "name": "stdout",
     "output_type": "stream",
     "text": [
      "circle\\circle021.png 0 2\n",
      "circle\\circle022.png 0 2\n",
      "circle\\circle023.png 0 2\n",
      "circle\\circle024.png 0 2\n",
      "circle\\circle025.png 0 2\n",
      "rectangle\\rectangle021.png 1 2\n",
      "rectangle\\rectangle022.png 1 2\n",
      "rectangle\\rectangle023.png 1 2\n",
      "rectangle\\rectangle024.png 1 0\n",
      "rectangle\\rectangle025.png 1 2\n",
      "triangle\\triangle021.png 2 2\n",
      "triangle\\triangle022.png 2 2\n",
      "triangle\\triangle023.png 2 2\n",
      "triangle\\triangle024.png 2 2\n",
      "triangle\\triangle025.png 2 2\n"
     ]
    }
   ],
   "source": [
    "for i in range(len(test_generator.labels)):\n",
    "    print(test_generator.filenames[i], test_generator.labels[i], np.argmax(output[i]))"
   ]
  },
  {
   "cell_type": "code",
   "execution_count": null,
   "metadata": {},
   "outputs": [],
   "source": []
  }
 ],
 "metadata": {
  "colab": {
   "collapsed_sections": [],
   "name": "PolygonClassfication_02_HardTest.ipynb",
   "provenance": [],
   "version": "0.3.2"
  },
  "kernelspec": {
   "display_name": "Python 3",
   "language": "python",
   "name": "python3"
  },
  "language_info": {
   "codemirror_mode": {
    "name": "ipython",
    "version": 3
   },
   "file_extension": ".py",
   "mimetype": "text/x-python",
   "name": "python",
   "nbconvert_exporter": "python",
   "pygments_lexer": "ipython3",
   "version": "3.7.7"
  }
 },
 "nbformat": 4,
 "nbformat_minor": 1
}
