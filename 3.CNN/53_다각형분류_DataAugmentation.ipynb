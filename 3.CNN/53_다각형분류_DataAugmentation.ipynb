{
 "cells": [
  {
   "cell_type": "markdown",
   "metadata": {
    "colab_type": "text",
    "id": "3rG34xrNgE7I"
   },
   "source": [
    "# 원, 삼각형, 사각형 구분하기\n",
    "## 3. Data Augmentation을 사용한 CNN 모델"
   ]
  },
  {
   "cell_type": "code",
   "execution_count": 1,
   "metadata": {
    "colab": {},
    "colab_type": "code",
    "id": "bwA2Lk7gilA1"
   },
   "outputs": [
    {
     "name": "stderr",
     "output_type": "stream",
     "text": [
      "Using TensorFlow backend.\n"
     ]
    }
   ],
   "source": [
    "import numpy as np\n",
    "import tensorflow as tf\n",
    "from tensorflow import keras\n",
    "from keras.models import Sequential\n",
    "from keras.layers import Dense, Flatten, Conv2D, MaxPooling2D\n",
    "from keras.preprocessing.image import ImageDataGenerator"
   ]
  },
  {
   "cell_type": "code",
   "execution_count": 2,
   "metadata": {},
   "outputs": [],
   "source": [
    "# seed 값 설정\n",
    "seed = 2020\n",
    "np.random.seed(seed)\n",
    "tf.random.set_seed(seed)"
   ]
  },
  {
   "cell_type": "markdown",
   "metadata": {
    "colab_type": "text",
    "id": "SjsMBcR0pnzv"
   },
   "source": [
    "### 데이터 부풀리기(Augmentation)"
   ]
  },
  {
   "cell_type": "code",
   "execution_count": 3,
   "metadata": {
    "colab": {},
    "colab_type": "code",
    "id": "aXdBt1YT11ud"
   },
   "outputs": [],
   "source": [
    "from keras.preprocessing.image import array_to_img, img_to_array, load_img"
   ]
  },
  {
   "cell_type": "code",
   "execution_count": 4,
   "metadata": {},
   "outputs": [],
   "source": [
    "# 데이터 부풀리기를 적용한 훈련 데이터 제너레이터\n",
    "train_datagen = ImageDataGenerator(rescale=1./255, \n",
    "                                   rotation_range=15,\n",
    "                                   width_shift_range=0.1,\n",
    "                                   height_shift_range=0.1,\n",
    "                                   shear_range=0.5,\n",
    "                                   zoom_range=[0.8, 2.0],\n",
    "                                   horizontal_flip=True,\n",
    "                                   vertical_flip=True,\n",
    "                                   fill_mode='nearest')"
   ]
  },
  {
   "cell_type": "code",
   "execution_count": 6,
   "metadata": {
    "colab": {},
    "colab_type": "code",
    "id": "9Ffv4Qcfkxd0"
   },
   "outputs": [],
   "source": [
    "img = load_img('hard_handwriting_shape/train/triangle/triangle001.png')\n",
    "x = img_to_array(img)\n",
    "x = x.reshape((1,) + x.shape)\n",
    "\n",
    "i = 0\n",
    "\n",
    "# 무한 for loop이니 주의!!!\n",
    "for batch in train_datagen.flow(x, batch_size=1, save_to_dir='preview', \n",
    "                                save_prefix='tri', save_format='png'):\n",
    "    i += 1\n",
    "    if i > 30: \n",
    "        break"
   ]
  },
  {
   "cell_type": "markdown",
   "metadata": {
    "colab_type": "text",
    "id": "2VFAvDns3n9d"
   },
   "source": [
    "### 데이터셋 생성하기"
   ]
  },
  {
   "cell_type": "code",
   "execution_count": 7,
   "metadata": {
    "colab": {
     "base_uri": "https://localhost:8080/",
     "height": 53
    },
    "colab_type": "code",
    "id": "g8ZZac3U3nWj",
    "outputId": "d6911fa9-f142-489d-aaac-c442e2a563b1"
   },
   "outputs": [
    {
     "name": "stdout",
     "output_type": "stream",
     "text": [
      "Found 45 images belonging to 3 classes.\n",
      "Found 15 images belonging to 3 classes.\n"
     ]
    }
   ],
   "source": [
    "train_generator = train_datagen.flow_from_directory(\n",
    "        'hard_handwriting_shape/train',\n",
    "        target_size=(24, 24),\n",
    "        batch_size=3,\n",
    "        class_mode='categorical')\n",
    "\n",
    "test_datagen = ImageDataGenerator(rescale=1./255)\n",
    "\n",
    "test_generator = test_datagen.flow_from_directory(\n",
    "        'hard_handwriting_shape/test',\n",
    "        target_size=(24, 24),    \n",
    "        batch_size=3,\n",
    "        class_mode='categorical')"
   ]
  },
  {
   "cell_type": "markdown",
   "metadata": {
    "colab_type": "text",
    "id": "K88bSm6wpwsK"
   },
   "source": [
    "### 모델 구성하기"
   ]
  },
  {
   "cell_type": "code",
   "execution_count": 8,
   "metadata": {
    "colab": {
     "base_uri": "https://localhost:8080/",
     "height": 377
    },
    "colab_type": "code",
    "id": "G5TOCJzIpVfR",
    "outputId": "50fcbc1c-f6b5-4923-9e24-0e29f5da5f38"
   },
   "outputs": [
    {
     "name": "stdout",
     "output_type": "stream",
     "text": [
      "Model: \"sequential_1\"\n",
      "_________________________________________________________________\n",
      "Layer (type)                 Output Shape              Param #   \n",
      "=================================================================\n",
      "conv2d_1 (Conv2D)            (None, 22, 22, 32)        896       \n",
      "_________________________________________________________________\n",
      "conv2d_2 (Conv2D)            (None, 20, 20, 64)        18496     \n",
      "_________________________________________________________________\n",
      "max_pooling2d_1 (MaxPooling2 (None, 10, 10, 64)        0         \n",
      "_________________________________________________________________\n",
      "flatten_1 (Flatten)          (None, 6400)              0         \n",
      "_________________________________________________________________\n",
      "dense_1 (Dense)              (None, 128)               819328    \n",
      "_________________________________________________________________\n",
      "dense_2 (Dense)              (None, 3)                 387       \n",
      "=================================================================\n",
      "Total params: 839,107\n",
      "Trainable params: 839,107\n",
      "Non-trainable params: 0\n",
      "_________________________________________________________________\n"
     ]
    }
   ],
   "source": [
    "model = Sequential()\n",
    "model.add(Conv2D(32, kernel_size=(3, 3),\n",
    "                 activation='relu', input_shape=(24,24,3)))\n",
    "model.add(Conv2D(64, (3, 3), activation='relu'))\n",
    "model.add(MaxPooling2D(pool_size=(2, 2)))\n",
    "model.add(Flatten())\n",
    "model.add(Dense(128, activation='relu'))\n",
    "model.add(Dense(3, activation='softmax'))\n",
    "model.summary()"
   ]
  },
  {
   "cell_type": "markdown",
   "metadata": {
    "colab_type": "text",
    "id": "wrjhuhJ2tEeA"
   },
   "source": [
    "### 모델 학습과정 설정하기"
   ]
  },
  {
   "cell_type": "code",
   "execution_count": 9,
   "metadata": {
    "colab": {},
    "colab_type": "code",
    "id": "hBUFfHV6sSRW"
   },
   "outputs": [],
   "source": [
    "model.compile(loss='categorical_crossentropy', \n",
    "              optimizer='adam', metrics=['accuracy'])"
   ]
  },
  {
   "cell_type": "markdown",
   "metadata": {
    "colab_type": "text",
    "id": "sZ_WQ05itPr9"
   },
   "source": [
    "### 모델 학습시키기\n",
    "- 첫번째 인자 : 훈련데이터셋을 제공할 제네레이터를 지정. 본 예제에서는 앞서 생성한 train_generator으로 지정.\n",
    "- steps_per_epoch : 한 epoch에 사용한 스텝 수를 지정. 총 45개의 훈련 샘플이 있고 배치사이즈가 3이므로 15 스텝으로 지정.\n",
    "- epochs : 전체 훈련 데이터셋에 대해 학습 반복 횟수를 지정. 200번을 반복적으로 학습.\n",
    "- validation_data : 검증데이터셋을 제공할 제네레이터를 지정. 본 예제에서는 앞서 생성한 validation_generator으로 지정.\n",
    "- validation_steps : 한 epoch 종료 시 마다 검증할 때 사용되는 검증 스텝 수를 지정. 홍 15개의 검증 샘플이 있고 배치사이즈가 3이므로 5 스텝으로 지정."
   ]
  },
  {
   "cell_type": "code",
   "execution_count": 10,
   "metadata": {
    "colab": {
     "base_uri": "https://localhost:8080/",
     "height": 1000
    },
    "colab_type": "code",
    "id": "oMzc0kFdtLMY",
    "outputId": "820a8ed5-d798-4b67-bac7-bb1b9384ab93"
   },
   "outputs": [
    {
     "name": "stdout",
     "output_type": "stream",
     "text": [
      "Epoch 1/200\n",
      "15/15 [==============================] - 0s 20ms/step - loss: 1.3388 - accuracy: 0.2667 - val_loss: 1.0601 - val_accuracy: 0.2667\n",
      "Epoch 2/200\n",
      "15/15 [==============================] - 0s 18ms/step - loss: 1.0757 - accuracy: 0.4444 - val_loss: 1.0961 - val_accuracy: 0.4000\n",
      "Epoch 3/200\n",
      "15/15 [==============================] - 0s 17ms/step - loss: 0.9814 - accuracy: 0.6222 - val_loss: 0.9568 - val_accuracy: 0.4000\n",
      "Epoch 4/200\n",
      "15/15 [==============================] - 0s 20ms/step - loss: 0.8485 - accuracy: 0.6444 - val_loss: 0.3764 - val_accuracy: 0.5333\n",
      "Epoch 5/200\n",
      "15/15 [==============================] - 0s 20ms/step - loss: 0.6179 - accuracy: 0.7333 - val_loss: 1.1621 - val_accuracy: 0.5333\n",
      "Epoch 6/200\n",
      "15/15 [==============================] - 0s 20ms/step - loss: 0.7052 - accuracy: 0.6889 - val_loss: 0.0986 - val_accuracy: 0.6000\n",
      "Epoch 7/200\n",
      "15/15 [==============================] - 0s 17ms/step - loss: 0.5758 - accuracy: 0.6889 - val_loss: 0.3965 - val_accuracy: 0.5333\n",
      "Epoch 8/200\n",
      "15/15 [==============================] - 0s 21ms/step - loss: 0.5462 - accuracy: 0.7778 - val_loss: 1.2449 - val_accuracy: 0.6000\n",
      "Epoch 9/200\n",
      "15/15 [==============================] - 0s 21ms/step - loss: 0.5361 - accuracy: 0.7556 - val_loss: 0.8272 - val_accuracy: 0.6000\n",
      "Epoch 10/200\n",
      "15/15 [==============================] - 0s 20ms/step - loss: 0.4195 - accuracy: 0.8444 - val_loss: 0.0425 - val_accuracy: 0.6000\n",
      "Epoch 11/200\n",
      "15/15 [==============================] - 0s 17ms/step - loss: 0.6263 - accuracy: 0.8444 - val_loss: 1.0891 - val_accuracy: 0.6000\n",
      "Epoch 12/200\n",
      "15/15 [==============================] - 0s 21ms/step - loss: 0.4099 - accuracy: 0.8667 - val_loss: 2.4534 - val_accuracy: 0.4667\n",
      "Epoch 13/200\n",
      "15/15 [==============================] - 0s 20ms/step - loss: 0.3412 - accuracy: 0.7778 - val_loss: 1.8846 - val_accuracy: 0.6667\n",
      "Epoch 14/200\n",
      "15/15 [==============================] - 0s 20ms/step - loss: 0.2673 - accuracy: 0.9111 - val_loss: 3.3518 - val_accuracy: 0.4667\n",
      "Epoch 15/200\n",
      "15/15 [==============================] - 0s 17ms/step - loss: 0.2970 - accuracy: 0.8889 - val_loss: 0.0745 - val_accuracy: 0.6667\n",
      "Epoch 16/200\n",
      "15/15 [==============================] - 0s 21ms/step - loss: 0.3638 - accuracy: 0.9111 - val_loss: 2.0665 - val_accuracy: 0.6000\n",
      "Epoch 17/200\n",
      "15/15 [==============================] - 0s 20ms/step - loss: 0.1921 - accuracy: 0.9778 - val_loss: 0.0018 - val_accuracy: 0.6667\n",
      "Epoch 18/200\n",
      "15/15 [==============================] - 0s 21ms/step - loss: 0.1342 - accuracy: 0.9556 - val_loss: 0.1708 - val_accuracy: 0.6667\n",
      "Epoch 19/200\n",
      "15/15 [==============================] - 0s 18ms/step - loss: 0.3216 - accuracy: 0.9111 - val_loss: 0.7609 - val_accuracy: 0.5333\n",
      "Epoch 20/200\n",
      "15/15 [==============================] - 0s 20ms/step - loss: 0.0503 - accuracy: 1.0000 - val_loss: 2.1123 - val_accuracy: 0.7333\n",
      "Epoch 21/200\n",
      "15/15 [==============================] - 0s 18ms/step - loss: 0.2016 - accuracy: 0.8667 - val_loss: 0.0459 - val_accuracy: 0.7333\n",
      "Epoch 22/200\n",
      "15/15 [==============================] - 0s 20ms/step - loss: 0.0824 - accuracy: 0.9778 - val_loss: 3.8095 - val_accuracy: 0.6667\n",
      "Epoch 23/200\n",
      "15/15 [==============================] - 0s 20ms/step - loss: 0.0633 - accuracy: 0.9778 - val_loss: 0.0041 - val_accuracy: 0.6000\n",
      "Epoch 24/200\n",
      "15/15 [==============================] - 0s 20ms/step - loss: 0.0480 - accuracy: 1.0000 - val_loss: 0.3314 - val_accuracy: 0.6000\n",
      "Epoch 25/200\n",
      "15/15 [==============================] - 0s 21ms/step - loss: 0.0932 - accuracy: 0.9778 - val_loss: 1.8804 - val_accuracy: 0.6667\n",
      "Epoch 26/200\n",
      "15/15 [==============================] - 0s 20ms/step - loss: 0.1126 - accuracy: 0.9556 - val_loss: 2.0322 - val_accuracy: 0.6667\n",
      "Epoch 27/200\n",
      "15/15 [==============================] - 0s 20ms/step - loss: 0.1286 - accuracy: 0.9778 - val_loss: 2.1413 - val_accuracy: 0.6000\n",
      "Epoch 28/200\n",
      "15/15 [==============================] - 0s 17ms/step - loss: 0.1098 - accuracy: 0.9778 - val_loss: 1.5216 - val_accuracy: 0.7333\n",
      "Epoch 29/200\n",
      "15/15 [==============================] - 0s 18ms/step - loss: 0.0407 - accuracy: 1.0000 - val_loss: 0.1569 - val_accuracy: 0.6667\n",
      "Epoch 30/200\n",
      "15/15 [==============================] - 0s 20ms/step - loss: 0.0444 - accuracy: 1.0000 - val_loss: 0.0093 - val_accuracy: 0.7333\n",
      "Epoch 31/200\n",
      "15/15 [==============================] - 0s 21ms/step - loss: 0.0328 - accuracy: 0.9778 - val_loss: 2.8996 - val_accuracy: 0.6667\n",
      "Epoch 32/200\n",
      "15/15 [==============================] - 0s 19ms/step - loss: 0.0792 - accuracy: 0.9556 - val_loss: 6.2243 - val_accuracy: 0.6000\n",
      "Epoch 33/200\n",
      "15/15 [==============================] - 0s 19ms/step - loss: 0.0226 - accuracy: 1.0000 - val_loss: 3.2743 - val_accuracy: 0.7333\n",
      "Epoch 34/200\n",
      "15/15 [==============================] - 0s 21ms/step - loss: 0.1682 - accuracy: 0.9333 - val_loss: 1.9222 - val_accuracy: 0.6000\n",
      "Epoch 35/200\n",
      "15/15 [==============================] - 0s 19ms/step - loss: 0.0751 - accuracy: 0.9778 - val_loss: 1.7237 - val_accuracy: 0.6667\n",
      "Epoch 36/200\n",
      "15/15 [==============================] - 0s 20ms/step - loss: 0.0576 - accuracy: 1.0000 - val_loss: 3.3620 - val_accuracy: 0.6667\n",
      "Epoch 37/200\n",
      "15/15 [==============================] - 0s 16ms/step - loss: 0.1161 - accuracy: 0.9556 - val_loss: 0.0357 - val_accuracy: 0.7333\n",
      "Epoch 38/200\n",
      "15/15 [==============================] - 0s 22ms/step - loss: 0.1151 - accuracy: 0.9556 - val_loss: 5.1799 - val_accuracy: 0.6000\n",
      "Epoch 39/200\n",
      "15/15 [==============================] - 0s 19ms/step - loss: 0.0801 - accuracy: 0.9556 - val_loss: 1.5020 - val_accuracy: 0.6667\n",
      "Epoch 40/200\n",
      "15/15 [==============================] - 0s 20ms/step - loss: 0.0274 - accuracy: 1.0000 - val_loss: 0.2351 - val_accuracy: 0.6000\n",
      "Epoch 41/200\n",
      "15/15 [==============================] - 0s 20ms/step - loss: 0.0543 - accuracy: 0.9778 - val_loss: 4.5933e-05 - val_accuracy: 0.7333\n",
      "Epoch 42/200\n",
      "15/15 [==============================] - 0s 18ms/step - loss: 0.0934 - accuracy: 0.9778 - val_loss: 0.0025 - val_accuracy: 0.6667\n",
      "Epoch 43/200\n",
      "15/15 [==============================] - 0s 16ms/step - loss: 0.1239 - accuracy: 0.9556 - val_loss: 0.0343 - val_accuracy: 0.7333\n",
      "Epoch 44/200\n",
      "15/15 [==============================] - 0s 21ms/step - loss: 0.1043 - accuracy: 0.9556 - val_loss: 0.7742 - val_accuracy: 0.8000\n",
      "Epoch 45/200\n",
      "15/15 [==============================] - 0s 20ms/step - loss: 0.1192 - accuracy: 0.9778 - val_loss: 0.0637 - val_accuracy: 0.8000\n",
      "Epoch 46/200\n",
      "15/15 [==============================] - 0s 18ms/step - loss: 0.0283 - accuracy: 1.0000 - val_loss: 3.3518 - val_accuracy: 0.8000\n",
      "Epoch 47/200\n",
      "15/15 [==============================] - 0s 19ms/step - loss: 0.2088 - accuracy: 0.9778 - val_loss: 1.6323 - val_accuracy: 0.8000\n",
      "Epoch 48/200\n",
      "15/15 [==============================] - 0s 16ms/step - loss: 0.0181 - accuracy: 1.0000 - val_loss: 3.7451e-04 - val_accuracy: 0.8000\n",
      "Epoch 49/200\n",
      "15/15 [==============================] - 0s 20ms/step - loss: 0.0430 - accuracy: 1.0000 - val_loss: 2.2336 - val_accuracy: 0.6667\n",
      "Epoch 50/200\n",
      "15/15 [==============================] - 0s 17ms/step - loss: 0.0109 - accuracy: 1.0000 - val_loss: 3.6804 - val_accuracy: 0.6667\n",
      "Epoch 51/200\n",
      "15/15 [==============================] - 0s 20ms/step - loss: 0.0436 - accuracy: 0.9778 - val_loss: 0.0954 - val_accuracy: 0.7333\n",
      "Epoch 52/200\n",
      "15/15 [==============================] - 0s 17ms/step - loss: 0.0209 - accuracy: 1.0000 - val_loss: 2.7127 - val_accuracy: 0.7333\n",
      "Epoch 53/200\n",
      "15/15 [==============================] - 0s 20ms/step - loss: 0.0547 - accuracy: 0.9778 - val_loss: 4.5645 - val_accuracy: 0.7333\n",
      "Epoch 54/200\n",
      "15/15 [==============================] - 0s 20ms/step - loss: 0.1591 - accuracy: 0.9778 - val_loss: 8.3636 - val_accuracy: 0.6000\n",
      "Epoch 55/200\n",
      "15/15 [==============================] - 0s 17ms/step - loss: 0.2050 - accuracy: 0.8889 - val_loss: 0.0018 - val_accuracy: 0.7333\n",
      "Epoch 56/200\n",
      "15/15 [==============================] - 0s 17ms/step - loss: 0.0253 - accuracy: 1.0000 - val_loss: 2.1236 - val_accuracy: 0.8000\n",
      "Epoch 57/200\n",
      "15/15 [==============================] - 0s 18ms/step - loss: 0.0471 - accuracy: 1.0000 - val_loss: 0.0034 - val_accuracy: 0.8000\n",
      "Epoch 58/200\n"
     ]
    },
    {
     "name": "stdout",
     "output_type": "stream",
     "text": [
      "15/15 [==============================] - 0s 17ms/step - loss: 0.0450 - accuracy: 0.9778 - val_loss: 3.2980 - val_accuracy: 0.7333\n",
      "Epoch 59/200\n",
      "15/15 [==============================] - 0s 20ms/step - loss: 0.0714 - accuracy: 0.9778 - val_loss: 3.1584 - val_accuracy: 0.7333\n",
      "Epoch 60/200\n",
      "15/15 [==============================] - 0s 21ms/step - loss: 0.1115 - accuracy: 0.9333 - val_loss: 0.1388 - val_accuracy: 0.8000\n",
      "Epoch 61/200\n",
      "15/15 [==============================] - 0s 20ms/step - loss: 0.0829 - accuracy: 0.9556 - val_loss: 0.0784 - val_accuracy: 0.8000\n",
      "Epoch 62/200\n",
      "15/15 [==============================] - 0s 19ms/step - loss: 0.0739 - accuracy: 0.9556 - val_loss: 0.3416 - val_accuracy: 0.6667\n",
      "Epoch 63/200\n",
      "15/15 [==============================] - 0s 21ms/step - loss: 0.0310 - accuracy: 1.0000 - val_loss: 0.0565 - val_accuracy: 0.7333\n",
      "Epoch 64/200\n",
      "15/15 [==============================] - 0s 21ms/step - loss: 0.0532 - accuracy: 0.9556 - val_loss: 1.9744e-04 - val_accuracy: 0.8000\n",
      "Epoch 65/200\n",
      "15/15 [==============================] - 0s 17ms/step - loss: 0.1040 - accuracy: 0.9778 - val_loss: 4.5888 - val_accuracy: 0.5333\n",
      "Epoch 66/200\n",
      "15/15 [==============================] - 0s 22ms/step - loss: 0.0474 - accuracy: 0.9778 - val_loss: 0.0015 - val_accuracy: 0.8000\n",
      "Epoch 67/200\n",
      "15/15 [==============================] - 0s 17ms/step - loss: 0.0194 - accuracy: 1.0000 - val_loss: 0.8676 - val_accuracy: 0.8000\n",
      "Epoch 68/200\n",
      "15/15 [==============================] - 0s 20ms/step - loss: 0.0833 - accuracy: 0.9556 - val_loss: 3.2006 - val_accuracy: 0.8000\n",
      "Epoch 69/200\n",
      "15/15 [==============================] - 0s 20ms/step - loss: 0.1045 - accuracy: 0.9556 - val_loss: 4.0754 - val_accuracy: 0.5333\n",
      "Epoch 70/200\n",
      "15/15 [==============================] - 0s 21ms/step - loss: 0.1381 - accuracy: 0.9333 - val_loss: 2.6454 - val_accuracy: 0.6667\n",
      "Epoch 71/200\n",
      "15/15 [==============================] - 0s 19ms/step - loss: 0.0566 - accuracy: 0.9778 - val_loss: 3.2738 - val_accuracy: 0.6000\n",
      "Epoch 72/200\n",
      "15/15 [==============================] - 0s 20ms/step - loss: 0.2736 - accuracy: 0.9556 - val_loss: 0.0105 - val_accuracy: 0.8000\n",
      "Epoch 73/200\n",
      "15/15 [==============================] - 0s 19ms/step - loss: 0.0866 - accuracy: 0.9778 - val_loss: 2.0147 - val_accuracy: 0.8000\n",
      "Epoch 74/200\n",
      "15/15 [==============================] - 0s 19ms/step - loss: 0.1011 - accuracy: 0.9556 - val_loss: 0.1028 - val_accuracy: 0.8000\n",
      "Epoch 75/200\n",
      "15/15 [==============================] - 0s 20ms/step - loss: 0.0895 - accuracy: 0.9556 - val_loss: 0.7386 - val_accuracy: 0.8000\n",
      "Epoch 76/200\n",
      "15/15 [==============================] - 0s 19ms/step - loss: 0.1222 - accuracy: 0.9556 - val_loss: 0.0533 - val_accuracy: 0.6000\n",
      "Epoch 77/200\n",
      "15/15 [==============================] - 0s 20ms/step - loss: 0.1103 - accuracy: 0.9778 - val_loss: 3.2748 - val_accuracy: 0.7333\n",
      "Epoch 78/200\n",
      "15/15 [==============================] - 0s 18ms/step - loss: 0.0568 - accuracy: 0.9778 - val_loss: 2.5033 - val_accuracy: 0.6667\n",
      "Epoch 79/200\n",
      "15/15 [==============================] - 0s 21ms/step - loss: 0.0790 - accuracy: 0.9556 - val_loss: 1.3329 - val_accuracy: 0.5333\n",
      "Epoch 80/200\n",
      "15/15 [==============================] - 0s 18ms/step - loss: 0.0757 - accuracy: 0.9778 - val_loss: 1.2931 - val_accuracy: 0.6000\n",
      "Epoch 81/200\n",
      "15/15 [==============================] - 0s 21ms/step - loss: 0.0220 - accuracy: 1.0000 - val_loss: 1.3004 - val_accuracy: 0.6000\n",
      "Epoch 82/200\n",
      "15/15 [==============================] - 0s 17ms/step - loss: 0.0215 - accuracy: 1.0000 - val_loss: 6.2743 - val_accuracy: 0.6000\n",
      "Epoch 83/200\n",
      "15/15 [==============================] - 0s 18ms/step - loss: 0.1445 - accuracy: 0.9556 - val_loss: 6.4692 - val_accuracy: 0.7333\n",
      "Epoch 84/200\n",
      "15/15 [==============================] - 0s 20ms/step - loss: 0.0921 - accuracy: 0.9556 - val_loss: 2.5418 - val_accuracy: 0.6667\n",
      "Epoch 85/200\n",
      "15/15 [==============================] - 0s 20ms/step - loss: 0.0304 - accuracy: 1.0000 - val_loss: 4.7963 - val_accuracy: 0.7333\n",
      "Epoch 86/200\n",
      "15/15 [==============================] - 0s 20ms/step - loss: 0.0086 - accuracy: 1.0000 - val_loss: 2.8219 - val_accuracy: 0.8000\n",
      "Epoch 87/200\n",
      "15/15 [==============================] - 0s 20ms/step - loss: 0.0427 - accuracy: 0.9778 - val_loss: 2.4992 - val_accuracy: 0.8000\n",
      "Epoch 88/200\n",
      "15/15 [==============================] - 0s 21ms/step - loss: 0.0072 - accuracy: 1.0000 - val_loss: 0.0060 - val_accuracy: 0.8000\n",
      "Epoch 89/200\n",
      "15/15 [==============================] - 0s 19ms/step - loss: 0.0261 - accuracy: 0.9778 - val_loss: 0.1819 - val_accuracy: 0.8000\n",
      "Epoch 90/200\n",
      "15/15 [==============================] - 0s 21ms/step - loss: 0.0375 - accuracy: 0.9778 - val_loss: 2.9257 - val_accuracy: 0.6667\n",
      "Epoch 91/200\n",
      "15/15 [==============================] - 0s 20ms/step - loss: 0.0837 - accuracy: 0.9778 - val_loss: 0.0012 - val_accuracy: 0.8000\n",
      "Epoch 92/200\n",
      "15/15 [==============================] - 0s 19ms/step - loss: 0.0269 - accuracy: 0.9778 - val_loss: 2.1521 - val_accuracy: 0.7333\n",
      "Epoch 93/200\n",
      "15/15 [==============================] - 0s 17ms/step - loss: 0.0058 - accuracy: 1.0000 - val_loss: 8.3557e-05 - val_accuracy: 0.7333\n",
      "Epoch 94/200\n",
      "15/15 [==============================] - 0s 20ms/step - loss: 0.0214 - accuracy: 1.0000 - val_loss: 3.5116 - val_accuracy: 0.6000\n",
      "Epoch 95/200\n",
      "15/15 [==============================] - 0s 20ms/step - loss: 0.0011 - accuracy: 1.0000 - val_loss: 3.9335 - val_accuracy: 0.5333\n",
      "Epoch 96/200\n",
      "15/15 [==============================] - 0s 20ms/step - loss: 0.0101 - accuracy: 1.0000 - val_loss: 6.8892 - val_accuracy: 0.6000\n",
      "Epoch 97/200\n",
      "15/15 [==============================] - 0s 20ms/step - loss: 0.0044 - accuracy: 1.0000 - val_loss: 0.0848 - val_accuracy: 0.7333\n",
      "Epoch 98/200\n",
      "15/15 [==============================] - 0s 19ms/step - loss: 0.0123 - accuracy: 1.0000 - val_loss: 5.1310 - val_accuracy: 0.6000\n",
      "Epoch 99/200\n",
      "15/15 [==============================] - 0s 20ms/step - loss: 0.0092 - accuracy: 1.0000 - val_loss: 0.0029 - val_accuracy: 0.6000\n",
      "Epoch 100/200\n",
      "15/15 [==============================] - 0s 18ms/step - loss: 0.0017 - accuracy: 1.0000 - val_loss: 0.8908 - val_accuracy: 0.6000\n",
      "Epoch 101/200\n",
      "15/15 [==============================] - 0s 17ms/step - loss: 0.0559 - accuracy: 0.9778 - val_loss: 2.7527 - val_accuracy: 0.7333\n",
      "Epoch 102/200\n",
      "15/15 [==============================] - 0s 20ms/step - loss: 0.0761 - accuracy: 0.9556 - val_loss: 0.0985 - val_accuracy: 0.7333\n",
      "Epoch 103/200\n",
      "15/15 [==============================] - 0s 20ms/step - loss: 0.0166 - accuracy: 1.0000 - val_loss: 0.2750 - val_accuracy: 0.6667\n",
      "Epoch 104/200\n",
      "15/15 [==============================] - 0s 20ms/step - loss: 0.0578 - accuracy: 0.9778 - val_loss: 1.1772 - val_accuracy: 0.7333\n",
      "Epoch 105/200\n",
      "15/15 [==============================] - 0s 19ms/step - loss: 0.0056 - accuracy: 1.0000 - val_loss: 0.0045 - val_accuracy: 0.7333\n",
      "Epoch 106/200\n",
      "15/15 [==============================] - 0s 18ms/step - loss: 0.0318 - accuracy: 1.0000 - val_loss: 3.8345 - val_accuracy: 0.7333\n",
      "Epoch 107/200\n",
      "15/15 [==============================] - 0s 19ms/step - loss: 0.0351 - accuracy: 0.9778 - val_loss: 2.0391 - val_accuracy: 0.5333\n",
      "Epoch 108/200\n",
      "15/15 [==============================] - 0s 21ms/step - loss: 0.0283 - accuracy: 0.9778 - val_loss: 0.0959 - val_accuracy: 0.6667\n",
      "Epoch 109/200\n",
      "15/15 [==============================] - 0s 17ms/step - loss: 0.2806 - accuracy: 0.9111 - val_loss: 2.7638 - val_accuracy: 0.7333\n",
      "Epoch 110/200\n",
      "15/15 [==============================] - 0s 17ms/step - loss: 0.1091 - accuracy: 0.9778 - val_loss: 2.2349 - val_accuracy: 0.7333\n",
      "Epoch 111/200\n",
      "15/15 [==============================] - 0s 20ms/step - loss: 0.0806 - accuracy: 0.9778 - val_loss: 1.4448 - val_accuracy: 0.6000\n",
      "Epoch 112/200\n",
      "15/15 [==============================] - 0s 20ms/step - loss: 0.2175 - accuracy: 0.9333 - val_loss: 0.0046 - val_accuracy: 0.7333\n",
      "Epoch 113/200\n",
      "15/15 [==============================] - 0s 20ms/step - loss: 0.0629 - accuracy: 0.9556 - val_loss: 0.0084 - val_accuracy: 0.6667\n",
      "Epoch 114/200\n",
      "15/15 [==============================] - 0s 20ms/step - loss: 0.0856 - accuracy: 0.9556 - val_loss: 2.4540 - val_accuracy: 0.7333\n",
      "Epoch 115/200\n"
     ]
    },
    {
     "name": "stdout",
     "output_type": "stream",
     "text": [
      "15/15 [==============================] - 0s 16ms/step - loss: 0.1308 - accuracy: 0.9778 - val_loss: 6.4288e-05 - val_accuracy: 0.8000\n",
      "Epoch 116/200\n",
      "15/15 [==============================] - 0s 20ms/step - loss: 0.0046 - accuracy: 1.0000 - val_loss: 5.3176 - val_accuracy: 0.8000\n",
      "Epoch 117/200\n",
      "15/15 [==============================] - 0s 20ms/step - loss: 0.0290 - accuracy: 0.9778 - val_loss: 0.0438 - val_accuracy: 0.7333\n",
      "Epoch 118/200\n",
      "15/15 [==============================] - 0s 18ms/step - loss: 0.1129 - accuracy: 0.9778 - val_loss: 5.6097 - val_accuracy: 0.7333\n",
      "Epoch 119/200\n",
      "15/15 [==============================] - 0s 20ms/step - loss: 0.0612 - accuracy: 0.9778 - val_loss: 0.5564 - val_accuracy: 0.7333\n",
      "Epoch 120/200\n",
      "15/15 [==============================] - 0s 20ms/step - loss: 0.0379 - accuracy: 0.9778 - val_loss: 3.8676 - val_accuracy: 0.8000\n",
      "Epoch 121/200\n",
      "15/15 [==============================] - 0s 23ms/step - loss: 0.0776 - accuracy: 0.9778 - val_loss: 0.0716 - val_accuracy: 0.8000\n",
      "Epoch 122/200\n",
      "15/15 [==============================] - 0s 17ms/step - loss: 0.0223 - accuracy: 1.0000 - val_loss: 0.1014 - val_accuracy: 0.8000\n",
      "Epoch 123/200\n",
      "15/15 [==============================] - 0s 20ms/step - loss: 0.0048 - accuracy: 1.0000 - val_loss: 0.1949 - val_accuracy: 0.8000\n",
      "Epoch 124/200\n",
      "15/15 [==============================] - 0s 20ms/step - loss: 0.0025 - accuracy: 1.0000 - val_loss: 0.0180 - val_accuracy: 0.8000\n",
      "Epoch 125/200\n",
      "15/15 [==============================] - 0s 19ms/step - loss: 0.0171 - accuracy: 1.0000 - val_loss: 0.0247 - val_accuracy: 0.7333\n",
      "Epoch 126/200\n",
      "15/15 [==============================] - 0s 20ms/step - loss: 0.0729 - accuracy: 0.9778 - val_loss: 2.4159e-05 - val_accuracy: 0.7333\n",
      "Epoch 127/200\n",
      "15/15 [==============================] - 0s 20ms/step - loss: 0.0771 - accuracy: 0.9778 - val_loss: 3.0206 - val_accuracy: 0.8000\n",
      "Epoch 128/200\n",
      "15/15 [==============================] - 0s 20ms/step - loss: 0.0342 - accuracy: 1.0000 - val_loss: 0.0066 - val_accuracy: 0.8000\n",
      "Epoch 129/200\n",
      "15/15 [==============================] - 0s 17ms/step - loss: 0.0105 - accuracy: 1.0000 - val_loss: 2.5200 - val_accuracy: 0.8000\n",
      "Epoch 130/200\n",
      "15/15 [==============================] - 0s 21ms/step - loss: 0.0016 - accuracy: 1.0000 - val_loss: 0.0161 - val_accuracy: 0.8000\n",
      "Epoch 131/200\n",
      "15/15 [==============================] - 0s 19ms/step - loss: 0.0024 - accuracy: 1.0000 - val_loss: 0.1555 - val_accuracy: 0.8000\n",
      "Epoch 132/200\n",
      "15/15 [==============================] - 0s 21ms/step - loss: 0.0047 - accuracy: 1.0000 - val_loss: 3.9736e-08 - val_accuracy: 0.8000\n",
      "Epoch 133/200\n",
      "15/15 [==============================] - 0s 20ms/step - loss: 0.0057 - accuracy: 1.0000 - val_loss: 0.0891 - val_accuracy: 0.8000\n",
      "Epoch 134/200\n",
      "15/15 [==============================] - 0s 21ms/step - loss: 0.0204 - accuracy: 1.0000 - val_loss: 2.4216 - val_accuracy: 0.8000\n",
      "Epoch 135/200\n",
      "15/15 [==============================] - 0s 20ms/step - loss: 0.0264 - accuracy: 0.9778 - val_loss: 8.1934 - val_accuracy: 0.8000\n",
      "Epoch 136/200\n",
      "15/15 [==============================] - 0s 20ms/step - loss: 0.0132 - accuracy: 1.0000 - val_loss: 0.0239 - val_accuracy: 0.8000\n",
      "Epoch 137/200\n",
      "15/15 [==============================] - 0s 20ms/step - loss: 9.4262e-04 - accuracy: 1.0000 - val_loss: 1.8716e-05 - val_accuracy: 0.8000\n",
      "Epoch 138/200\n",
      "15/15 [==============================] - 0s 18ms/step - loss: 0.0301 - accuracy: 0.9778 - val_loss: 8.2128e-05 - val_accuracy: 0.8000\n",
      "Epoch 139/200\n",
      "15/15 [==============================] - 0s 20ms/step - loss: 0.0451 - accuracy: 0.9778 - val_loss: 0.5431 - val_accuracy: 0.6667\n",
      "Epoch 140/200\n",
      "15/15 [==============================] - 0s 21ms/step - loss: 0.0617 - accuracy: 0.9778 - val_loss: 0.7242 - val_accuracy: 0.7333\n",
      "Epoch 141/200\n",
      "15/15 [==============================] - 0s 16ms/step - loss: 0.0911 - accuracy: 0.9778 - val_loss: 0.4176 - val_accuracy: 0.8000\n",
      "Epoch 142/200\n",
      "15/15 [==============================] - 0s 17ms/step - loss: 0.1347 - accuracy: 0.9556 - val_loss: 1.3556e-04 - val_accuracy: 0.6667\n",
      "Epoch 143/200\n",
      "15/15 [==============================] - 0s 20ms/step - loss: 0.1432 - accuracy: 0.9556 - val_loss: 5.8755 - val_accuracy: 0.7333\n",
      "Epoch 144/200\n",
      "15/15 [==============================] - 0s 21ms/step - loss: 0.0680 - accuracy: 0.9556 - val_loss: 2.6700 - val_accuracy: 0.8000\n",
      "Epoch 145/200\n",
      "15/15 [==============================] - 0s 17ms/step - loss: 0.0180 - accuracy: 1.0000 - val_loss: 6.2608 - val_accuracy: 0.8000\n",
      "Epoch 146/200\n",
      "15/15 [==============================] - 0s 17ms/step - loss: 0.0506 - accuracy: 0.9556 - val_loss: 0.0017 - val_accuracy: 0.7333\n",
      "Epoch 147/200\n",
      "15/15 [==============================] - 0s 20ms/step - loss: 0.0035 - accuracy: 1.0000 - val_loss: 4.7066e-04 - val_accuracy: 0.7333\n",
      "Epoch 148/200\n",
      "15/15 [==============================] - 0s 20ms/step - loss: 0.0658 - accuracy: 0.9778 - val_loss: 1.0172 - val_accuracy: 0.7333\n",
      "Epoch 149/200\n",
      "15/15 [==============================] - 0s 20ms/step - loss: 0.0430 - accuracy: 0.9778 - val_loss: 5.4646 - val_accuracy: 0.7333\n",
      "Epoch 150/200\n",
      "15/15 [==============================] - 0s 20ms/step - loss: 0.0348 - accuracy: 0.9778 - val_loss: 1.5599 - val_accuracy: 0.7333\n",
      "Epoch 151/200\n",
      "15/15 [==============================] - 0s 20ms/step - loss: 0.0010 - accuracy: 1.0000 - val_loss: 7.9473e-08 - val_accuracy: 0.7333\n",
      "Epoch 152/200\n",
      "15/15 [==============================] - 0s 20ms/step - loss: 0.0012 - accuracy: 1.0000 - val_loss: 1.5860 - val_accuracy: 0.7333\n",
      "Epoch 153/200\n",
      "15/15 [==============================] - 0s 20ms/step - loss: 0.0012 - accuracy: 1.0000 - val_loss: 5.2614 - val_accuracy: 0.7333\n",
      "Epoch 154/200\n",
      "15/15 [==============================] - 0s 20ms/step - loss: 0.0112 - accuracy: 1.0000 - val_loss: 2.6616 - val_accuracy: 0.7333\n",
      "Epoch 155/200\n",
      "15/15 [==============================] - 0s 17ms/step - loss: 0.0025 - accuracy: 1.0000 - val_loss: 5.2749 - val_accuracy: 0.8000\n",
      "Epoch 156/200\n",
      "15/15 [==============================] - 0s 20ms/step - loss: 0.0053 - accuracy: 1.0000 - val_loss: 7.0037 - val_accuracy: 0.8000\n",
      "Epoch 157/200\n",
      "15/15 [==============================] - 0s 20ms/step - loss: 0.0410 - accuracy: 0.9778 - val_loss: 1.5982 - val_accuracy: 0.8000\n",
      "Epoch 158/200\n",
      "15/15 [==============================] - 0s 16ms/step - loss: 0.0083 - accuracy: 1.0000 - val_loss: 7.7875 - val_accuracy: 0.7333\n",
      "Epoch 159/200\n",
      "15/15 [==============================] - 0s 18ms/step - loss: 0.0105 - accuracy: 1.0000 - val_loss: 0.0035 - val_accuracy: 0.8000\n",
      "Epoch 160/200\n",
      "15/15 [==============================] - 0s 17ms/step - loss: 0.0014 - accuracy: 1.0000 - val_loss: 1.3405 - val_accuracy: 0.8000\n",
      "Epoch 161/200\n",
      "15/15 [==============================] - 0s 20ms/step - loss: 0.0034 - accuracy: 1.0000 - val_loss: 4.9111e-05 - val_accuracy: 0.8000\n",
      "Epoch 162/200\n",
      "15/15 [==============================] - 0s 22ms/step - loss: 0.0013 - accuracy: 1.0000 - val_loss: 4.7222 - val_accuracy: 0.8000\n",
      "Epoch 163/200\n",
      "15/15 [==============================] - 0s 19ms/step - loss: 0.0050 - accuracy: 1.0000 - val_loss: 0.0175 - val_accuracy: 0.8000\n",
      "Epoch 164/200\n",
      "15/15 [==============================] - 0s 19ms/step - loss: 0.0079 - accuracy: 1.0000 - val_loss: 1.1544 - val_accuracy: 0.8000\n",
      "Epoch 165/200\n",
      "15/15 [==============================] - 0s 20ms/step - loss: 0.0015 - accuracy: 1.0000 - val_loss: 1.2930 - val_accuracy: 0.8000\n",
      "Epoch 166/200\n",
      "15/15 [==============================] - 0s 16ms/step - loss: 0.0357 - accuracy: 0.9778 - val_loss: 1.9895 - val_accuracy: 0.8000\n",
      "Epoch 167/200\n",
      "15/15 [==============================] - 0s 20ms/step - loss: 0.0859 - accuracy: 0.9778 - val_loss: 7.7982 - val_accuracy: 0.6000\n",
      "Epoch 168/200\n",
      "15/15 [==============================] - 0s 21ms/step - loss: 0.1374 - accuracy: 0.9778 - val_loss: 7.6760 - val_accuracy: 0.6000\n",
      "Epoch 169/200\n",
      "15/15 [==============================] - 0s 16ms/step - loss: 0.1728 - accuracy: 0.9333 - val_loss: 0.6285 - val_accuracy: 0.7333\n",
      "Epoch 170/200\n",
      "15/15 [==============================] - 0s 18ms/step - loss: 0.0445 - accuracy: 0.9778 - val_loss: 1.6032e-04 - val_accuracy: 0.7333\n",
      "Epoch 171/200\n"
     ]
    },
    {
     "name": "stdout",
     "output_type": "stream",
     "text": [
      "15/15 [==============================] - 0s 20ms/step - loss: 0.0182 - accuracy: 1.0000 - val_loss: 0.0536 - val_accuracy: 0.6000\n",
      "Epoch 172/200\n",
      "15/15 [==============================] - 0s 19ms/step - loss: 0.0114 - accuracy: 1.0000 - val_loss: 8.6656e-04 - val_accuracy: 0.6667\n",
      "Epoch 173/200\n",
      "15/15 [==============================] - 0s 20ms/step - loss: 0.1121 - accuracy: 0.9556 - val_loss: 0.0036 - val_accuracy: 0.6667\n",
      "Epoch 174/200\n",
      "15/15 [==============================] - 0s 19ms/step - loss: 0.1673 - accuracy: 0.9333 - val_loss: 1.1126e-06 - val_accuracy: 0.6000\n",
      "Epoch 175/200\n",
      "15/15 [==============================] - 0s 19ms/step - loss: 0.1562 - accuracy: 0.9778 - val_loss: 7.5909 - val_accuracy: 0.8000\n",
      "Epoch 176/200\n",
      "15/15 [==============================] - 0s 21ms/step - loss: 0.0082 - accuracy: 1.0000 - val_loss: 1.2193 - val_accuracy: 0.8000\n",
      "Epoch 177/200\n",
      "15/15 [==============================] - 0s 18ms/step - loss: 0.0075 - accuracy: 1.0000 - val_loss: 1.3741 - val_accuracy: 0.8000\n",
      "Epoch 178/200\n",
      "15/15 [==============================] - 0s 20ms/step - loss: 0.0013 - accuracy: 1.0000 - val_loss: 3.4042 - val_accuracy: 0.8000\n",
      "Epoch 179/200\n",
      "15/15 [==============================] - 0s 21ms/step - loss: 0.0049 - accuracy: 1.0000 - val_loss: 1.4485 - val_accuracy: 0.8000\n",
      "Epoch 180/200\n",
      "15/15 [==============================] - 0s 21ms/step - loss: 0.0156 - accuracy: 1.0000 - val_loss: 3.2584e-06 - val_accuracy: 0.8000\n",
      "Epoch 181/200\n",
      "15/15 [==============================] - 0s 17ms/step - loss: 0.0043 - accuracy: 1.0000 - val_loss: 1.4126 - val_accuracy: 0.8000\n",
      "Epoch 182/200\n",
      "15/15 [==============================] - 0s 20ms/step - loss: 0.0079 - accuracy: 1.0000 - val_loss: 4.0911 - val_accuracy: 0.8000\n",
      "Epoch 183/200\n",
      "15/15 [==============================] - 0s 20ms/step - loss: 0.0266 - accuracy: 0.9778 - val_loss: 1.6328 - val_accuracy: 0.8000\n",
      "Epoch 184/200\n",
      "15/15 [==============================] - 0s 20ms/step - loss: 0.0077 - accuracy: 1.0000 - val_loss: 1.5799 - val_accuracy: 0.6667\n",
      "Epoch 185/200\n",
      "15/15 [==============================] - 0s 20ms/step - loss: 0.0016 - accuracy: 1.0000 - val_loss: 1.9321 - val_accuracy: 0.6667\n",
      "Epoch 186/200\n",
      "15/15 [==============================] - 0s 21ms/step - loss: 0.0133 - accuracy: 1.0000 - val_loss: 0.0081 - val_accuracy: 0.8000\n",
      "Epoch 187/200\n",
      "15/15 [==============================] - 0s 20ms/step - loss: 5.9100e-04 - accuracy: 1.0000 - val_loss: 0.0120 - val_accuracy: 0.8000\n",
      "Epoch 188/200\n",
      "15/15 [==============================] - 0s 17ms/step - loss: 0.0015 - accuracy: 1.0000 - val_loss: 0.0075 - val_accuracy: 0.8000\n",
      "Epoch 189/200\n",
      "15/15 [==============================] - 0s 21ms/step - loss: 1.8981e-04 - accuracy: 1.0000 - val_loss: 1.6355 - val_accuracy: 0.8000\n",
      "Epoch 190/200\n",
      "15/15 [==============================] - 0s 24ms/step - loss: 4.6624e-04 - accuracy: 1.0000 - val_loss: 1.6325 - val_accuracy: 0.8000\n",
      "Epoch 191/200\n",
      "15/15 [==============================] - 0s 17ms/step - loss: 0.0028 - accuracy: 1.0000 - val_loss: 6.8346e-06 - val_accuracy: 0.8000\n",
      "Epoch 192/200\n",
      "15/15 [==============================] - 0s 18ms/step - loss: 0.0014 - accuracy: 1.0000 - val_loss: 0.0613 - val_accuracy: 0.8000\n",
      "Epoch 193/200\n",
      "15/15 [==============================] - 0s 18ms/step - loss: 0.0013 - accuracy: 1.0000 - val_loss: 5.2331 - val_accuracy: 0.8000\n",
      "Epoch 194/200\n",
      "15/15 [==============================] - 0s 18ms/step - loss: 0.0191 - accuracy: 0.9778 - val_loss: 0.0195 - val_accuracy: 0.8000\n",
      "Epoch 195/200\n",
      "15/15 [==============================] - 0s 17ms/step - loss: 0.0614 - accuracy: 0.9778 - val_loss: 1.0331 - val_accuracy: 0.6667\n",
      "Epoch 196/200\n",
      "15/15 [==============================] - 0s 19ms/step - loss: 0.0084 - accuracy: 1.0000 - val_loss: 0.0141 - val_accuracy: 0.6667\n",
      "Epoch 197/200\n",
      "15/15 [==============================] - 0s 17ms/step - loss: 0.0223 - accuracy: 0.9778 - val_loss: 5.3157 - val_accuracy: 0.6667\n",
      "Epoch 198/200\n",
      "15/15 [==============================] - 0s 20ms/step - loss: 0.0138 - accuracy: 1.0000 - val_loss: 0.6743 - val_accuracy: 0.6667\n",
      "Epoch 199/200\n",
      "15/15 [==============================] - 0s 20ms/step - loss: 3.1578e-04 - accuracy: 1.0000 - val_loss: 0.7790 - val_accuracy: 0.6667\n",
      "Epoch 200/200\n",
      "15/15 [==============================] - 0s 20ms/step - loss: 0.1487 - accuracy: 0.9556 - val_loss: 0.2571 - val_accuracy: 0.8000\n"
     ]
    },
    {
     "data": {
      "text/plain": [
       "<keras.callbacks.callbacks.History at 0x260b4c6cfc8>"
      ]
     },
     "execution_count": 10,
     "metadata": {},
     "output_type": "execute_result"
    }
   ],
   "source": [
    "model.fit_generator(\n",
    "        train_generator,\n",
    "        steps_per_epoch=15,    # * 100 해주어야 함\n",
    "        epochs=200,\n",
    "        validation_data=test_generator,\n",
    "        validation_steps=5)"
   ]
  },
  {
   "cell_type": "markdown",
   "metadata": {
    "colab_type": "text",
    "id": "uT9NEiI-uy52"
   },
   "source": [
    "### 모델 평가하기"
   ]
  },
  {
   "cell_type": "code",
   "execution_count": 11,
   "metadata": {
    "colab": {
     "base_uri": "https://localhost:8080/",
     "height": 53
    },
    "colab_type": "code",
    "id": "XZ8jXxlIu1SE",
    "outputId": "38f36f23-013e-4793-c638-26f0bedb5b6e"
   },
   "outputs": [
    {
     "name": "stdout",
     "output_type": "stream",
     "text": [
      "-- Evaluate --\n",
      "accuracy: 80.00%\n"
     ]
    }
   ],
   "source": [
    "print(\"-- Evaluate --\")\n",
    "scores = model.evaluate_generator(test_generator, steps=5)\n",
    "print(\"%s: %.2f%%\" %(model.metrics_names[1], scores[1]*100))"
   ]
  },
  {
   "cell_type": "code",
   "execution_count": null,
   "metadata": {},
   "outputs": [],
   "source": []
  },
  {
   "cell_type": "markdown",
   "metadata": {
    "colab_type": "text",
    "id": "QTlRD9Mqu9K6"
   },
   "source": [
    "### 모델 사용하기"
   ]
  },
  {
   "cell_type": "code",
   "execution_count": 12,
   "metadata": {
    "colab": {
     "base_uri": "https://localhost:8080/",
     "height": 323
    },
    "colab_type": "code",
    "id": "Wabhqvy-u48Q",
    "outputId": "d6b6ad06-8b60-4998-8ffb-3468141da43c"
   },
   "outputs": [
    {
     "name": "stdout",
     "output_type": "stream",
     "text": [
      "-- Predict --\n",
      "{'circle': 0, 'rectangle': 1, 'triangle': 2}\n",
      "[[0.000 0.000 1.000]\n",
      " [0.000 0.000 1.000]\n",
      " [0.000 1.000 0.000]\n",
      " [0.000 0.000 1.000]\n",
      " [0.000 0.000 1.000]\n",
      " [1.000 0.000 0.000]\n",
      " [0.004 0.947 0.049]\n",
      " [0.996 0.000 0.004]\n",
      " [0.000 0.000 1.000]\n",
      " [0.000 0.000 1.000]\n",
      " [0.186 0.690 0.124]\n",
      " [0.128 0.670 0.201]\n",
      " [0.000 0.000 1.000]\n",
      " [0.002 0.048 0.950]\n",
      " [1.000 0.000 0.000]]\n"
     ]
    }
   ],
   "source": [
    "print(\"-- Predict --\")\n",
    "output = model.predict_generator(test_generator, steps=5)\n",
    "np.set_printoptions(formatter={'float': lambda x: \"{0:0.3f}\".format(x)})\n",
    "print(test_generator.class_indices)\n",
    "print(output)"
   ]
  },
  {
   "cell_type": "code",
   "execution_count": 13,
   "metadata": {
    "colab": {},
    "colab_type": "code",
    "id": "jVItItOmvZOJ"
   },
   "outputs": [
    {
     "name": "stdout",
     "output_type": "stream",
     "text": [
      "circle\\circle021.png 0 2\n",
      "circle\\circle022.png 0 2\n",
      "circle\\circle023.png 0 1\n",
      "circle\\circle024.png 0 2\n",
      "circle\\circle025.png 0 2\n",
      "rectangle\\rectangle021.png 1 0\n",
      "rectangle\\rectangle022.png 1 1\n",
      "rectangle\\rectangle023.png 1 0\n",
      "rectangle\\rectangle024.png 1 2\n",
      "rectangle\\rectangle025.png 1 2\n",
      "triangle\\triangle021.png 2 1\n",
      "triangle\\triangle022.png 2 1\n",
      "triangle\\triangle023.png 2 2\n",
      "triangle\\triangle024.png 2 2\n",
      "triangle\\triangle025.png 2 0\n"
     ]
    }
   ],
   "source": [
    "for i in range(len(test_generator.labels)):\n",
    "    print(test_generator.filenames[i], test_generator.labels[i], np.argmax(output[i]))"
   ]
  },
  {
   "cell_type": "code",
   "execution_count": null,
   "metadata": {},
   "outputs": [],
   "source": []
  }
 ],
 "metadata": {
  "colab": {
   "collapsed_sections": [],
   "name": "PolygonClassfication_03_DataAugmentation.ipynb",
   "provenance": [],
   "version": "0.3.2"
  },
  "kernelspec": {
   "display_name": "Python 3",
   "language": "python",
   "name": "python3"
  },
  "language_info": {
   "codemirror_mode": {
    "name": "ipython",
    "version": 3
   },
   "file_extension": ".py",
   "mimetype": "text/x-python",
   "name": "python",
   "nbconvert_exporter": "python",
   "pygments_lexer": "ipython3",
   "version": "3.7.7"
  }
 },
 "nbformat": 4,
 "nbformat_minor": 1
}
