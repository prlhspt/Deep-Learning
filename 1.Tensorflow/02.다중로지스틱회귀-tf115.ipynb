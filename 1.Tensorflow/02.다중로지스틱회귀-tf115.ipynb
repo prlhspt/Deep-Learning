{
 "cells": [
  {
   "cell_type": "markdown",
   "metadata": {},
   "source": [
    "## 다중 로지스틱 회귀\n",
    "- 변수 2개: 학습 시간, 과외 횟수\n",
    "\n",
    "| 합격여부 (Y) | 0 | 0 | 0 | 1 |  1 |  1 |  1 |\n",
    "|:---:|---:|---:|---:|---:|---:|---:|---:|\n",
    "| 학습시간 (X1) | 2 | 4 | 6 | 8 | 10 | 12 | 14 |\n",
    "| 과외횟수 (X2) | 3 | 3 | 4 | 6 |  7 |  8 |  9 |"
   ]
  },
  {
   "cell_type": "code",
   "execution_count": 2,
   "metadata": {},
   "outputs": [
    {
     "data": {
      "text/plain": [
       "'1.15.0'"
      ]
     },
     "execution_count": 2,
     "metadata": {},
     "output_type": "execute_result"
    }
   ],
   "source": [
    "# 필요한 라이브러리\n",
    "import numpy as np\n",
    "import tensorflow as tf\n",
    "tf.__version__\n",
    "# import tensorflow.compat.v1 as tf\n",
    "# tf.disable_v2_behavior()"
   ]
  },
  {
   "cell_type": "code",
   "execution_count": 3,
   "metadata": {},
   "outputs": [],
   "source": [
    "# 실행할 때마다 같은 결과를 출력하기 위한 seed 값 설정\n",
    "seed = 0\n",
    "np.random.seed(seed)\n",
    "tf.set_random_seed(seed)"
   ]
  },
  {
   "cell_type": "code",
   "execution_count": 4,
   "metadata": {},
   "outputs": [],
   "source": [
    "# x, y의 데이터 값\n",
    "x_data = np.array([[2, 3],[4, 3],[6, 4],[8, 6],[10, 7],[12, 8],[14, 9]]) \n",
    "y_data = np.array([0, 0, 0, 1, 1, 1, 1]).reshape(7, 1)"
   ]
  },
  {
   "cell_type": "code",
   "execution_count": 5,
   "metadata": {},
   "outputs": [
    {
     "name": "stdout",
     "output_type": "stream",
     "text": [
      "(7, 2) (7, 1)\n"
     ]
    }
   ],
   "source": [
    "print(x_data.shape, y_data.shape)"
   ]
  },
  {
   "cell_type": "code",
   "execution_count": 6,
   "metadata": {},
   "outputs": [],
   "source": [
    "# 입력 값을 플레이스 홀더에 저장\n",
    "X = tf.placeholder(tf.float64, shape=[None, 2])\n",
    "Y = tf.placeholder(tf.float64, shape=[None, 1])"
   ]
  },
  {
   "cell_type": "code",
   "execution_count": 7,
   "metadata": {},
   "outputs": [],
   "source": [
    "# 웨이트 w와 바이어스 b의 값을 임의로 정함 \n",
    "w = tf.Variable(tf.random_uniform([2,1], dtype=tf.float64)) \n",
    "# [2,1] 의미: 들어오는 값은 2개, 나가는 값은 1개\n",
    "b = tf.Variable(tf.random_uniform([1], dtype=tf.float64))"
   ]
  },
  {
   "cell_type": "code",
   "execution_count": 8,
   "metadata": {},
   "outputs": [],
   "source": [
    "# y 시그모이드 함수의 방정식을 세움\n",
    "yhat = tf.sigmoid(tf.matmul(X, w) + b)"
   ]
  },
  {
   "cell_type": "code",
   "execution_count": 9,
   "metadata": {},
   "outputs": [],
   "source": [
    "# 오차를 구하는 함수\n",
    "loss = -tf.reduce_mean(Y * tf.log(yhat) + (1 - Y) * tf.log(1 - yhat))"
   ]
  },
  {
   "cell_type": "code",
   "execution_count": 10,
   "metadata": {},
   "outputs": [],
   "source": [
    "# 학습률 값\n",
    "learning_rate=0.1"
   ]
  },
  {
   "cell_type": "code",
   "execution_count": 11,
   "metadata": {},
   "outputs": [],
   "source": [
    "# 오차를 최소로 하는 값 찾기\n",
    "gradient_decent = tf.train.GradientDescentOptimizer(learning_rate).minimize(loss)"
   ]
  },
  {
   "cell_type": "code",
   "execution_count": 12,
   "metadata": {},
   "outputs": [],
   "source": [
    "predicted = tf.cast(yhat > 0.5, dtype=tf.float64)\n",
    "accuracy = tf.reduce_mean(tf.cast(tf.equal(predicted, Y), dtype=tf.float64))"
   ]
  },
  {
   "cell_type": "code",
   "execution_count": 14,
   "metadata": {},
   "outputs": [
    {
     "name": "stdout",
     "output_type": "stream",
     "text": [
      "step=300, w1=0.8426, w2=-0.5997, b=-2.3907, loss=0.2694\n",
      "step=600, w1=0.8348, w2=-0.3166, b=-3.8630, loss=0.1932\n",
      "step=900, w1=0.7423, w2=0.0153, b=-4.9311, loss=0.1510\n",
      "step=1200, w1=0.6372, w2=0.3245, b=-5.7765, loss=0.1235\n",
      "step=1500, w1=0.5373, w2=0.5996, b=-6.4775, loss=0.1042\n",
      "step=1800, w1=0.4471, w2=0.8421, b=-7.0768, loss=0.0900\n",
      "step=2100, w1=0.3670, w2=1.0561, b=-7.6003, loss=0.0791\n",
      "step=2400, w1=0.2962, w2=1.2458, b=-8.0652, loss=0.0705\n",
      "step=2700, w1=0.2336, w2=1.4152, b=-8.4834, loss=0.0636\n",
      "step=3000, w1=0.1779, w2=1.5675, b=-8.8635, loss=0.0579\n",
      "공부한 시간: 7, 과외 수업 횟수: 6\n",
      "합격 가능성:  85.66 %\n"
     ]
    }
   ],
   "source": [
    "# 학습\n",
    "with tf.Session() as sess:\n",
    "    sess.run(tf.global_variables_initializer())\n",
    "\n",
    "    for i in range(3001):\n",
    "        w_, b_, loss_, _ = sess.run([w, b, loss, gradient_decent], \n",
    "                                    feed_dict={X: x_data, Y: y_data})\n",
    "        if (i + 1) % 300 == 0:\n",
    "            print(\"step=%d, w1=%.4f, w2=%.4f, b=%.4f, loss=%.4f\" % \n",
    "                  (i + 1, w_[0], w_[1], b_, loss_))\n",
    "\n",
    "# 어떻게 활용하는가\n",
    "    new_x = np.array([7, 6.]).reshape(1, 2)  # [7, 6]은 각각 공부한 시간과 과외 수업 횟수\n",
    "    new_y = sess.run(yhat, feed_dict={X: new_x})\n",
    "\n",
    "    print(\"공부한 시간: %d, 과외 수업 횟수: %d\" % (new_x[:,0], new_x[:,1]))\n",
    "    print(\"합격 가능성: %6.2f %%\" % (new_y*100))"
   ]
  },
  {
   "cell_type": "markdown",
   "metadata": {},
   "source": [
    "### 계산으로 확인"
   ]
  },
  {
   "cell_type": "code",
   "execution_count": 15,
   "metadata": {},
   "outputs": [],
   "source": [
    "m1 = np.array([7, 6.]).reshape(1, 2)\n",
    "m2 = np.array([0.1779, 1.5675]).reshape(2, 1)"
   ]
  },
  {
   "cell_type": "code",
   "execution_count": 16,
   "metadata": {},
   "outputs": [
    {
     "data": {
      "text/plain": [
       "array([[10.6503]])"
      ]
     },
     "execution_count": 16,
     "metadata": {},
     "output_type": "execute_result"
    }
   ],
   "source": [
    "np.matmul(m1, m2)"
   ]
  },
  {
   "cell_type": "code",
   "execution_count": 17,
   "metadata": {},
   "outputs": [],
   "source": [
    "def sigmoid(x):\n",
    "    return 1/(1 + np.exp(-x))"
   ]
  },
  {
   "cell_type": "code",
   "execution_count": 18,
   "metadata": {},
   "outputs": [
    {
     "name": "stdout",
     "output_type": "stream",
     "text": [
      "0.8565344988956533\n"
     ]
    }
   ],
   "source": [
    "print(sigmoid(10.6503 - 8.8635))"
   ]
  },
  {
   "cell_type": "code",
   "execution_count": null,
   "metadata": {},
   "outputs": [],
   "source": []
  }
 ],
 "metadata": {
  "kernelspec": {
   "display_name": "Python 3",
   "language": "python",
   "name": "python3"
  },
  "language_info": {
   "codemirror_mode": {
    "name": "ipython",
    "version": 3
   },
   "file_extension": ".py",
   "mimetype": "text/x-python",
   "name": "python",
   "nbconvert_exporter": "python",
   "pygments_lexer": "ipython3",
   "version": "3.7.7"
  }
 },
 "nbformat": 4,
 "nbformat_minor": 4
}
